{
 "cells": [
  {
   "cell_type": "markdown",
   "metadata": {},
   "source": [
    "Задача: выделить лояльных покупателей (кластеризация).  "
   ]
  },
  {
   "cell_type": "code",
   "execution_count": 1,
   "metadata": {},
   "outputs": [],
   "source": [
    "# обработка данных\n",
    "import numpy as np\n",
    "import pandas as pd\n",
    "\n",
    "# визуализация\n",
    "import matplotlib.pyplot as plt\n",
    "%matplotlib inline\n",
    "import seaborn as sns; sns.set()\n",
    "\n",
    "# обучение и оценка\n",
    "from sklearn.preprocessing import StandardScaler\n",
    "from scipy.spatial.distance import cdist\n",
    "from sklearn.cluster import KMeans\n",
    "from sklearn.metrics import silhouette_score"
   ]
  },
  {
   "cell_type": "markdown",
   "metadata": {},
   "source": [
    " "
   ]
  },
  {
   "cell_type": "markdown",
   "metadata": {},
   "source": [
    "План работы:    \n",
    "\n",
    "**0. Загрузка и подготовка данных**  \n",
    "**1. Разведочный анализ**  \n",
    "- 1.1. Доставленные/отмененные\n",
    "- 1.2. Категории  \n",
    "- 1.3. Регионы  \n",
    "- 1.4. Доставленные: общий доход на покупателя, средний чек, количество покупок, частота, выбросы и аномалии:   \n",
    "        1.4а. Общая сумма по деньгам на каждого покупателя  \n",
    "        1.4б. Средний чек на каждого покупателя  \n",
    "        1.4в. Частота покупки на каждого покупателя  \n",
    "        1.4г. Разнообразие товарных категорий на каждого покупателя\n",
    "        1.4д. Пересечение выбросов по общей сумме, среднему чеку и частоте заказов   \n",
    "- 1.5. Выводы по разведочному анализу  \n",
    "\n",
    "**2. Бизнес-метрики**  \n",
    "- 2.1. Расчет CRR, CR, ACL + изменение количества покупателей  \n",
    "- 2.2. Расчет RPR, AOV, PF, CV  \n",
    "- 2.3. Единая таблица и анализ метрик  \n",
    "- 2.4. Выводы по бизнес-метрикам  \n",
    "\n",
    "**3. Выделение лояльных покупателей, критерии и оценка**  \n",
    "- 3.1. Расчет кластеризующих показателей  \n",
    "- 3.2. Алгоритм kmeans для выделения лояльных  \n",
    "- 3.3. Проверка кластеризации на бизнес-логику  \n",
    "- 3.4. Выводы по кластеризации  "
   ]
  },
  {
   "cell_type": "markdown",
   "metadata": {},
   "source": [
    "# 0. Загрузка и подготовка данных"
   ]
  },
  {
   "cell_type": "code",
   "execution_count": 2,
   "metadata": {},
   "outputs": [
    {
     "data": {
      "text/html": [
       "<div>\n",
       "<style scoped>\n",
       "    .dataframe tbody tr th:only-of-type {\n",
       "        vertical-align: middle;\n",
       "    }\n",
       "\n",
       "    .dataframe tbody tr th {\n",
       "        vertical-align: top;\n",
       "    }\n",
       "\n",
       "    .dataframe thead th {\n",
       "        text-align: right;\n",
       "    }\n",
       "</style>\n",
       "<table border=\"1\" class=\"dataframe\">\n",
       "  <thead>\n",
       "    <tr style=\"text-align: right;\">\n",
       "      <th></th>\n",
       "      <th>creation_date</th>\n",
       "      <th>region_id</th>\n",
       "      <th>customer_id</th>\n",
       "      <th>order_id</th>\n",
       "      <th>order_status</th>\n",
       "      <th>category_id</th>\n",
       "      <th>order_sum</th>\n",
       "      <th>items_qty</th>\n",
       "    </tr>\n",
       "  </thead>\n",
       "  <tbody>\n",
       "    <tr>\n",
       "      <th>0</th>\n",
       "      <td>27.11.2019</td>\n",
       "      <td>1200</td>\n",
       "      <td>1001320890</td>\n",
       "      <td>21929828</td>\n",
       "      <td>DELIVERED</td>\n",
       "      <td>7</td>\n",
       "      <td>824</td>\n",
       "      <td>1</td>\n",
       "    </tr>\n",
       "    <tr>\n",
       "      <th>1</th>\n",
       "      <td>04.11.2018</td>\n",
       "      <td>150</td>\n",
       "      <td>241257124</td>\n",
       "      <td>8127000</td>\n",
       "      <td>DELIVERED</td>\n",
       "      <td>4</td>\n",
       "      <td>1199</td>\n",
       "      <td>2</td>\n",
       "    </tr>\n",
       "    <tr>\n",
       "      <th>2</th>\n",
       "      <td>23.01.2019</td>\n",
       "      <td>1125</td>\n",
       "      <td>399269970</td>\n",
       "      <td>9669842</td>\n",
       "      <td>DELIVERED</td>\n",
       "      <td>4</td>\n",
       "      <td>618</td>\n",
       "      <td>1</td>\n",
       "    </tr>\n",
       "    <tr>\n",
       "      <th>3</th>\n",
       "      <td>15.10.2019</td>\n",
       "      <td>100</td>\n",
       "      <td>654445333</td>\n",
       "      <td>18865900</td>\n",
       "      <td>DELIVERED</td>\n",
       "      <td>14</td>\n",
       "      <td>1394</td>\n",
       "      <td>1</td>\n",
       "    </tr>\n",
       "    <tr>\n",
       "      <th>4</th>\n",
       "      <td>30.01.2019</td>\n",
       "      <td>875</td>\n",
       "      <td>770011847</td>\n",
       "      <td>9793312</td>\n",
       "      <td>DELIVERED</td>\n",
       "      <td>2</td>\n",
       "      <td>4115</td>\n",
       "      <td>1</td>\n",
       "    </tr>\n",
       "    <tr>\n",
       "      <th>...</th>\n",
       "      <td>...</td>\n",
       "      <td>...</td>\n",
       "      <td>...</td>\n",
       "      <td>...</td>\n",
       "      <td>...</td>\n",
       "      <td>...</td>\n",
       "      <td>...</td>\n",
       "      <td>...</td>\n",
       "    </tr>\n",
       "    <tr>\n",
       "      <th>692918</th>\n",
       "      <td>21.12.2019</td>\n",
       "      <td>1225</td>\n",
       "      <td>890928366</td>\n",
       "      <td>24365774</td>\n",
       "      <td>CANCELLED</td>\n",
       "      <td>16</td>\n",
       "      <td>32703</td>\n",
       "      <td>1</td>\n",
       "    </tr>\n",
       "    <tr>\n",
       "      <th>692919</th>\n",
       "      <td>19.07.2019</td>\n",
       "      <td>1625</td>\n",
       "      <td>592611351</td>\n",
       "      <td>15152708</td>\n",
       "      <td>DELIVERED</td>\n",
       "      <td>5</td>\n",
       "      <td>1285</td>\n",
       "      <td>2</td>\n",
       "    </tr>\n",
       "    <tr>\n",
       "      <th>692920</th>\n",
       "      <td>22.09.2019</td>\n",
       "      <td>225</td>\n",
       "      <td>979695977</td>\n",
       "      <td>17688720</td>\n",
       "      <td>CANCELLED</td>\n",
       "      <td>4</td>\n",
       "      <td>877</td>\n",
       "      <td>1</td>\n",
       "    </tr>\n",
       "    <tr>\n",
       "      <th>692921</th>\n",
       "      <td>08.02.2019</td>\n",
       "      <td>1125</td>\n",
       "      <td>786541666</td>\n",
       "      <td>9952064</td>\n",
       "      <td>CANCELLED</td>\n",
       "      <td>15</td>\n",
       "      <td>2652</td>\n",
       "      <td>2</td>\n",
       "    </tr>\n",
       "    <tr>\n",
       "      <th>692922</th>\n",
       "      <td>04.03.2019</td>\n",
       "      <td>875</td>\n",
       "      <td>825213778</td>\n",
       "      <td>10798784</td>\n",
       "      <td>CANCELLED</td>\n",
       "      <td>2</td>\n",
       "      <td>1090</td>\n",
       "      <td>1</td>\n",
       "    </tr>\n",
       "  </tbody>\n",
       "</table>\n",
       "<p>692923 rows × 8 columns</p>\n",
       "</div>"
      ],
      "text/plain": [
       "       creation_date  region_id  customer_id  order_id order_status  \\\n",
       "0         27.11.2019       1200   1001320890  21929828    DELIVERED   \n",
       "1         04.11.2018        150    241257124   8127000    DELIVERED   \n",
       "2         23.01.2019       1125    399269970   9669842    DELIVERED   \n",
       "3         15.10.2019        100    654445333  18865900    DELIVERED   \n",
       "4         30.01.2019        875    770011847   9793312    DELIVERED   \n",
       "...              ...        ...          ...       ...          ...   \n",
       "692918    21.12.2019       1225    890928366  24365774    CANCELLED   \n",
       "692919    19.07.2019       1625    592611351  15152708    DELIVERED   \n",
       "692920    22.09.2019        225    979695977  17688720    CANCELLED   \n",
       "692921    08.02.2019       1125    786541666   9952064    CANCELLED   \n",
       "692922    04.03.2019        875    825213778  10798784    CANCELLED   \n",
       "\n",
       "        category_id  order_sum  items_qty  \n",
       "0                 7        824          1  \n",
       "1                 4       1199          2  \n",
       "2                 4        618          1  \n",
       "3                14       1394          1  \n",
       "4                 2       4115          1  \n",
       "...             ...        ...        ...  \n",
       "692918           16      32703          1  \n",
       "692919            5       1285          2  \n",
       "692920            4        877          1  \n",
       "692921           15       2652          2  \n",
       "692922            2       1090          1  \n",
       "\n",
       "[692923 rows x 8 columns]"
      ]
     },
     "execution_count": 2,
     "metadata": {},
     "output_type": "execute_result"
    }
   ],
   "source": [
    "# загрузим данные\n",
    "\n",
    "df = pd.read_csv('D:\\\\Work\\\\data\\\\marketplace\\\\test_data.csv', sep=';')\n",
    "df"
   ]
  },
  {
   "cell_type": "code",
   "execution_count": 3,
   "metadata": {},
   "outputs": [
    {
     "data": {
      "text/html": [
       "<div>\n",
       "<style scoped>\n",
       "    .dataframe tbody tr th:only-of-type {\n",
       "        vertical-align: middle;\n",
       "    }\n",
       "\n",
       "    .dataframe tbody tr th {\n",
       "        vertical-align: top;\n",
       "    }\n",
       "\n",
       "    .dataframe thead th {\n",
       "        text-align: right;\n",
       "    }\n",
       "</style>\n",
       "<table border=\"1\" class=\"dataframe\">\n",
       "  <thead>\n",
       "    <tr style=\"text-align: right;\">\n",
       "      <th></th>\n",
       "      <th>creation_date</th>\n",
       "      <th>Year</th>\n",
       "      <th>Month</th>\n",
       "      <th>region_id</th>\n",
       "      <th>customer_id</th>\n",
       "      <th>order_id</th>\n",
       "      <th>order_status</th>\n",
       "      <th>category_id</th>\n",
       "      <th>order_sum</th>\n",
       "      <th>items_qty</th>\n",
       "    </tr>\n",
       "  </thead>\n",
       "  <tbody>\n",
       "    <tr>\n",
       "      <th>102217</th>\n",
       "      <td>2018-01-11</td>\n",
       "      <td>2018</td>\n",
       "      <td>1</td>\n",
       "      <td>975</td>\n",
       "      <td>239654800</td>\n",
       "      <td>8097264</td>\n",
       "      <td>DELIVERED</td>\n",
       "      <td>2</td>\n",
       "      <td>9397</td>\n",
       "      <td>1</td>\n",
       "    </tr>\n",
       "    <tr>\n",
       "      <th>283472</th>\n",
       "      <td>2018-01-11</td>\n",
       "      <td>2018</td>\n",
       "      <td>1</td>\n",
       "      <td>24275</td>\n",
       "      <td>759823047</td>\n",
       "      <td>8101192</td>\n",
       "      <td>DELIVERED</td>\n",
       "      <td>16</td>\n",
       "      <td>4550</td>\n",
       "      <td>1</td>\n",
       "    </tr>\n",
       "    <tr>\n",
       "      <th>361814</th>\n",
       "      <td>2018-01-11</td>\n",
       "      <td>2018</td>\n",
       "      <td>1</td>\n",
       "      <td>950</td>\n",
       "      <td>369653207</td>\n",
       "      <td>8101736</td>\n",
       "      <td>DELIVERED</td>\n",
       "      <td>16</td>\n",
       "      <td>7499</td>\n",
       "      <td>1</td>\n",
       "    </tr>\n",
       "    <tr>\n",
       "      <th>404926</th>\n",
       "      <td>2018-01-11</td>\n",
       "      <td>2018</td>\n",
       "      <td>1</td>\n",
       "      <td>225</td>\n",
       "      <td>542496200</td>\n",
       "      <td>8102704</td>\n",
       "      <td>CANCELLED</td>\n",
       "      <td>13</td>\n",
       "      <td>680</td>\n",
       "      <td>3</td>\n",
       "    </tr>\n",
       "    <tr>\n",
       "      <th>638139</th>\n",
       "      <td>2018-01-11</td>\n",
       "      <td>2018</td>\n",
       "      <td>1</td>\n",
       "      <td>1150</td>\n",
       "      <td>78347063</td>\n",
       "      <td>8099890</td>\n",
       "      <td>CANCELLED</td>\n",
       "      <td>16</td>\n",
       "      <td>14593</td>\n",
       "      <td>1</td>\n",
       "    </tr>\n",
       "    <tr>\n",
       "      <th>...</th>\n",
       "      <td>...</td>\n",
       "      <td>...</td>\n",
       "      <td>...</td>\n",
       "      <td>...</td>\n",
       "      <td>...</td>\n",
       "      <td>...</td>\n",
       "      <td>...</td>\n",
       "      <td>...</td>\n",
       "      <td>...</td>\n",
       "      <td>...</td>\n",
       "    </tr>\n",
       "    <tr>\n",
       "      <th>264522</th>\n",
       "      <td>2019-12-31</td>\n",
       "      <td>2019</td>\n",
       "      <td>12</td>\n",
       "      <td>1175</td>\n",
       "      <td>462447886</td>\n",
       "      <td>25209092</td>\n",
       "      <td>DELIVERED</td>\n",
       "      <td>16</td>\n",
       "      <td>27286</td>\n",
       "      <td>1</td>\n",
       "    </tr>\n",
       "    <tr>\n",
       "      <th>409150</th>\n",
       "      <td>2019-12-31</td>\n",
       "      <td>2019</td>\n",
       "      <td>12</td>\n",
       "      <td>24175</td>\n",
       "      <td>1010429215</td>\n",
       "      <td>25204122</td>\n",
       "      <td>DELIVERED</td>\n",
       "      <td>12</td>\n",
       "      <td>4981</td>\n",
       "      <td>1</td>\n",
       "    </tr>\n",
       "    <tr>\n",
       "      <th>264566</th>\n",
       "      <td>2019-12-31</td>\n",
       "      <td>2019</td>\n",
       "      <td>12</td>\n",
       "      <td>1075</td>\n",
       "      <td>93562625</td>\n",
       "      <td>25203548</td>\n",
       "      <td>DELIVERED</td>\n",
       "      <td>16</td>\n",
       "      <td>1893</td>\n",
       "      <td>1</td>\n",
       "    </tr>\n",
       "    <tr>\n",
       "      <th>301504</th>\n",
       "      <td>2019-12-31</td>\n",
       "      <td>2019</td>\n",
       "      <td>12</td>\n",
       "      <td>1100</td>\n",
       "      <td>574149524</td>\n",
       "      <td>25217628</td>\n",
       "      <td>CANCELLED</td>\n",
       "      <td>16</td>\n",
       "      <td>9038</td>\n",
       "      <td>1</td>\n",
       "    </tr>\n",
       "    <tr>\n",
       "      <th>446138</th>\n",
       "      <td>2019-12-31</td>\n",
       "      <td>2019</td>\n",
       "      <td>12</td>\n",
       "      <td>1550</td>\n",
       "      <td>1012425558</td>\n",
       "      <td>25201232</td>\n",
       "      <td>CANCELLED</td>\n",
       "      <td>9</td>\n",
       "      <td>1098</td>\n",
       "      <td>1</td>\n",
       "    </tr>\n",
       "  </tbody>\n",
       "</table>\n",
       "<p>692923 rows × 10 columns</p>\n",
       "</div>"
      ],
      "text/plain": [
       "       creation_date  Year  Month  region_id  customer_id  order_id  \\\n",
       "102217    2018-01-11  2018      1        975    239654800   8097264   \n",
       "283472    2018-01-11  2018      1      24275    759823047   8101192   \n",
       "361814    2018-01-11  2018      1        950    369653207   8101736   \n",
       "404926    2018-01-11  2018      1        225    542496200   8102704   \n",
       "638139    2018-01-11  2018      1       1150     78347063   8099890   \n",
       "...              ...   ...    ...        ...          ...       ...   \n",
       "264522    2019-12-31  2019     12       1175    462447886  25209092   \n",
       "409150    2019-12-31  2019     12      24175   1010429215  25204122   \n",
       "264566    2019-12-31  2019     12       1075     93562625  25203548   \n",
       "301504    2019-12-31  2019     12       1100    574149524  25217628   \n",
       "446138    2019-12-31  2019     12       1550   1012425558  25201232   \n",
       "\n",
       "       order_status  category_id  order_sum  items_qty  \n",
       "102217    DELIVERED            2       9397          1  \n",
       "283472    DELIVERED           16       4550          1  \n",
       "361814    DELIVERED           16       7499          1  \n",
       "404926    CANCELLED           13        680          3  \n",
       "638139    CANCELLED           16      14593          1  \n",
       "...             ...          ...        ...        ...  \n",
       "264522    DELIVERED           16      27286          1  \n",
       "409150    DELIVERED           12       4981          1  \n",
       "264566    DELIVERED           16       1893          1  \n",
       "301504    CANCELLED           16       9038          1  \n",
       "446138    CANCELLED            9       1098          1  \n",
       "\n",
       "[692923 rows x 10 columns]"
      ]
     },
     "execution_count": 3,
     "metadata": {},
     "output_type": "execute_result"
    }
   ],
   "source": [
    "# добавим отдельными столбцами номера годов и месяцев (работать будем с помесячными данными)\n",
    "\n",
    "df['creation_date'] = pd.to_datetime(df['creation_date'])\n",
    "df.sort_values(by='creation_date', inplace=True)\n",
    "df_month = pd.DatetimeIndex(df['creation_date']).month\n",
    "df_year = pd.DatetimeIndex(df['creation_date']).year\n",
    "df.insert(1, 'Year', pd.DatetimeIndex(df['creation_date']).year)\n",
    "df.insert(2, 'Month', pd.DatetimeIndex(df['creation_date']).month)\n",
    "df"
   ]
  },
  {
   "cell_type": "code",
   "execution_count": 4,
   "metadata": {},
   "outputs": [
    {
     "name": "stdout",
     "output_type": "stream",
     "text": [
      "<class 'pandas.core.frame.DataFrame'>\n",
      "Int64Index: 692923 entries, 102217 to 446138\n",
      "Data columns (total 10 columns):\n",
      " #   Column         Non-Null Count   Dtype         \n",
      "---  ------         --------------   -----         \n",
      " 0   creation_date  692923 non-null  datetime64[ns]\n",
      " 1   Year           692923 non-null  int64         \n",
      " 2   Month          692923 non-null  int64         \n",
      " 3   region_id      692923 non-null  int64         \n",
      " 4   customer_id    692923 non-null  int64         \n",
      " 5   order_id       692923 non-null  int64         \n",
      " 6   order_status   692923 non-null  object        \n",
      " 7   category_id    692923 non-null  int64         \n",
      " 8   order_sum      692923 non-null  int64         \n",
      " 9   items_qty      692923 non-null  int64         \n",
      "dtypes: datetime64[ns](1), int64(8), object(1)\n",
      "memory usage: 58.2+ MB\n"
     ]
    }
   ],
   "source": [
    "# пропусков в данных нет, хорошо\n",
    "\n",
    "df.info() "
   ]
  },
  {
   "cell_type": "markdown",
   "metadata": {},
   "source": [
    "# 1. Разведочный анализ"
   ]
  },
  {
   "cell_type": "markdown",
   "metadata": {},
   "source": [
    "Перед решением задачи определения критериев лояльности и собственно лояльных покупателей разберемся с природой данных, их распределением, посмотрим под разными углами."
   ]
  },
  {
   "cell_type": "code",
   "execution_count": 5,
   "metadata": {},
   "outputs": [
    {
     "data": {
      "text/html": [
       "<div>\n",
       "<style scoped>\n",
       "    .dataframe tbody tr th:only-of-type {\n",
       "        vertical-align: middle;\n",
       "    }\n",
       "\n",
       "    .dataframe tbody tr th {\n",
       "        vertical-align: top;\n",
       "    }\n",
       "\n",
       "    .dataframe thead th {\n",
       "        text-align: right;\n",
       "    }\n",
       "</style>\n",
       "<table border=\"1\" class=\"dataframe\">\n",
       "  <thead>\n",
       "    <tr style=\"text-align: right;\">\n",
       "      <th></th>\n",
       "      <th>Year</th>\n",
       "      <th>Month</th>\n",
       "      <th>region_id</th>\n",
       "      <th>customer_id</th>\n",
       "      <th>order_id</th>\n",
       "      <th>category_id</th>\n",
       "      <th>order_sum</th>\n",
       "      <th>items_qty</th>\n",
       "    </tr>\n",
       "  </thead>\n",
       "  <tbody>\n",
       "    <tr>\n",
       "      <th>count</th>\n",
       "      <td>692923.000000</td>\n",
       "      <td>692923.000000</td>\n",
       "      <td>6.929230e+05</td>\n",
       "      <td>6.929230e+05</td>\n",
       "      <td>6.929230e+05</td>\n",
       "      <td>692923.000000</td>\n",
       "      <td>692923.000000</td>\n",
       "      <td>692923.000000</td>\n",
       "    </tr>\n",
       "    <tr>\n",
       "      <th>mean</th>\n",
       "      <td>2018.929693</td>\n",
       "      <td>7.679060</td>\n",
       "      <td>2.547322e+04</td>\n",
       "      <td>5.134243e+08</td>\n",
       "      <td>1.649899e+07</td>\n",
       "      <td>9.641363</td>\n",
       "      <td>4569.446638</td>\n",
       "      <td>2.338824</td>\n",
       "    </tr>\n",
       "    <tr>\n",
       "      <th>std</th>\n",
       "      <td>0.255663</td>\n",
       "      <td>3.419272</td>\n",
       "      <td>1.812835e+05</td>\n",
       "      <td>3.302782e+08</td>\n",
       "      <td>4.706847e+06</td>\n",
       "      <td>5.007958</td>\n",
       "      <td>8183.647841</td>\n",
       "      <td>4.995050</td>\n",
       "    </tr>\n",
       "    <tr>\n",
       "      <th>min</th>\n",
       "      <td>2018.000000</td>\n",
       "      <td>1.000000</td>\n",
       "      <td>1.000000e+02</td>\n",
       "      <td>1.111301e+07</td>\n",
       "      <td>8.094900e+06</td>\n",
       "      <td>1.000000</td>\n",
       "      <td>501.000000</td>\n",
       "      <td>1.000000</td>\n",
       "    </tr>\n",
       "    <tr>\n",
       "      <th>25%</th>\n",
       "      <td>2019.000000</td>\n",
       "      <td>5.000000</td>\n",
       "      <td>9.250000e+02</td>\n",
       "      <td>1.853722e+08</td>\n",
       "      <td>1.281755e+07</td>\n",
       "      <td>4.000000</td>\n",
       "      <td>1090.000000</td>\n",
       "      <td>1.000000</td>\n",
       "    </tr>\n",
       "    <tr>\n",
       "      <th>50%</th>\n",
       "      <td>2019.000000</td>\n",
       "      <td>8.000000</td>\n",
       "      <td>1.075000e+03</td>\n",
       "      <td>5.418100e+08</td>\n",
       "      <td>1.641341e+07</td>\n",
       "      <td>11.000000</td>\n",
       "      <td>2167.000000</td>\n",
       "      <td>1.000000</td>\n",
       "    </tr>\n",
       "    <tr>\n",
       "      <th>75%</th>\n",
       "      <td>2019.000000</td>\n",
       "      <td>11.000000</td>\n",
       "      <td>1.225000e+03</td>\n",
       "      <td>8.377089e+08</td>\n",
       "      <td>2.030431e+07</td>\n",
       "      <td>14.000000</td>\n",
       "      <td>4517.000000</td>\n",
       "      <td>2.000000</td>\n",
       "    </tr>\n",
       "    <tr>\n",
       "      <th>max</th>\n",
       "      <td>2019.000000</td>\n",
       "      <td>12.000000</td>\n",
       "      <td>2.464350e+06</td>\n",
       "      <td>1.038556e+09</td>\n",
       "      <td>2.521999e+07</td>\n",
       "      <td>16.000000</td>\n",
       "      <td>263087.000000</td>\n",
       "      <td>392.000000</td>\n",
       "    </tr>\n",
       "  </tbody>\n",
       "</table>\n",
       "</div>"
      ],
      "text/plain": [
       "                Year          Month     region_id   customer_id      order_id  \\\n",
       "count  692923.000000  692923.000000  6.929230e+05  6.929230e+05  6.929230e+05   \n",
       "mean     2018.929693       7.679060  2.547322e+04  5.134243e+08  1.649899e+07   \n",
       "std         0.255663       3.419272  1.812835e+05  3.302782e+08  4.706847e+06   \n",
       "min      2018.000000       1.000000  1.000000e+02  1.111301e+07  8.094900e+06   \n",
       "25%      2019.000000       5.000000  9.250000e+02  1.853722e+08  1.281755e+07   \n",
       "50%      2019.000000       8.000000  1.075000e+03  5.418100e+08  1.641341e+07   \n",
       "75%      2019.000000      11.000000  1.225000e+03  8.377089e+08  2.030431e+07   \n",
       "max      2019.000000      12.000000  2.464350e+06  1.038556e+09  2.521999e+07   \n",
       "\n",
       "         category_id      order_sum      items_qty  \n",
       "count  692923.000000  692923.000000  692923.000000  \n",
       "mean        9.641363    4569.446638       2.338824  \n",
       "std         5.007958    8183.647841       4.995050  \n",
       "min         1.000000     501.000000       1.000000  \n",
       "25%         4.000000    1090.000000       1.000000  \n",
       "50%        11.000000    2167.000000       1.000000  \n",
       "75%        14.000000    4517.000000       2.000000  \n",
       "max        16.000000  263087.000000     392.000000  "
      ]
     },
     "execution_count": 5,
     "metadata": {},
     "output_type": "execute_result"
    }
   ],
   "source": [
    "# в сумме заказа (order_sum) большой размах (max - min) и std почти в два раза отклоняется от среднего - наверняка есть выбросы\n",
    "\n",
    "df.describe()"
   ]
  },
  {
   "cell_type": "code",
   "execution_count": 6,
   "metadata": {},
   "outputs": [
    {
     "name": "stdout",
     "output_type": "stream",
     "text": [
      "Первая дата в данных: 2018-01-11 00:00:00\n",
      "Последняя дата в данных: 2019-12-31 00:00:00\n"
     ]
    }
   ],
   "source": [
    "# за какой период данные? 14 месяцев, похоже почти с самого открытия в конце октября 2018\n",
    "\n",
    "print('Первая дата в данных:', min(df['creation_date']))\n",
    "print('Последняя дата в данных:', max(df['creation_date']))"
   ]
  },
  {
   "cell_type": "code",
   "execution_count": 7,
   "metadata": {},
   "outputs": [
    {
     "data": {
      "text/html": [
       "<div>\n",
       "<style scoped>\n",
       "    .dataframe tbody tr th:only-of-type {\n",
       "        vertical-align: middle;\n",
       "    }\n",
       "\n",
       "    .dataframe tbody tr th {\n",
       "        vertical-align: top;\n",
       "    }\n",
       "\n",
       "    .dataframe thead th {\n",
       "        text-align: right;\n",
       "    }\n",
       "</style>\n",
       "<table border=\"1\" class=\"dataframe\">\n",
       "  <thead>\n",
       "    <tr style=\"text-align: right;\">\n",
       "      <th></th>\n",
       "      <th>creation_date</th>\n",
       "      <th>Year</th>\n",
       "      <th>Month</th>\n",
       "      <th>region_id</th>\n",
       "      <th>customer_id</th>\n",
       "      <th>order_id</th>\n",
       "      <th>order_status</th>\n",
       "      <th>category_id</th>\n",
       "      <th>order_sum</th>\n",
       "      <th>items_qty</th>\n",
       "    </tr>\n",
       "  </thead>\n",
       "  <tbody>\n",
       "    <tr>\n",
       "      <th>529604</th>\n",
       "      <td>2019-01-01</td>\n",
       "      <td>2019</td>\n",
       "      <td>1</td>\n",
       "      <td>1175</td>\n",
       "      <td>759894626</td>\n",
       "      <td>9264274</td>\n",
       "      <td>DELIVERED</td>\n",
       "      <td>16</td>\n",
       "      <td>8021</td>\n",
       "      <td>1</td>\n",
       "    </tr>\n",
       "    <tr>\n",
       "      <th>486762</th>\n",
       "      <td>2019-01-01</td>\n",
       "      <td>2019</td>\n",
       "      <td>1</td>\n",
       "      <td>1175</td>\n",
       "      <td>38345282</td>\n",
       "      <td>9268482</td>\n",
       "      <td>CANCELLED</td>\n",
       "      <td>5</td>\n",
       "      <td>888</td>\n",
       "      <td>1</td>\n",
       "    </tr>\n",
       "    <tr>\n",
       "      <th>304498</th>\n",
       "      <td>2019-01-01</td>\n",
       "      <td>2019</td>\n",
       "      <td>1</td>\n",
       "      <td>1125</td>\n",
       "      <td>773011457</td>\n",
       "      <td>9265582</td>\n",
       "      <td>DELIVERED</td>\n",
       "      <td>16</td>\n",
       "      <td>8191</td>\n",
       "      <td>1</td>\n",
       "    </tr>\n",
       "    <tr>\n",
       "      <th>250381</th>\n",
       "      <td>2019-01-01</td>\n",
       "      <td>2019</td>\n",
       "      <td>1</td>\n",
       "      <td>1125</td>\n",
       "      <td>774046027</td>\n",
       "      <td>9266234</td>\n",
       "      <td>DELIVERED</td>\n",
       "      <td>16</td>\n",
       "      <td>8191</td>\n",
       "      <td>1</td>\n",
       "    </tr>\n",
       "    <tr>\n",
       "      <th>528016</th>\n",
       "      <td>2019-01-01</td>\n",
       "      <td>2019</td>\n",
       "      <td>1</td>\n",
       "      <td>1225</td>\n",
       "      <td>686211918</td>\n",
       "      <td>9271396</td>\n",
       "      <td>DELIVERED</td>\n",
       "      <td>12</td>\n",
       "      <td>8434</td>\n",
       "      <td>1</td>\n",
       "    </tr>\n",
       "    <tr>\n",
       "      <th>...</th>\n",
       "      <td>...</td>\n",
       "      <td>...</td>\n",
       "      <td>...</td>\n",
       "      <td>...</td>\n",
       "      <td>...</td>\n",
       "      <td>...</td>\n",
       "      <td>...</td>\n",
       "      <td>...</td>\n",
       "      <td>...</td>\n",
       "      <td>...</td>\n",
       "    </tr>\n",
       "    <tr>\n",
       "      <th>264522</th>\n",
       "      <td>2019-12-31</td>\n",
       "      <td>2019</td>\n",
       "      <td>12</td>\n",
       "      <td>1175</td>\n",
       "      <td>462447886</td>\n",
       "      <td>25209092</td>\n",
       "      <td>DELIVERED</td>\n",
       "      <td>16</td>\n",
       "      <td>27286</td>\n",
       "      <td>1</td>\n",
       "    </tr>\n",
       "    <tr>\n",
       "      <th>409150</th>\n",
       "      <td>2019-12-31</td>\n",
       "      <td>2019</td>\n",
       "      <td>12</td>\n",
       "      <td>24175</td>\n",
       "      <td>1010429215</td>\n",
       "      <td>25204122</td>\n",
       "      <td>DELIVERED</td>\n",
       "      <td>12</td>\n",
       "      <td>4981</td>\n",
       "      <td>1</td>\n",
       "    </tr>\n",
       "    <tr>\n",
       "      <th>264566</th>\n",
       "      <td>2019-12-31</td>\n",
       "      <td>2019</td>\n",
       "      <td>12</td>\n",
       "      <td>1075</td>\n",
       "      <td>93562625</td>\n",
       "      <td>25203548</td>\n",
       "      <td>DELIVERED</td>\n",
       "      <td>16</td>\n",
       "      <td>1893</td>\n",
       "      <td>1</td>\n",
       "    </tr>\n",
       "    <tr>\n",
       "      <th>301504</th>\n",
       "      <td>2019-12-31</td>\n",
       "      <td>2019</td>\n",
       "      <td>12</td>\n",
       "      <td>1100</td>\n",
       "      <td>574149524</td>\n",
       "      <td>25217628</td>\n",
       "      <td>CANCELLED</td>\n",
       "      <td>16</td>\n",
       "      <td>9038</td>\n",
       "      <td>1</td>\n",
       "    </tr>\n",
       "    <tr>\n",
       "      <th>446138</th>\n",
       "      <td>2019-12-31</td>\n",
       "      <td>2019</td>\n",
       "      <td>12</td>\n",
       "      <td>1550</td>\n",
       "      <td>1012425558</td>\n",
       "      <td>25201232</td>\n",
       "      <td>CANCELLED</td>\n",
       "      <td>9</td>\n",
       "      <td>1098</td>\n",
       "      <td>1</td>\n",
       "    </tr>\n",
       "  </tbody>\n",
       "</table>\n",
       "<p>644206 rows × 10 columns</p>\n",
       "</div>"
      ],
      "text/plain": [
       "       creation_date  Year  Month  region_id  customer_id  order_id  \\\n",
       "529604    2019-01-01  2019      1       1175    759894626   9264274   \n",
       "486762    2019-01-01  2019      1       1175     38345282   9268482   \n",
       "304498    2019-01-01  2019      1       1125    773011457   9265582   \n",
       "250381    2019-01-01  2019      1       1125    774046027   9266234   \n",
       "528016    2019-01-01  2019      1       1225    686211918   9271396   \n",
       "...              ...   ...    ...        ...          ...       ...   \n",
       "264522    2019-12-31  2019     12       1175    462447886  25209092   \n",
       "409150    2019-12-31  2019     12      24175   1010429215  25204122   \n",
       "264566    2019-12-31  2019     12       1075     93562625  25203548   \n",
       "301504    2019-12-31  2019     12       1100    574149524  25217628   \n",
       "446138    2019-12-31  2019     12       1550   1012425558  25201232   \n",
       "\n",
       "       order_status  category_id  order_sum  items_qty  \n",
       "529604    DELIVERED           16       8021          1  \n",
       "486762    CANCELLED            5        888          1  \n",
       "304498    DELIVERED           16       8191          1  \n",
       "250381    DELIVERED           16       8191          1  \n",
       "528016    DELIVERED           12       8434          1  \n",
       "...             ...          ...        ...        ...  \n",
       "264522    DELIVERED           16      27286          1  \n",
       "409150    DELIVERED           12       4981          1  \n",
       "264566    DELIVERED           16       1893          1  \n",
       "301504    CANCELLED           16       9038          1  \n",
       "446138    CANCELLED            9       1098          1  \n",
       "\n",
       "[644206 rows x 10 columns]"
      ]
     },
     "execution_count": 7,
     "metadata": {},
     "output_type": "execute_result"
    }
   ],
   "source": [
    "# для максимально свежей картины работать будем с 2019 годом, отложим в сторону 2018 год\n",
    "\n",
    "df2018 = df[df['Year'] == 2018]\n",
    "df = df[df['Year'] == 2019]\n",
    "df"
   ]
  },
  {
   "cell_type": "markdown",
   "metadata": {},
   "source": [
    "#### 1.1. Доставленные/отмененные:"
   ]
  },
  {
   "cell_type": "code",
   "execution_count": 8,
   "metadata": {},
   "outputs": [
    {
     "name": "stdout",
     "output_type": "stream",
     "text": [
      "Количество отмененных: 195561 Количество выполненных: 448645\n",
      "Сумма в деньгах отмененных: 1380366164 Сумма в деньгах выполненных: 1534382817\n",
      "Процент количества отмененных заказов в целом за год: 30.356904468446427\n",
      "Процент суммы, пришедшейся на отмененные заказы в целом за год: 47.357977410679815\n"
     ]
    }
   ],
   "source": [
    "# посмотрим количество доставленных и отмененных заказов ПО КОЛИЧЕСТВУ и ПО СУММЕ ДЕНЕГ за год, оба показателя в %\n",
    "\n",
    "df_cancl_deliv = df.groupby(['order_status'])['order_sum']\n",
    "\n",
    "print('Количество отмененных:', df_cancl_deliv.count()[0], 'Количество выполненных:', df_cancl_deliv.count()[1])\n",
    "print('Сумма в деньгах отмененных:', df_cancl_deliv.sum()[0], 'Сумма в деньгах выполненных:', df_cancl_deliv.sum()[1])\n",
    "print('Процент количества отмененных заказов в целом за год:', df_cancl_deliv.count()[0] / (df_cancl_deliv.count()[0] + df_cancl_deliv.count()[1]) * 100)\n",
    "print('Процент суммы, пришедшейся на отмененные заказы в целом за год:', df_cancl_deliv.sum()[0] / (df_cancl_deliv.sum()[0] + df_cancl_deliv.sum()[1]) * 100)"
   ]
  },
  {
   "cell_type": "code",
   "execution_count": 9,
   "metadata": {},
   "outputs": [
    {
     "data": {
      "text/plain": [
       "<matplotlib.axes._subplots.AxesSubplot at 0x219d9289610>"
      ]
     },
     "execution_count": 9,
     "metadata": {},
     "output_type": "execute_result"
    },
    {
     "data": {
      "image/png": "[encoded data removed]",
      "text/plain": [
       "<Figure size 720x432 with 1 Axes>"
      ]
     },
     "metadata": {},
     "output_type": "display_data"
    }
   ],
   "source": [
    "# посмотрим соотношение выполненных и отмененных по месяцам за 2019 год ПО КОЛИЧЕСТВУ ЗАКАЗОВ\n",
    "\n",
    "df_2019_order_id_count = df.groupby(['Month','order_status'])['order_id'].nunique().to_frame()\n",
    "\n",
    "plt.figure(figsize=(10,6))\n",
    "sns.barplot(x = df_2019_order_id_count.index.get_level_values(0), y = df_2019_order_id_count.values[:, 0], hue = tuple(df_2019_order_id_count.index.get_level_values(1)), data=df_2019_order_id_count, palette='Blues')"
   ]
  },
  {
   "cell_type": "code",
   "execution_count": 10,
   "metadata": {},
   "outputs": [
    {
     "data": {
      "text/plain": [
       "<matplotlib.axes._subplots.AxesSubplot at 0x219daad0a90>"
      ]
     },
     "execution_count": 10,
     "metadata": {},
     "output_type": "execute_result"
    },
    {
     "data": {
      "image/png": "[encoded data removed]",
      "text/plain": [
       "<Figure size 720x432 with 1 Axes>"
      ]
     },
     "metadata": {},
     "output_type": "display_data"
    }
   ],
   "source": [
    "# посмотрим соотношение выполненных и отмененных по месяцам за 2019 год ПО СУММЕ ДЕНЕГ\n",
    "\n",
    "df_2019_order_id_sum = df.groupby(['Month','order_status'])['order_sum'].sum().to_frame()\n",
    "\n",
    "plt.figure(figsize=(10,6))\n",
    "sns.barplot(x = df_2019_order_id_sum.index.get_level_values(0), y = df_2019_order_id_sum.values[:, 0], hue = tuple(df_2019_order_id_sum.index.get_level_values(1)), data=df_2019_order_id_sum, palette='Blues')"
   ]
  },
  {
   "cell_type": "markdown",
   "metadata": {},
   "source": [
    "Количество заказов (и выполненных, и отмененных) скорее всего росло в силу рекламы и активного роста, а вот суммы по отказам стали опережать выполненные с середины года. Возможно, сыграло повышение суммы для использования купона (на скидку или бесплатную доставку). В результате мог быть эффект, что покупатели \"добирали\" до нужной суммы и спустя время передумывали/находили условия лучше в другом месте."
   ]
  },
  {
   "cell_type": "markdown",
   "metadata": {},
   "source": [
    "#### 1.2. Категории:"
   ]
  },
  {
   "cell_type": "code",
   "execution_count": 11,
   "metadata": {},
   "outputs": [
    {
     "data": {
      "text/plain": [
       "<matplotlib.axes._subplots.AxesSubplot at 0x219daa37e50>"
      ]
     },
     "execution_count": 11,
     "metadata": {},
     "output_type": "execute_result"
    },
    {
     "data": {
      "image/png": "[encoded data removed]",
      "text/plain": [
       "<Figure size 720x432 with 1 Axes>"
      ]
     },
     "metadata": {},
     "output_type": "display_data"
    }
   ],
   "source": [
    "# посмотрим, что с категориями ПО КОЛИЧЕСТВУ ЗАКАЗОВ\n",
    "\n",
    "cat_id_count = df.groupby(['category_id', 'order_status'])['order_id'].nunique().to_frame()\n",
    "plt.figure(figsize=(10, 6))\n",
    "sns.barplot(x = cat_id_count.index.get_level_values(0), y = cat_id_count.values[:, 0], hue = tuple(cat_id_count.index.get_level_values(1)), data=cat_id_count, palette='Blues')\n",
    "\n",
    "# ***можно заметить проблемы с 16 категорией, много отказов, где она фигурирует "
   ]
  },
  {
   "cell_type": "code",
   "execution_count": 12,
   "metadata": {},
   "outputs": [
    {
     "data": {
      "text/plain": [
       "<matplotlib.axes._subplots.AxesSubplot at 0x219daa30430>"
      ]
     },
     "execution_count": 12,
     "metadata": {},
     "output_type": "execute_result"
    },
    {
     "data": {
      "image/png": "[encoded data removed]",
      "text/plain": [
       "<Figure size 720x432 with 1 Axes>"
      ]
     },
     "metadata": {},
     "output_type": "display_data"
    }
   ],
   "source": [
    "# посмотрим, что с категориями ПО СУММЕ ДЕНЕГ\n",
    "\n",
    "cat_id_sum = df.groupby(['category_id', 'order_status'])['order_sum'].sum().to_frame()\n",
    "plt.figure(figsize=(10, 6))\n",
    "sns.barplot(x = cat_id_sum.index.get_level_values(0), y = cat_id_sum.values[:, 0], hue = tuple(cat_id_sum.index.get_level_values(1)), data=cat_id_sum, palette='Blues')"
   ]
  },
  {
   "cell_type": "code",
   "execution_count": 13,
   "metadata": {},
   "outputs": [
    {
     "data": {
      "text/plain": [
       "category_id\n",
       "16    8925.174587\n",
       "7     5964.579667\n",
       "8     5350.192025\n",
       "2     4052.174870\n",
       "1     3240.771646\n",
       "3     3016.714993\n",
       "12    2674.257771\n",
       "11    1706.188607\n",
       "15    1374.382129\n",
       "9     1325.041268\n",
       "14     891.916208\n",
       "13     747.705710\n",
       "6      742.644343\n",
       "4      604.157706\n",
       "5      421.940462\n",
       "10     321.044959\n",
       "dtype: float64"
      ]
     },
     "execution_count": 13,
     "metadata": {},
     "output_type": "execute_result"
    }
   ],
   "source": [
    "# посмотрим среднюю стоимость одной единицы товара в каждой категории\n",
    "\n",
    "cat_by_once = (df.groupby(['category_id'])['order_sum'].sum() / df.groupby(['category_id'])['items_qty'].sum()).sort_values(ascending=False)\n",
    "cat_by_once"
   ]
  },
  {
   "cell_type": "code",
   "execution_count": 14,
   "metadata": {},
   "outputs": [
    {
     "data": {
      "text/plain": [
       "<BarContainer object of 16 artists>"
      ]
     },
     "execution_count": 14,
     "metadata": {},
     "output_type": "execute_result"
    },
    {
     "data": {
      "image/png": "[encoded data removed]",
      "text/plain": [
       "<Figure size 720x432 with 1 Axes>"
      ]
     },
     "metadata": {},
     "output_type": "display_data"
    }
   ],
   "source": [
    "plt.figure(figsize=(10, 6))\n",
    "plt.bar(x = cat_by_once.index, height = cat_by_once.values, data=cat_by_once)"
   ]
  },
  {
   "cell_type": "markdown",
   "metadata": {},
   "source": [
    "Ясно, что 16я категория популярная и дорогая. Возможно бытовая техника, гаджеты или другая дорогая техника, покупку которой обдумывают серьезно, потому высокий процент отказов. Вероятно делают заказ, а потом находят другой магазин с лучшими условиями по цене/доставке и т.д.  \n",
    "Схожая история с 7й категорией: так же дорогая и есть превышение отказов по сумме."
   ]
  },
  {
   "cell_type": "code",
   "execution_count": 15,
   "metadata": {},
   "outputs": [
    {
     "data": {
      "text/html": [
       "<div>\n",
       "<style scoped>\n",
       "    .dataframe tbody tr th:only-of-type {\n",
       "        vertical-align: middle;\n",
       "    }\n",
       "\n",
       "    .dataframe tbody tr th {\n",
       "        vertical-align: top;\n",
       "    }\n",
       "\n",
       "    .dataframe thead th {\n",
       "        text-align: right;\n",
       "    }\n",
       "</style>\n",
       "<table border=\"1\" class=\"dataframe\">\n",
       "  <thead>\n",
       "    <tr style=\"text-align: right;\">\n",
       "      <th></th>\n",
       "      <th>DIFF</th>\n",
       "    </tr>\n",
       "    <tr>\n",
       "      <th>category_id</th>\n",
       "      <th></th>\n",
       "    </tr>\n",
       "  </thead>\n",
       "  <tbody>\n",
       "    <tr>\n",
       "      <th>16</th>\n",
       "      <td>0.460333</td>\n",
       "    </tr>\n",
       "    <tr>\n",
       "      <th>1</th>\n",
       "      <td>0.401386</td>\n",
       "    </tr>\n",
       "    <tr>\n",
       "      <th>7</th>\n",
       "      <td>0.368203</td>\n",
       "    </tr>\n",
       "    <tr>\n",
       "      <th>6</th>\n",
       "      <td>0.350554</td>\n",
       "    </tr>\n",
       "    <tr>\n",
       "      <th>9</th>\n",
       "      <td>0.336045</td>\n",
       "    </tr>\n",
       "    <tr>\n",
       "      <th>2</th>\n",
       "      <td>0.299371</td>\n",
       "    </tr>\n",
       "    <tr>\n",
       "      <th>12</th>\n",
       "      <td>0.282165</td>\n",
       "    </tr>\n",
       "    <tr>\n",
       "      <th>11</th>\n",
       "      <td>0.278806</td>\n",
       "    </tr>\n",
       "    <tr>\n",
       "      <th>8</th>\n",
       "      <td>0.266582</td>\n",
       "    </tr>\n",
       "    <tr>\n",
       "      <th>3</th>\n",
       "      <td>0.258253</td>\n",
       "    </tr>\n",
       "    <tr>\n",
       "      <th>5</th>\n",
       "      <td>0.252869</td>\n",
       "    </tr>\n",
       "    <tr>\n",
       "      <th>15</th>\n",
       "      <td>0.244816</td>\n",
       "    </tr>\n",
       "    <tr>\n",
       "      <th>13</th>\n",
       "      <td>0.240283</td>\n",
       "    </tr>\n",
       "    <tr>\n",
       "      <th>4</th>\n",
       "      <td>0.235071</td>\n",
       "    </tr>\n",
       "    <tr>\n",
       "      <th>10</th>\n",
       "      <td>0.233788</td>\n",
       "    </tr>\n",
       "    <tr>\n",
       "      <th>14</th>\n",
       "      <td>0.216038</td>\n",
       "    </tr>\n",
       "  </tbody>\n",
       "</table>\n",
       "</div>"
      ],
      "text/plain": [
       "                 DIFF\n",
       "category_id          \n",
       "16           0.460333\n",
       "1            0.401386\n",
       "7            0.368203\n",
       "6            0.350554\n",
       "9            0.336045\n",
       "2            0.299371\n",
       "12           0.282165\n",
       "11           0.278806\n",
       "8            0.266582\n",
       "3            0.258253\n",
       "5            0.252869\n",
       "15           0.244816\n",
       "13           0.240283\n",
       "4            0.235071\n",
       "10           0.233788\n",
       "14           0.216038"
      ]
     },
     "execution_count": 15,
     "metadata": {},
     "output_type": "execute_result"
    }
   ],
   "source": [
    "# посмотрим, заказы с какими категориями наиболее \"отказные\" в процентном соотношении ПО КОЛИЧЕСТВУ к общему объему категории (заказ+отказ) \n",
    "\n",
    "cat_id_not_cancelled_count = cat_id_count\n",
    "cat_id_not_cancelled_count = cat_id_not_cancelled_count.unstack().reset_index(level=0, drop=True).set_index(cat_id_count.index.get_level_values(0).unique())\n",
    "cat_id_not_cancelled_count.columns = cat_id_not_cancelled_count.columns.droplevel(0)\n",
    "cat_id_not_cancelled_count['DIFF'] = cat_id_not_cancelled_count['CANCELLED'] / (cat_id_not_cancelled_count['CANCELLED'] + cat_id_not_cancelled_count['DELIVERED'])\n",
    "cat_id_not_cancelled_count['DIFF'].sort_values(ascending=False).to_frame()"
   ]
  },
  {
   "cell_type": "code",
   "execution_count": 16,
   "metadata": {},
   "outputs": [
    {
     "data": {
      "text/html": [
       "<div>\n",
       "<style scoped>\n",
       "    .dataframe tbody tr th:only-of-type {\n",
       "        vertical-align: middle;\n",
       "    }\n",
       "\n",
       "    .dataframe tbody tr th {\n",
       "        vertical-align: top;\n",
       "    }\n",
       "\n",
       "    .dataframe thead th {\n",
       "        text-align: right;\n",
       "    }\n",
       "</style>\n",
       "<table border=\"1\" class=\"dataframe\">\n",
       "  <thead>\n",
       "    <tr style=\"text-align: right;\">\n",
       "      <th></th>\n",
       "      <th>DIFF</th>\n",
       "    </tr>\n",
       "    <tr>\n",
       "      <th>category_id</th>\n",
       "      <th></th>\n",
       "    </tr>\n",
       "  </thead>\n",
       "  <tbody>\n",
       "    <tr>\n",
       "      <th>16</th>\n",
       "      <td>0.626982</td>\n",
       "    </tr>\n",
       "    <tr>\n",
       "      <th>7</th>\n",
       "      <td>0.613568</td>\n",
       "    </tr>\n",
       "    <tr>\n",
       "      <th>9</th>\n",
       "      <td>0.465869</td>\n",
       "    </tr>\n",
       "    <tr>\n",
       "      <th>1</th>\n",
       "      <td>0.462732</td>\n",
       "    </tr>\n",
       "    <tr>\n",
       "      <th>6</th>\n",
       "      <td>0.387738</td>\n",
       "    </tr>\n",
       "    <tr>\n",
       "      <th>2</th>\n",
       "      <td>0.367892</td>\n",
       "    </tr>\n",
       "    <tr>\n",
       "      <th>11</th>\n",
       "      <td>0.358219</td>\n",
       "    </tr>\n",
       "    <tr>\n",
       "      <th>12</th>\n",
       "      <td>0.321398</td>\n",
       "    </tr>\n",
       "    <tr>\n",
       "      <th>3</th>\n",
       "      <td>0.302862</td>\n",
       "    </tr>\n",
       "    <tr>\n",
       "      <th>8</th>\n",
       "      <td>0.281362</td>\n",
       "    </tr>\n",
       "    <tr>\n",
       "      <th>13</th>\n",
       "      <td>0.267322</td>\n",
       "    </tr>\n",
       "    <tr>\n",
       "      <th>5</th>\n",
       "      <td>0.264746</td>\n",
       "    </tr>\n",
       "    <tr>\n",
       "      <th>15</th>\n",
       "      <td>0.240174</td>\n",
       "    </tr>\n",
       "    <tr>\n",
       "      <th>4</th>\n",
       "      <td>0.237741</td>\n",
       "    </tr>\n",
       "    <tr>\n",
       "      <th>10</th>\n",
       "      <td>0.224619</td>\n",
       "    </tr>\n",
       "    <tr>\n",
       "      <th>14</th>\n",
       "      <td>0.203317</td>\n",
       "    </tr>\n",
       "  </tbody>\n",
       "</table>\n",
       "</div>"
      ],
      "text/plain": [
       "                 DIFF\n",
       "category_id          \n",
       "16           0.626982\n",
       "7            0.613568\n",
       "9            0.465869\n",
       "1            0.462732\n",
       "6            0.387738\n",
       "2            0.367892\n",
       "11           0.358219\n",
       "12           0.321398\n",
       "3            0.302862\n",
       "8            0.281362\n",
       "13           0.267322\n",
       "5            0.264746\n",
       "15           0.240174\n",
       "4            0.237741\n",
       "10           0.224619\n",
       "14           0.203317"
      ]
     },
     "execution_count": 16,
     "metadata": {},
     "output_type": "execute_result"
    }
   ],
   "source": [
    "# посмотрим, заказы с какими категориями наиболее \"отказные\" в процентном соотношении ПО СУММЕ к общему объему категории (заказ+отказ) \n",
    "\n",
    "cat_id_not_cancelled_money = cat_id_sum\n",
    "cat_id_not_cancelled_money = cat_id_not_cancelled_money.unstack().reset_index(level=0, drop=True).set_index(cat_id_sum.index.get_level_values(0).unique())\n",
    "cat_id_not_cancelled_money.columns = cat_id_not_cancelled_money.columns.droplevel(0)\n",
    "cat_id_not_cancelled_money['DIFF'] = cat_id_not_cancelled_money['CANCELLED'] / (cat_id_not_cancelled_money['CANCELLED'] + cat_id_not_cancelled_money['DELIVERED'])\n",
    "cat_id_not_cancelled_money['DIFF'].sort_values(ascending=False).to_frame()"
   ]
  },
  {
   "cell_type": "markdown",
   "metadata": {},
   "source": [
    "В целом в топе как по количеству, так и по сумме одни и те же категории. Как и ожидали 16я и 7я категории лидеры, 1я очень мала сама по себе и скромна в обороте."
   ]
  },
  {
   "cell_type": "markdown",
   "metadata": {},
   "source": [
    "#### 1.3. Регионы:"
   ]
  },
  {
   "cell_type": "code",
   "execution_count": 17,
   "metadata": {},
   "outputs": [
    {
     "data": {
      "text/plain": [
       "<matplotlib.axes._subplots.AxesSubplot at 0x219da242c40>"
      ]
     },
     "execution_count": 17,
     "metadata": {},
     "output_type": "execute_result"
    },
    {
     "data": {
      "image/png": "[encoded data removed]",
      "text/plain": [
       "<Figure size 720x432 with 1 Axes>"
      ]
     },
     "metadata": {},
     "output_type": "display_data"
    }
   ],
   "source": [
    "# теперь для регионов, но в виду их количества внимательно изучим только топ 15 регионов по отказам ПО КОЛИЧЕСТВУ ЗАКАЗОВ\n",
    "\n",
    "reg_id_top15_count = df.groupby(['region_id'])['order_id'].count()\n",
    "reg_id_top15_count = reg_id_top15_count.sort_values(ascending=False)[:15]\n",
    "\n",
    "reg_id_top15_count = df[df['region_id'].isin(reg_id_top15_count.index)].groupby(['region_id', 'order_status'])['order_id'].sum().to_frame()\n",
    "\n",
    "plt.figure(figsize=(10, 6))\n",
    "sns.barplot(x = reg_id_top15_count.index.get_level_values(0), y = reg_id_top15_count.values[:, 0], hue = tuple(reg_id_top15_count.index.get_level_values(1)), data=reg_id_top15_count, palette='Blues')"
   ]
  },
  {
   "cell_type": "code",
   "execution_count": 18,
   "metadata": {},
   "outputs": [
    {
     "data": {
      "text/html": [
       "<div>\n",
       "<style scoped>\n",
       "    .dataframe tbody tr th:only-of-type {\n",
       "        vertical-align: middle;\n",
       "    }\n",
       "\n",
       "    .dataframe tbody tr th {\n",
       "        vertical-align: top;\n",
       "    }\n",
       "\n",
       "    .dataframe thead th {\n",
       "        text-align: right;\n",
       "    }\n",
       "</style>\n",
       "<table border=\"1\" class=\"dataframe\">\n",
       "  <thead>\n",
       "    <tr style=\"text-align: right;\">\n",
       "      <th></th>\n",
       "      <th>DIFF</th>\n",
       "    </tr>\n",
       "    <tr>\n",
       "      <th>region_id</th>\n",
       "      <th></th>\n",
       "    </tr>\n",
       "  </thead>\n",
       "  <tbody>\n",
       "    <tr>\n",
       "      <th>950</th>\n",
       "      <td>0.338864</td>\n",
       "    </tr>\n",
       "    <tr>\n",
       "      <th>1625</th>\n",
       "      <td>0.333309</td>\n",
       "    </tr>\n",
       "    <tr>\n",
       "      <th>875</th>\n",
       "      <td>0.320387</td>\n",
       "    </tr>\n",
       "    <tr>\n",
       "      <th>100</th>\n",
       "      <td>0.318827</td>\n",
       "    </tr>\n",
       "    <tr>\n",
       "      <th>1125</th>\n",
       "      <td>0.318448</td>\n",
       "    </tr>\n",
       "    <tr>\n",
       "      <th>200</th>\n",
       "      <td>0.318312</td>\n",
       "    </tr>\n",
       "    <tr>\n",
       "      <th>1150</th>\n",
       "      <td>0.310831</td>\n",
       "    </tr>\n",
       "    <tr>\n",
       "      <th>1100</th>\n",
       "      <td>0.310614</td>\n",
       "    </tr>\n",
       "    <tr>\n",
       "      <th>1075</th>\n",
       "      <td>0.303651</td>\n",
       "    </tr>\n",
       "    <tr>\n",
       "      <th>225</th>\n",
       "      <td>0.295510</td>\n",
       "    </tr>\n",
       "    <tr>\n",
       "      <th>1225</th>\n",
       "      <td>0.292534</td>\n",
       "    </tr>\n",
       "    <tr>\n",
       "      <th>975</th>\n",
       "      <td>0.292068</td>\n",
       "    </tr>\n",
       "    <tr>\n",
       "      <th>150</th>\n",
       "      <td>0.263169</td>\n",
       "    </tr>\n",
       "    <tr>\n",
       "      <th>1175</th>\n",
       "      <td>0.258754</td>\n",
       "    </tr>\n",
       "    <tr>\n",
       "      <th>23975</th>\n",
       "      <td>0.183868</td>\n",
       "    </tr>\n",
       "  </tbody>\n",
       "</table>\n",
       "</div>"
      ],
      "text/plain": [
       "               DIFF\n",
       "region_id          \n",
       "950        0.338864\n",
       "1625       0.333309\n",
       "875        0.320387\n",
       "100        0.318827\n",
       "1125       0.318448\n",
       "200        0.318312\n",
       "1150       0.310831\n",
       "1100       0.310614\n",
       "1075       0.303651\n",
       "225        0.295510\n",
       "1225       0.292534\n",
       "975        0.292068\n",
       "150        0.263169\n",
       "1175       0.258754\n",
       "23975      0.183868"
      ]
     },
     "execution_count": 18,
     "metadata": {},
     "output_type": "execute_result"
    }
   ],
   "source": [
    "# что в процентах от всего КОЛИЧЕСТВА ЗАКАЗОВ региона будет\n",
    "\n",
    "reg_id_not_cancelled_count_p = reg_id_top15_count\n",
    "reg_id_not_cancelled_count_p = reg_id_not_cancelled_count_p.unstack().reset_index(level=0, drop=True).set_index(reg_id_top15_count.index.get_level_values(0).unique())\n",
    "reg_id_not_cancelled_count_p.columns = reg_id_not_cancelled_count_p.columns.droplevel(0)\n",
    "reg_id_not_cancelled_count_p['DIFF'] = reg_id_not_cancelled_count_p['CANCELLED'] / (reg_id_not_cancelled_count_p['CANCELLED'] + reg_id_not_cancelled_count_p['DELIVERED'])\n",
    "reg_id_not_cancelled_count_p['DIFF'].sort_values(ascending=False).to_frame()"
   ]
  },
  {
   "cell_type": "code",
   "execution_count": 19,
   "metadata": {},
   "outputs": [
    {
     "data": {
      "text/plain": [
       "<matplotlib.axes._subplots.AxesSubplot at 0x219defeeca0>"
      ]
     },
     "execution_count": 19,
     "metadata": {},
     "output_type": "execute_result"
    },
    {
     "data": {
      "image/png": "[encoded data removed]",
      "text/plain": [
       "<Figure size 720x432 with 1 Axes>"
      ]
     },
     "metadata": {},
     "output_type": "display_data"
    }
   ],
   "source": [
    "# теперь топ 15 регионов по отказам ПО СУММЕ ДЕНЕГ\n",
    "\n",
    "reg_id_top15_money = df.groupby(['region_id'])['order_sum'].sum()\n",
    "reg_id_top15_money = reg_id_top15_money.sort_values(ascending=False)[:15]\n",
    "\n",
    "reg_id_top15_money = df[df['region_id'].isin(reg_id_top15_money.index)].groupby(['region_id', 'order_status'])['order_sum'].sum().to_frame()\n",
    "\n",
    "plt.figure(figsize=(10, 6))\n",
    "sns.barplot(x = reg_id_top15_money.index.get_level_values(0), y = reg_id_top15_money.values[:, 0], hue = tuple(reg_id_top15_money.index.get_level_values(1)), data=reg_id_top15_money, palette='Blues')"
   ]
  },
  {
   "cell_type": "code",
   "execution_count": 20,
   "metadata": {},
   "outputs": [
    {
     "data": {
      "text/html": [
       "<div>\n",
       "<style scoped>\n",
       "    .dataframe tbody tr th:only-of-type {\n",
       "        vertical-align: middle;\n",
       "    }\n",
       "\n",
       "    .dataframe tbody tr th {\n",
       "        vertical-align: top;\n",
       "    }\n",
       "\n",
       "    .dataframe thead th {\n",
       "        text-align: right;\n",
       "    }\n",
       "</style>\n",
       "<table border=\"1\" class=\"dataframe\">\n",
       "  <thead>\n",
       "    <tr style=\"text-align: right;\">\n",
       "      <th></th>\n",
       "      <th>DIFF</th>\n",
       "    </tr>\n",
       "    <tr>\n",
       "      <th>region_id</th>\n",
       "      <th></th>\n",
       "    </tr>\n",
       "  </thead>\n",
       "  <tbody>\n",
       "    <tr>\n",
       "      <th>1650</th>\n",
       "      <td>0.526402</td>\n",
       "    </tr>\n",
       "    <tr>\n",
       "      <th>1550</th>\n",
       "      <td>0.524082</td>\n",
       "    </tr>\n",
       "    <tr>\n",
       "      <th>950</th>\n",
       "      <td>0.517278</td>\n",
       "    </tr>\n",
       "    <tr>\n",
       "      <th>875</th>\n",
       "      <td>0.510334</td>\n",
       "    </tr>\n",
       "    <tr>\n",
       "      <th>100</th>\n",
       "      <td>0.498168</td>\n",
       "    </tr>\n",
       "    <tr>\n",
       "      <th>1075</th>\n",
       "      <td>0.490556</td>\n",
       "    </tr>\n",
       "    <tr>\n",
       "      <th>200</th>\n",
       "      <td>0.477736</td>\n",
       "    </tr>\n",
       "    <tr>\n",
       "      <th>1625</th>\n",
       "      <td>0.467312</td>\n",
       "    </tr>\n",
       "    <tr>\n",
       "      <th>1125</th>\n",
       "      <td>0.466292</td>\n",
       "    </tr>\n",
       "    <tr>\n",
       "      <th>975</th>\n",
       "      <td>0.462536</td>\n",
       "    </tr>\n",
       "    <tr>\n",
       "      <th>1100</th>\n",
       "      <td>0.438547</td>\n",
       "    </tr>\n",
       "    <tr>\n",
       "      <th>225</th>\n",
       "      <td>0.434940</td>\n",
       "    </tr>\n",
       "    <tr>\n",
       "      <th>150</th>\n",
       "      <td>0.404435</td>\n",
       "    </tr>\n",
       "    <tr>\n",
       "      <th>1175</th>\n",
       "      <td>0.404357</td>\n",
       "    </tr>\n",
       "    <tr>\n",
       "      <th>23975</th>\n",
       "      <td>0.242967</td>\n",
       "    </tr>\n",
       "  </tbody>\n",
       "</table>\n",
       "</div>"
      ],
      "text/plain": [
       "               DIFF\n",
       "region_id          \n",
       "1650       0.526402\n",
       "1550       0.524082\n",
       "950        0.517278\n",
       "875        0.510334\n",
       "100        0.498168\n",
       "1075       0.490556\n",
       "200        0.477736\n",
       "1625       0.467312\n",
       "1125       0.466292\n",
       "975        0.462536\n",
       "1100       0.438547\n",
       "225        0.434940\n",
       "150        0.404435\n",
       "1175       0.404357\n",
       "23975      0.242967"
      ]
     },
     "execution_count": 20,
     "metadata": {},
     "output_type": "execute_result"
    }
   ],
   "source": [
    "# что в процентах от всей СУММЫ ДЕНЕГ региона будет\n",
    "\n",
    "reg_id_not_cancelled_money_p = reg_id_top15_money\n",
    "reg_id_not_cancelled_money_p = reg_id_not_cancelled_money_p.unstack().reset_index(level=0, drop=True).set_index(reg_id_top15_money.index.get_level_values(0).unique())\n",
    "reg_id_not_cancelled_money_p.columns = reg_id_not_cancelled_money_p.columns.droplevel(0)\n",
    "reg_id_not_cancelled_money_p['DIFF'] = reg_id_not_cancelled_money_p['CANCELLED'] / (reg_id_not_cancelled_money_p['CANCELLED'] + reg_id_not_cancelled_money_p['DELIVERED'])\n",
    "reg_id_not_cancelled_money_p['DIFF'].sort_values(ascending=False).to_frame()"
   ]
  },
  {
   "cell_type": "code",
   "execution_count": 21,
   "metadata": {},
   "outputs": [
    {
     "name": "stdout",
     "output_type": "stream",
     "text": [
      "Доля регионов 875, 975, 1175, 1075, 1625, 950 во всех доставленных заказах, в %: 44.78133412256532\n"
     ]
    }
   ],
   "source": [
    "# посмотрим, какая доля от всех денег приходится на 875, 975, 1175, 1075, 1625 и 950 регионы \n",
    "# от общего оборота УЧИТЫВАЯ ТОЛЬКО ДОСТАВЛЕННЫЕ ЗАКАЗЫ\n",
    "\n",
    "print('Доля регионов 875, 975, 1175, 1075, 1625, 950 во всех доставленных заказах, в %:', (df[(df['region_id'].isin([875, 975, 1175, 1075, 1625, 950])) & (df['order_status'] == 'DELIVERED')]['order_sum'].sum() / df[df['order_status'] == 'DELIVERED']['order_sum'].sum()) * 100)"
   ]
  },
  {
   "cell_type": "markdown",
   "metadata": {},
   "source": [
    "Исходя в первую очередь из объемов по деньгам наибольшее внимание на себя обращают, в порядке убывания важности: 875 (очень большой дохода, но ещё больше потерянных на отказах денег), 975 и 1175 (очень большой объем потерь в деньгах), 1075, 1625 и 950 - очевидно в этих 3 регионах деньги и готовность покупать есть, но что-то ведет к большой сумме потерь в деньгах и количеству отмененных заказов. Вероятно, всё это это крупные города (может быть некоторые даже субрегионы). На эти 6 регионов приходится 45% доходов."
   ]
  },
  {
   "cell_type": "markdown",
   "metadata": {},
   "source": [
    "#### 1.4. Доставленные:  общий доход на покупателя, средний чек, количество покупок, частота, выбросы и аномалии:"
   ]
  },
  {
   "cell_type": "code",
   "execution_count": 22,
   "metadata": {},
   "outputs": [
    {
     "data": {
      "text/html": [
       "<div>\n",
       "<style scoped>\n",
       "    .dataframe tbody tr th:only-of-type {\n",
       "        vertical-align: middle;\n",
       "    }\n",
       "\n",
       "    .dataframe tbody tr th {\n",
       "        vertical-align: top;\n",
       "    }\n",
       "\n",
       "    .dataframe thead th {\n",
       "        text-align: right;\n",
       "    }\n",
       "</style>\n",
       "<table border=\"1\" class=\"dataframe\">\n",
       "  <thead>\n",
       "    <tr style=\"text-align: right;\">\n",
       "      <th></th>\n",
       "      <th>creation_date</th>\n",
       "      <th>Year</th>\n",
       "      <th>Month</th>\n",
       "      <th>region_id</th>\n",
       "      <th>customer_id</th>\n",
       "      <th>order_id</th>\n",
       "      <th>order_status</th>\n",
       "      <th>category_id</th>\n",
       "      <th>order_sum</th>\n",
       "      <th>items_qty</th>\n",
       "    </tr>\n",
       "  </thead>\n",
       "  <tbody>\n",
       "    <tr>\n",
       "      <th>529604</th>\n",
       "      <td>2019-01-01</td>\n",
       "      <td>2019</td>\n",
       "      <td>1</td>\n",
       "      <td>1175</td>\n",
       "      <td>759894626</td>\n",
       "      <td>9264274</td>\n",
       "      <td>DELIVERED</td>\n",
       "      <td>16</td>\n",
       "      <td>8021</td>\n",
       "      <td>1</td>\n",
       "    </tr>\n",
       "    <tr>\n",
       "      <th>304498</th>\n",
       "      <td>2019-01-01</td>\n",
       "      <td>2019</td>\n",
       "      <td>1</td>\n",
       "      <td>1125</td>\n",
       "      <td>773011457</td>\n",
       "      <td>9265582</td>\n",
       "      <td>DELIVERED</td>\n",
       "      <td>16</td>\n",
       "      <td>8191</td>\n",
       "      <td>1</td>\n",
       "    </tr>\n",
       "    <tr>\n",
       "      <th>250381</th>\n",
       "      <td>2019-01-01</td>\n",
       "      <td>2019</td>\n",
       "      <td>1</td>\n",
       "      <td>1125</td>\n",
       "      <td>774046027</td>\n",
       "      <td>9266234</td>\n",
       "      <td>DELIVERED</td>\n",
       "      <td>16</td>\n",
       "      <td>8191</td>\n",
       "      <td>1</td>\n",
       "    </tr>\n",
       "    <tr>\n",
       "      <th>528016</th>\n",
       "      <td>2019-01-01</td>\n",
       "      <td>2019</td>\n",
       "      <td>1</td>\n",
       "      <td>1225</td>\n",
       "      <td>686211918</td>\n",
       "      <td>9271396</td>\n",
       "      <td>DELIVERED</td>\n",
       "      <td>12</td>\n",
       "      <td>8434</td>\n",
       "      <td>1</td>\n",
       "    </tr>\n",
       "    <tr>\n",
       "      <th>126796</th>\n",
       "      <td>2019-01-01</td>\n",
       "      <td>2019</td>\n",
       "      <td>1</td>\n",
       "      <td>1625</td>\n",
       "      <td>796520652</td>\n",
       "      <td>9266324</td>\n",
       "      <td>DELIVERED</td>\n",
       "      <td>2</td>\n",
       "      <td>2554</td>\n",
       "      <td>3</td>\n",
       "    </tr>\n",
       "    <tr>\n",
       "      <th>...</th>\n",
       "      <td>...</td>\n",
       "      <td>...</td>\n",
       "      <td>...</td>\n",
       "      <td>...</td>\n",
       "      <td>...</td>\n",
       "      <td>...</td>\n",
       "      <td>...</td>\n",
       "      <td>...</td>\n",
       "      <td>...</td>\n",
       "      <td>...</td>\n",
       "    </tr>\n",
       "    <tr>\n",
       "      <th>111852</th>\n",
       "      <td>2019-12-31</td>\n",
       "      <td>2019</td>\n",
       "      <td>12</td>\n",
       "      <td>975</td>\n",
       "      <td>25933585</td>\n",
       "      <td>25218210</td>\n",
       "      <td>DELIVERED</td>\n",
       "      <td>2</td>\n",
       "      <td>9901</td>\n",
       "      <td>1</td>\n",
       "    </tr>\n",
       "    <tr>\n",
       "      <th>338718</th>\n",
       "      <td>2019-12-31</td>\n",
       "      <td>2019</td>\n",
       "      <td>12</td>\n",
       "      <td>150</td>\n",
       "      <td>263019119</td>\n",
       "      <td>25205856</td>\n",
       "      <td>DELIVERED</td>\n",
       "      <td>2</td>\n",
       "      <td>1450</td>\n",
       "      <td>1</td>\n",
       "    </tr>\n",
       "    <tr>\n",
       "      <th>264522</th>\n",
       "      <td>2019-12-31</td>\n",
       "      <td>2019</td>\n",
       "      <td>12</td>\n",
       "      <td>1175</td>\n",
       "      <td>462447886</td>\n",
       "      <td>25209092</td>\n",
       "      <td>DELIVERED</td>\n",
       "      <td>16</td>\n",
       "      <td>27286</td>\n",
       "      <td>1</td>\n",
       "    </tr>\n",
       "    <tr>\n",
       "      <th>409150</th>\n",
       "      <td>2019-12-31</td>\n",
       "      <td>2019</td>\n",
       "      <td>12</td>\n",
       "      <td>24175</td>\n",
       "      <td>1010429215</td>\n",
       "      <td>25204122</td>\n",
       "      <td>DELIVERED</td>\n",
       "      <td>12</td>\n",
       "      <td>4981</td>\n",
       "      <td>1</td>\n",
       "    </tr>\n",
       "    <tr>\n",
       "      <th>264566</th>\n",
       "      <td>2019-12-31</td>\n",
       "      <td>2019</td>\n",
       "      <td>12</td>\n",
       "      <td>1075</td>\n",
       "      <td>93562625</td>\n",
       "      <td>25203548</td>\n",
       "      <td>DELIVERED</td>\n",
       "      <td>16</td>\n",
       "      <td>1893</td>\n",
       "      <td>1</td>\n",
       "    </tr>\n",
       "  </tbody>\n",
       "</table>\n",
       "<p>448645 rows × 10 columns</p>\n",
       "</div>"
      ],
      "text/plain": [
       "       creation_date  Year  Month  region_id  customer_id  order_id  \\\n",
       "529604    2019-01-01  2019      1       1175    759894626   9264274   \n",
       "304498    2019-01-01  2019      1       1125    773011457   9265582   \n",
       "250381    2019-01-01  2019      1       1125    774046027   9266234   \n",
       "528016    2019-01-01  2019      1       1225    686211918   9271396   \n",
       "126796    2019-01-01  2019      1       1625    796520652   9266324   \n",
       "...              ...   ...    ...        ...          ...       ...   \n",
       "111852    2019-12-31  2019     12        975     25933585  25218210   \n",
       "338718    2019-12-31  2019     12        150    263019119  25205856   \n",
       "264522    2019-12-31  2019     12       1175    462447886  25209092   \n",
       "409150    2019-12-31  2019     12      24175   1010429215  25204122   \n",
       "264566    2019-12-31  2019     12       1075     93562625  25203548   \n",
       "\n",
       "       order_status  category_id  order_sum  items_qty  \n",
       "529604    DELIVERED           16       8021          1  \n",
       "304498    DELIVERED           16       8191          1  \n",
       "250381    DELIVERED           16       8191          1  \n",
       "528016    DELIVERED           12       8434          1  \n",
       "126796    DELIVERED            2       2554          3  \n",
       "...             ...          ...        ...        ...  \n",
       "111852    DELIVERED            2       9901          1  \n",
       "338718    DELIVERED            2       1450          1  \n",
       "264522    DELIVERED           16      27286          1  \n",
       "409150    DELIVERED           12       4981          1  \n",
       "264566    DELIVERED           16       1893          1  \n",
       "\n",
       "[448645 rows x 10 columns]"
      ]
     },
     "execution_count": 22,
     "metadata": {},
     "output_type": "execute_result"
    }
   ],
   "source": [
    "# здесь и далее изучим ближе только выполненные заказы (исходя из цели задачи)\n",
    "\n",
    "df = df[df['order_status'] == 'DELIVERED']\n",
    "df"
   ]
  },
  {
   "cell_type": "code",
   "execution_count": 23,
   "metadata": {},
   "outputs": [
    {
     "data": {
      "text/plain": [
       "<matplotlib.axes._subplots.AxesSubplot at 0x219df2cf8b0>"
      ]
     },
     "execution_count": 23,
     "metadata": {},
     "output_type": "execute_result"
    },
    {
     "data": {
      "image/png": "[encoded data removed]",
      "text/plain": [
       "<Figure size 720x432 with 1 Axes>"
      ]
     },
     "metadata": {},
     "output_type": "display_data"
    }
   ],
   "source": [
    "# посмотрим на общие суммы продаж по месяцам В ДЕНЬГАХ \n",
    "\n",
    "df_delivered_sum_month = df.groupby(['Month'])['order_sum'].sum().to_frame()\n",
    "\n",
    "plt.figure(figsize=(10,6))\n",
    "sns.barplot(x=df_delivered_sum_month.index, y = df_delivered_sum_month.values[:,0], data=df_delivered_sum_month, palette='Blues')"
   ]
  },
  {
   "cell_type": "markdown",
   "metadata": {},
   "source": [
    "Очень силен фактор роста и рекламы (открытие в конце октября 2018, за ~2 месяца до 2019 года)."
   ]
  },
  {
   "cell_type": "code",
   "execution_count": 24,
   "metadata": {},
   "outputs": [
    {
     "data": {
      "text/plain": [
       "<matplotlib.axes._subplots.AxesSubplot at 0x219df49e7c0>"
      ]
     },
     "execution_count": 24,
     "metadata": {},
     "output_type": "execute_result"
    },
    {
     "data": {
      "image/png": "[encoded data removed]",
      "text/plain": [
       "<Figure size 720x432 with 1 Axes>"
      ]
     },
     "metadata": {},
     "output_type": "display_data"
    }
   ],
   "source": [
    "# посмотрим на средние суммы по месяцам В ДЕНЬГАХ (средняя сумма заказа)\n",
    "\n",
    "df_delivered_mean_month = df.groupby(['Month'])['order_sum'].mean().to_frame()\n",
    "\n",
    "plt.figure(figsize=(10,6))\n",
    "sns.barplot(x=df_delivered_mean_month.index, y = df_delivered_mean_month.values[:,0], data=df_delivered_mean_month, palette='Blues')"
   ]
  },
  {
   "cell_type": "markdown",
   "metadata": {},
   "source": [
    "Наводит на мысли о сезонности, но 1 год маловато для однозначного вывода об этом."
   ]
  },
  {
   "cell_type": "code",
   "execution_count": 25,
   "metadata": {},
   "outputs": [
    {
     "data": {
      "text/plain": [
       "<matplotlib.axes._subplots.AxesSubplot at 0x219df7f1400>"
      ]
     },
     "execution_count": 25,
     "metadata": {},
     "output_type": "execute_result"
    },
    {
     "data": {
      "image/png": "[encoded data removed]",
      "text/plain": [
       "<Figure size 720x432 with 1 Axes>"
      ]
     },
     "metadata": {},
     "output_type": "display_data"
    }
   ],
   "source": [
    "# посмотрим по месяцам КОЛИЧЕСТВО ЗАКАЗОВ \n",
    "\n",
    "df_delivered_trans_count = df.groupby(['Month'])['order_id'].nunique().to_frame()\n",
    "\n",
    "plt.figure(figsize=(10,6))\n",
    "sns.barplot(x=df_delivered_trans_count.index, y = df_delivered_trans_count.values[:,0], data=df_delivered_trans_count, palette='Blues')"
   ]
  },
  {
   "cell_type": "markdown",
   "metadata": {},
   "source": [
    "Рост количества транзакций ещё один довод в пользу факторов быстрого роста и рекламы."
   ]
  },
  {
   "cell_type": "markdown",
   "metadata": {},
   "source": [
    "#### 1.4а. Общая сумма по деньгам на каждого покупателя:"
   ]
  },
  {
   "cell_type": "code",
   "execution_count": 26,
   "metadata": {},
   "outputs": [
    {
     "data": {
      "text/plain": [
       "customer_id\n",
       "673603387        501\n",
       "977330331        501\n",
       "778650355        501\n",
       "953112225        501\n",
       "861804230        501\n",
       "              ...   \n",
       "873330132    2140085\n",
       "27118041     2346399\n",
       "359859048    2431264\n",
       "866550828    3018129\n",
       "557309662    5279846\n",
       "Name: order_sum, Length: 195485, dtype: int64"
      ]
     },
     "execution_count": 26,
     "metadata": {},
     "output_type": "execute_result"
    }
   ],
   "source": [
    "# посмотрим ОБЩАЯ СУММА ПО ДЕНЬГАМ от покупок по каждому конкретному покупателю за весь период\n",
    "\n",
    "df_order_sum = df.groupby(['customer_id'])['order_sum'].sum()\n",
    "df_order_sum.sort_values()"
   ]
  },
  {
   "cell_type": "code",
   "execution_count": 27,
   "metadata": {},
   "outputs": [
    {
     "data": {
      "text/plain": [
       "<matplotlib.collections.PathCollection at 0x219df736700>"
      ]
     },
     "execution_count": 27,
     "metadata": {},
     "output_type": "execute_result"
    },
    {
     "data": {
      "image/png": "[encoded data removed]",
      "text/plain": [
       "<Figure size 720x432 with 1 Axes>"
      ]
     },
     "metadata": {},
     "output_type": "display_data"
    }
   ],
   "source": [
    "# очевидно есть сравнительно небольшое количество покупателей, у которых очень высокая ОБЩАЯ СУММА ПО ДЕНЬГАМ - это выбросы\n",
    "\n",
    "plt.figure(figsize=(10, 6))\n",
    "plt.scatter(x = df_order_sum.index, y = df_order_sum.sort_values(), alpha=0.1)"
   ]
  },
  {
   "cell_type": "code",
   "execution_count": 28,
   "metadata": {},
   "outputs": [
    {
     "name": "stdout",
     "output_type": "stream",
     "text": [
      "Всего покупателей: 195485\n",
      "Количество покупателей с общей суммой покупки > 60000 рублей за год: 1645\n",
      "Что составляет % от всех равный: 0.8414967900350411\n"
     ]
    }
   ],
   "source": [
    "# прикинем разумные границы для выделения выбросов по ОБЩЕЙ СУММЕ на человека (в процентах от всех) - допустим это 60к+ \n",
    "\n",
    "print('Всего покупателей:', df_order_sum.count())\n",
    "print('Количество покупателей с общей суммой покупки > 60000 рублей за год:', df_order_sum[df_order_sum > 60000].count())\n",
    "print('Что составляет % от всех равный:', df_order_sum[df_order_sum > 60000].count() / df_order_sum.count() * 100)"
   ]
  },
  {
   "cell_type": "code",
   "execution_count": 29,
   "metadata": {},
   "outputs": [
    {
     "data": {
      "text/plain": [
       "customer_id\n",
       "969844516      501\n",
       "993565514      501\n",
       "528419594      501\n",
       "778650355      501\n",
       "977330331      501\n",
       "             ...  \n",
       "134299169    59896\n",
       "160343299    59909\n",
       "862220363    59916\n",
       "607223536    59916\n",
       "529616975    59964\n",
       "Name: order_sum, Length: 193840, dtype: int64"
      ]
     },
     "execution_count": 29,
     "metadata": {},
     "output_type": "execute_result"
    }
   ],
   "source": [
    "# посмотрим на тех, кто по ОБЩЕЙ СУММЕ потратил менее 60000 (99.2% от всех)\n",
    "\n",
    "df_order_sum_nobig = df_order_sum[df_order_sum <= 60000] \n",
    "df_order_sum_nobig.sort_values()"
   ]
  },
  {
   "cell_type": "code",
   "execution_count": 30,
   "metadata": {},
   "outputs": [
    {
     "data": {
      "text/plain": [
       "(array([33961., 31632., 33187., 19537., 14171., 10156.,  7441.,  7149.,\n",
       "         5251.,  4023.,  3412.,  2795.,  2438.,  2059.,  1959.,  1561.,\n",
       "         1298.,  1196.,   980.,   927.,   945.,   756.,   670.,   593.,\n",
       "          524.,   498.,   429.,   401.,   405.,   304.,   269.,   226.,\n",
       "          246.,   230.,   187.,   200.,   170.,   161.,   143.,   186.,\n",
       "          167.,   125.,   150.,   130.,   129.,   113.,   109.,    94.,\n",
       "           74.,    73.]),\n",
       " array([  501.  ,  1690.26,  2879.52,  4068.78,  5258.04,  6447.3 ,\n",
       "         7636.56,  8825.82, 10015.08, 11204.34, 12393.6 , 13582.86,\n",
       "        14772.12, 15961.38, 17150.64, 18339.9 , 19529.16, 20718.42,\n",
       "        21907.68, 23096.94, 24286.2 , 25475.46, 26664.72, 27853.98,\n",
       "        29043.24, 30232.5 , 31421.76, 32611.02, 33800.28, 34989.54,\n",
       "        36178.8 , 37368.06, 38557.32, 39746.58, 40935.84, 42125.1 ,\n",
       "        43314.36, 44503.62, 45692.88, 46882.14, 48071.4 , 49260.66,\n",
       "        50449.92, 51639.18, 52828.44, 54017.7 , 55206.96, 56396.22,\n",
       "        57585.48, 58774.74, 59964.  ]),\n",
       " <a list of 50 Patch objects>)"
      ]
     },
     "execution_count": 30,
     "metadata": {},
     "output_type": "execute_result"
    },
    {
     "data": {
      "image/png": "[encoded data removed]",
      "text/plain": [
       "<Figure size 720x432 with 1 Axes>"
      ]
     },
     "metadata": {},
     "output_type": "display_data"
    }
   ],
   "source": [
    "plt.figure(figsize=(10,6))\n",
    "plt.hist(df_order_sum_nobig, bins=50)"
   ]
  },
  {
   "cell_type": "markdown",
   "metadata": {},
   "source": [
    "Выглядит как логнормальное распределение, проверим взяв логарифм:"
   ]
  },
  {
   "cell_type": "code",
   "execution_count": 31,
   "metadata": {},
   "outputs": [
    {
     "data": {
      "text/plain": [
       "(array([ 241.,  233.,  569.,  672., 1038., 1082., 1417., 1288., 1527.,\n",
       "        1490., 1810., 2116., 1858., 1974., 2340., 2334., 2974., 2606.,\n",
       "        2710., 2732., 2534., 3113., 2659., 2785., 3793., 3933., 3100.,\n",
       "        4112., 5587., 4609., 6198., 5942., 6345., 5582., 5398., 4597.,\n",
       "        4656., 4816., 3969., 4463., 4411., 4169., 4097., 3688., 3553.,\n",
       "        3017., 3048., 2986., 3593., 3276., 2680., 2869., 2430., 2377.,\n",
       "        2185., 2032., 1955., 1810., 1728., 1785., 1454., 1388., 1268.,\n",
       "        1156., 1143., 1078.,  955.,  872.,  749.,  709.,  695.,  523.,\n",
       "         467.,  430.,  398.,  359.,  395.,  358.,  317.,  235.]),\n",
       " array([ 6.2166061 ,  6.27641727,  6.33622844,  6.39603961,  6.45585078,\n",
       "         6.51566195,  6.57547312,  6.63528429,  6.69509546,  6.75490663,\n",
       "         6.8147178 ,  6.87452897,  6.93434014,  6.9941513 ,  7.05396247,\n",
       "         7.11377364,  7.17358481,  7.23339598,  7.29320715,  7.35301832,\n",
       "         7.41282949,  7.47264066,  7.53245183,  7.592263  ,  7.65207417,\n",
       "         7.71188534,  7.77169651,  7.83150768,  7.89131885,  7.95113002,\n",
       "         8.01094119,  8.07075236,  8.13056353,  8.19037469,  8.25018586,\n",
       "         8.30999703,  8.3698082 ,  8.42961937,  8.48943054,  8.54924171,\n",
       "         8.60905288,  8.66886405,  8.72867522,  8.78848639,  8.84829756,\n",
       "         8.90810873,  8.9679199 ,  9.02773107,  9.08754224,  9.14735341,\n",
       "         9.20716458,  9.26697575,  9.32678692,  9.38659808,  9.44640925,\n",
       "         9.50622042,  9.56603159,  9.62584276,  9.68565393,  9.7454651 ,\n",
       "         9.80527627,  9.86508744,  9.92489861,  9.98470978, 10.04452095,\n",
       "        10.10433212, 10.16414329, 10.22395446, 10.28376563, 10.3435768 ,\n",
       "        10.40338797, 10.46319914, 10.52301031, 10.58282147, 10.64263264,\n",
       "        10.70244381, 10.76225498, 10.82206615, 10.88187732, 10.94168849,\n",
       "        11.00149966]),\n",
       " <a list of 80 Patch objects>)"
      ]
     },
     "execution_count": 31,
     "metadata": {},
     "output_type": "execute_result"
    },
    {
     "data": {
      "image/png": "[encoded data removed]",
      "text/plain": [
       "<Figure size 720x432 with 1 Axes>"
      ]
     },
     "metadata": {},
     "output_type": "display_data"
    }
   ],
   "source": [
    "plt.figure(figsize=(10,6))\n",
    "plt.hist(np.log(df_order_sum_nobig), bins=80)"
   ]
  },
  {
   "cell_type": "markdown",
   "metadata": {},
   "source": [
    "Выходит да, всё верно, исходное распределение ОБЩИХ СУММ по покупателям логнормальное т.к. их логарифм имеет нормальное распределение."
   ]
  },
  {
   "cell_type": "markdown",
   "metadata": {},
   "source": [
    "#### 1.4б. Средний чек на каждого покупателя:"
   ]
  },
  {
   "cell_type": "code",
   "execution_count": 32,
   "metadata": {},
   "outputs": [
    {
     "data": {
      "text/plain": [
       "customer_id\n",
       "363589055       501.0\n",
       "528419594       501.0\n",
       "166450395       501.0\n",
       "34269496        501.0\n",
       "491672528       501.0\n",
       "               ...   \n",
       "666525086    123995.0\n",
       "682090389    127115.0\n",
       "141411004    141765.0\n",
       "921470436    149046.0\n",
       "377798721    169338.0\n",
       "Name: order_sum, Length: 195485, dtype: float64"
      ]
     },
     "execution_count": 32,
     "metadata": {},
     "output_type": "execute_result"
    }
   ],
   "source": [
    "# теперь тоже самое для СРЕДНИХ ЧЕКОВ по каждому конкретному покупателю за весь период\n",
    "\n",
    "df_order_mean = df.groupby(['customer_id'])['order_sum'].mean()\n",
    "df_order_mean.sort_values()"
   ]
  },
  {
   "cell_type": "code",
   "execution_count": 33,
   "metadata": {},
   "outputs": [
    {
     "data": {
      "text/plain": [
       "<matplotlib.collections.PathCollection at 0x219df7c4400>"
      ]
     },
     "execution_count": 33,
     "metadata": {},
     "output_type": "execute_result"
    },
    {
     "data": {
      "image/png": "[encoded data removed]",
      "text/plain": [
       "<Figure size 720x432 with 1 Axes>"
      ]
     },
     "metadata": {},
     "output_type": "display_data"
    }
   ],
   "source": [
    "# так же сравнительно небольшое количество покупателей, у которых очень высокий СРЕДНИЙ ЧЕК - тоже выбросы\n",
    "\n",
    "plt.figure(figsize=(10, 6))\n",
    "plt.scatter(x = df_order_mean.index, y = df_order_mean.sort_values(), alpha=0.1)"
   ]
  },
  {
   "cell_type": "code",
   "execution_count": 34,
   "metadata": {},
   "outputs": [
    {
     "name": "stdout",
     "output_type": "stream",
     "text": [
      "Всего покупателей: 195485\n",
      "Количество покупателей со средней суммой покупки > 30000 рублей за год: 1161\n",
      "Что составляет % от всех равный: 0.5939074609305062\n"
     ]
    }
   ],
   "source": [
    "# так же прикинем разумные границы для выделения выбросов по СРЕДНЕМУ чеку на человека (в процентах от всех) - допустим 30к+\n",
    "\n",
    "print('Всего покупателей:', df_order_mean.count())\n",
    "print('Количество покупателей со средней суммой покупки > 30000 рублей за год:', df_order_mean[df_order_mean > 30000].count())\n",
    "print('Что составляет % от всех равный:', df_order_mean[df_order_mean > 30000].count() / df_order_mean.count() * 100)"
   ]
  },
  {
   "cell_type": "code",
   "execution_count": 35,
   "metadata": {},
   "outputs": [
    {
     "data": {
      "text/plain": [
       "customer_id\n",
       "977330331      501.0\n",
       "959866748      501.0\n",
       "534746614      501.0\n",
       "921287186      501.0\n",
       "993565514      501.0\n",
       "              ...   \n",
       "63832571     29979.0\n",
       "957383008    29979.0\n",
       "529616975    29982.0\n",
       "855527783    29987.0\n",
       "456111579    29987.0\n",
       "Name: order_sum, Length: 194324, dtype: float64"
      ]
     },
     "execution_count": 35,
     "metadata": {},
     "output_type": "execute_result"
    }
   ],
   "source": [
    "# изучим теперь тех, кто имел средний чек менее 30000 (99.4% от всех) \n",
    "\n",
    "df_order_mean_nobig = df_order_mean[df_order_mean <= 30000] \n",
    "df_order_mean_nobig.sort_values()"
   ]
  },
  {
   "cell_type": "code",
   "execution_count": 36,
   "metadata": {},
   "outputs": [
    {
     "data": {
      "text/plain": [
       "(array([11746., 21270., 24128., 18991., 15193., 12868., 12252., 10627.,\n",
       "         8570.,  6982.,  5272.,  4908.,  4321.,  3772.,  2829.,  2848.,\n",
       "         2431.,  2026.,  1886.,  1466.,  1514.,  1046.,  1371.,  1818.,\n",
       "         1175.,  1104.,   867.,   891.,   757.,   524.,   636.,   546.,\n",
       "          481.,   380.,   454.,   377.,   271.,   348.,   343.,   338.,\n",
       "          241.,   293.,   247.,   156.,   274.,   297.,   309.,   143.,\n",
       "          177.,   127.,   170.,    85.,   111.,   132.,   106.,   105.,\n",
       "          116.,   138.,    62.,    96.,    98.,    83.,    97.,    67.,\n",
       "          120.,    46.,    89.,    93.,    76.,    93.,    52.,    55.,\n",
       "           44.,    38.,    47.,    45.,    46.,    49.,    40.,    34.]),\n",
       " array([  501.   ,   869.575,  1238.15 ,  1606.725,  1975.3  ,  2343.875,\n",
       "         2712.45 ,  3081.025,  3449.6  ,  3818.175,  4186.75 ,  4555.325,\n",
       "         4923.9  ,  5292.475,  5661.05 ,  6029.625,  6398.2  ,  6766.775,\n",
       "         7135.35 ,  7503.925,  7872.5  ,  8241.075,  8609.65 ,  8978.225,\n",
       "         9346.8  ,  9715.375, 10083.95 , 10452.525, 10821.1  , 11189.675,\n",
       "        11558.25 , 11926.825, 12295.4  , 12663.975, 13032.55 , 13401.125,\n",
       "        13769.7  , 14138.275, 14506.85 , 14875.425, 15244.   , 15612.575,\n",
       "        15981.15 , 16349.725, 16718.3  , 17086.875, 17455.45 , 17824.025,\n",
       "        18192.6  , 18561.175, 18929.75 , 19298.325, 19666.9  , 20035.475,\n",
       "        20404.05 , 20772.625, 21141.2  , 21509.775, 21878.35 , 22246.925,\n",
       "        22615.5  , 22984.075, 23352.65 , 23721.225, 24089.8  , 24458.375,\n",
       "        24826.95 , 25195.525, 25564.1  , 25932.675, 26301.25 , 26669.825,\n",
       "        27038.4  , 27406.975, 27775.55 , 28144.125, 28512.7  , 28881.275,\n",
       "        29249.85 , 29618.425, 29987.   ]),\n",
       " <a list of 80 Patch objects>)"
      ]
     },
     "execution_count": 36,
     "metadata": {},
     "output_type": "execute_result"
    },
    {
     "data": {
      "image/png": "[encoded data removed]",
      "text/plain": [
       "<Figure size 720x432 with 1 Axes>"
      ]
     },
     "metadata": {},
     "output_type": "display_data"
    }
   ],
   "source": [
    "plt.figure(figsize=(10,6))\n",
    "plt.hist(df_order_mean_nobig, bins=80)"
   ]
  },
  {
   "cell_type": "markdown",
   "metadata": {},
   "source": [
    "Тоже выглядит как логнормальное распределение, проверим взяв логарифм:"
   ]
  },
  {
   "cell_type": "code",
   "execution_count": 37,
   "metadata": {},
   "outputs": [
    {
     "data": {
      "text/plain": [
       "(array([ 765.,  699., 1110., 1813., 2224., 2692., 3349., 4051., 4618.,\n",
       "        5244., 6108., 6193., 8907., 7337., 7761., 7639., 7078., 6592.,\n",
       "        8414., 6555., 7826., 7351., 8454., 7923., 6098., 6060., 5143.,\n",
       "        5279., 4670., 4330., 3877., 3360., 3253., 2290., 2729., 3024.,\n",
       "        2289., 1874., 1523., 1188., 1178.,  986.,  922.,  859.,  594.,\n",
       "         499.,  484.,  478.,  361.,  273.]),\n",
       " array([ 6.2166061 ,  6.29844436,  6.38028263,  6.46212089,  6.54395915,\n",
       "         6.62579741,  6.70763568,  6.78947394,  6.8713122 ,  6.95315046,\n",
       "         7.03498873,  7.11682699,  7.19866525,  7.28050352,  7.36234178,\n",
       "         7.44418004,  7.5260183 ,  7.60785657,  7.68969483,  7.77153309,\n",
       "         7.85337135,  7.93520962,  8.01704788,  8.09888614,  8.1807244 ,\n",
       "         8.26256267,  8.34440093,  8.42623919,  8.50807746,  8.58991572,\n",
       "         8.67175398,  8.75359224,  8.83543051,  8.91726877,  8.99910703,\n",
       "         9.08094529,  9.16278356,  9.24462182,  9.32646008,  9.40829834,\n",
       "         9.49013661,  9.57197487,  9.65381313,  9.73565139,  9.81748966,\n",
       "         9.89932792,  9.98116618, 10.06300445, 10.14484271, 10.22668097,\n",
       "        10.30851923]),\n",
       " <a list of 50 Patch objects>)"
      ]
     },
     "execution_count": 37,
     "metadata": {},
     "output_type": "execute_result"
    },
    {
     "data": {
      "image/png": "[encoded data removed]",
      "text/plain": [
       "<Figure size 720x432 with 1 Axes>"
      ]
     },
     "metadata": {},
     "output_type": "display_data"
    }
   ],
   "source": [
    "plt.figure(figsize=(10,6))\n",
    "plt.hist(np.log(df_order_mean_nobig), bins=50)"
   ]
  },
  {
   "cell_type": "markdown",
   "metadata": {},
   "source": [
    "Точно так же выходит да, всё верно, исходное распределение СРЕДНИХ ЧЕКОВ по покупателям логнормальное т.к. их логарифм имеет нормальное распределение."
   ]
  },
  {
   "cell_type": "markdown",
   "metadata": {},
   "source": [
    "#### 1.4в. Частота покупки на каждого покупателя:"
   ]
  },
  {
   "cell_type": "code",
   "execution_count": 38,
   "metadata": {},
   "outputs": [
    {
     "data": {
      "text/plain": [
       "customer_id\n",
       "11113014       1\n",
       "697678469      1\n",
       "697678605      1\n",
       "697694161      1\n",
       "697739561      1\n",
       "            ... \n",
       "474193719    339\n",
       "813646679    356\n",
       "27118041     398\n",
       "557309662    485\n",
       "359859048    523\n",
       "Name: order_id, Length: 195485, dtype: int64"
      ]
     },
     "execution_count": 38,
     "metadata": {},
     "output_type": "execute_result"
    }
   ],
   "source": [
    "# КОЛИЧЕСТВО ЗАКАЗОВ по каждому конкретному покупателю за весь период\n",
    "\n",
    "df_delivered_freq = df.groupby(['customer_id'])['order_id'].nunique()\n",
    "df_delivered_freq.sort_values()"
   ]
  },
  {
   "cell_type": "code",
   "execution_count": 39,
   "metadata": {},
   "outputs": [
    {
     "data": {
      "text/plain": [
       "<matplotlib.axes._subplots.AxesSubplot at 0x219df93d160>"
      ]
     },
     "execution_count": 39,
     "metadata": {},
     "output_type": "execute_result"
    },
    {
     "data": {
      "image/png": "[encoded data removed]",
      "text/plain": [
       "<Figure size 720x432 with 1 Axes>"
      ]
     },
     "metadata": {},
     "output_type": "display_data"
    }
   ],
   "source": [
    "# опять сравнительно небольшое количество покупателей, у которых очень большое КОЛИЧЕСТВО ЗАКАЗОВ\n",
    "\n",
    "plt.figure(figsize=(10,6))\n",
    "df_delivered_freq.plot()"
   ]
  },
  {
   "cell_type": "markdown",
   "metadata": {},
   "source": [
    "Настолько высокочастотные покупатели это подозрительно. Возможно, это корпоративные аккаунты или вроде того. Если так, то скорее всего в их составе разные категории и/или большое количество позиций. Проверим 20 самых высокочастотных покупателей - действительно разнообразие категорий в среднем высоко (столбец category_id - nunique) из максимальных 16, так же и объем совокупных закупок в единицах высок (столбец items_qty - sum):"
   ]
  },
  {
   "cell_type": "code",
   "execution_count": 40,
   "metadata": {},
   "outputs": [
    {
     "data": {
      "text/html": [
       "<div>\n",
       "<style scoped>\n",
       "    .dataframe tbody tr th:only-of-type {\n",
       "        vertical-align: middle;\n",
       "    }\n",
       "\n",
       "    .dataframe tbody tr th {\n",
       "        vertical-align: top;\n",
       "    }\n",
       "\n",
       "    .dataframe thead tr th {\n",
       "        text-align: left;\n",
       "    }\n",
       "\n",
       "    .dataframe thead tr:last-of-type th {\n",
       "        text-align: right;\n",
       "    }\n",
       "</style>\n",
       "<table border=\"1\" class=\"dataframe\">\n",
       "  <thead>\n",
       "    <tr>\n",
       "      <th></th>\n",
       "      <th colspan=\"2\" halign=\"left\">category_id</th>\n",
       "      <th colspan=\"2\" halign=\"left\">items_qty</th>\n",
       "    </tr>\n",
       "    <tr>\n",
       "      <th></th>\n",
       "      <th>sum</th>\n",
       "      <th>nunique</th>\n",
       "      <th>sum</th>\n",
       "      <th>nunique</th>\n",
       "    </tr>\n",
       "    <tr>\n",
       "      <th>customer_id</th>\n",
       "      <th></th>\n",
       "      <th></th>\n",
       "      <th></th>\n",
       "      <th></th>\n",
       "    </tr>\n",
       "  </thead>\n",
       "  <tbody>\n",
       "    <tr>\n",
       "      <th>11835650</th>\n",
       "      <td>1189</td>\n",
       "      <td>11</td>\n",
       "      <td>301</td>\n",
       "      <td>10</td>\n",
       "    </tr>\n",
       "    <tr>\n",
       "      <th>27118041</th>\n",
       "      <td>4806</td>\n",
       "      <td>3</td>\n",
       "      <td>591</td>\n",
       "      <td>10</td>\n",
       "    </tr>\n",
       "    <tr>\n",
       "      <th>32715298</th>\n",
       "      <td>1619</td>\n",
       "      <td>10</td>\n",
       "      <td>233</td>\n",
       "      <td>7</td>\n",
       "    </tr>\n",
       "    <tr>\n",
       "      <th>39178271</th>\n",
       "      <td>1842</td>\n",
       "      <td>7</td>\n",
       "      <td>278</td>\n",
       "      <td>9</td>\n",
       "    </tr>\n",
       "    <tr>\n",
       "      <th>118248692</th>\n",
       "      <td>2118</td>\n",
       "      <td>9</td>\n",
       "      <td>581</td>\n",
       "      <td>11</td>\n",
       "    </tr>\n",
       "    <tr>\n",
       "      <th>169969043</th>\n",
       "      <td>1545</td>\n",
       "      <td>3</td>\n",
       "      <td>268</td>\n",
       "      <td>6</td>\n",
       "    </tr>\n",
       "    <tr>\n",
       "      <th>171849217</th>\n",
       "      <td>2228</td>\n",
       "      <td>9</td>\n",
       "      <td>300</td>\n",
       "      <td>4</td>\n",
       "    </tr>\n",
       "    <tr>\n",
       "      <th>234194439</th>\n",
       "      <td>1929</td>\n",
       "      <td>8</td>\n",
       "      <td>511</td>\n",
       "      <td>8</td>\n",
       "    </tr>\n",
       "    <tr>\n",
       "      <th>293717885</th>\n",
       "      <td>805</td>\n",
       "      <td>9</td>\n",
       "      <td>1568</td>\n",
       "      <td>28</td>\n",
       "    </tr>\n",
       "    <tr>\n",
       "      <th>316013915</th>\n",
       "      <td>798</td>\n",
       "      <td>6</td>\n",
       "      <td>1174</td>\n",
       "      <td>26</td>\n",
       "    </tr>\n",
       "    <tr>\n",
       "      <th>339445972</th>\n",
       "      <td>652</td>\n",
       "      <td>5</td>\n",
       "      <td>1347</td>\n",
       "      <td>32</td>\n",
       "    </tr>\n",
       "    <tr>\n",
       "      <th>359859048</th>\n",
       "      <td>2195</td>\n",
       "      <td>7</td>\n",
       "      <td>4612</td>\n",
       "      <td>38</td>\n",
       "    </tr>\n",
       "    <tr>\n",
       "      <th>382993141</th>\n",
       "      <td>1966</td>\n",
       "      <td>10</td>\n",
       "      <td>312</td>\n",
       "      <td>6</td>\n",
       "    </tr>\n",
       "    <tr>\n",
       "      <th>474193719</th>\n",
       "      <td>1464</td>\n",
       "      <td>8</td>\n",
       "      <td>3708</td>\n",
       "      <td>40</td>\n",
       "    </tr>\n",
       "    <tr>\n",
       "      <th>557309662</th>\n",
       "      <td>5816</td>\n",
       "      <td>11</td>\n",
       "      <td>1589</td>\n",
       "      <td>21</td>\n",
       "    </tr>\n",
       "    <tr>\n",
       "      <th>754115812</th>\n",
       "      <td>1623</td>\n",
       "      <td>4</td>\n",
       "      <td>245</td>\n",
       "      <td>8</td>\n",
       "    </tr>\n",
       "    <tr>\n",
       "      <th>797239655</th>\n",
       "      <td>671</td>\n",
       "      <td>3</td>\n",
       "      <td>1178</td>\n",
       "      <td>20</td>\n",
       "    </tr>\n",
       "    <tr>\n",
       "      <th>813646679</th>\n",
       "      <td>1449</td>\n",
       "      <td>4</td>\n",
       "      <td>4053</td>\n",
       "      <td>32</td>\n",
       "    </tr>\n",
       "    <tr>\n",
       "      <th>873330132</th>\n",
       "      <td>3210</td>\n",
       "      <td>7</td>\n",
       "      <td>515</td>\n",
       "      <td>10</td>\n",
       "    </tr>\n",
       "    <tr>\n",
       "      <th>897973115</th>\n",
       "      <td>1229</td>\n",
       "      <td>2</td>\n",
       "      <td>4037</td>\n",
       "      <td>30</td>\n",
       "    </tr>\n",
       "  </tbody>\n",
       "</table>\n",
       "</div>"
      ],
      "text/plain": [
       "            category_id         items_qty        \n",
       "                    sum nunique       sum nunique\n",
       "customer_id                                      \n",
       "11835650           1189      11       301      10\n",
       "27118041           4806       3       591      10\n",
       "32715298           1619      10       233       7\n",
       "39178271           1842       7       278       9\n",
       "118248692          2118       9       581      11\n",
       "169969043          1545       3       268       6\n",
       "171849217          2228       9       300       4\n",
       "234194439          1929       8       511       8\n",
       "293717885           805       9      1568      28\n",
       "316013915           798       6      1174      26\n",
       "339445972           652       5      1347      32\n",
       "359859048          2195       7      4612      38\n",
       "382993141          1966      10       312       6\n",
       "474193719          1464       8      3708      40\n",
       "557309662          5816      11      1589      21\n",
       "754115812          1623       4       245       8\n",
       "797239655           671       3      1178      20\n",
       "813646679          1449       4      4053      32\n",
       "873330132          3210       7       515      10\n",
       "897973115          1229       2      4037      30"
      ]
     },
     "execution_count": 40,
     "metadata": {},
     "output_type": "execute_result"
    }
   ],
   "source": [
    "df_hiqh_freq = df_delivered_freq.sort_values()[-20:]\n",
    "df[df['customer_id'].isin(df_hiqh_freq.index)].groupby(['customer_id'])[['category_id', 'items_qty']].agg(['sum', 'nunique'])"
   ]
  },
  {
   "cell_type": "code",
   "execution_count": 41,
   "metadata": {},
   "outputs": [
    {
     "name": "stdout",
     "output_type": "stream",
     "text": [
      "Всего покупателей: 195485\n",
      "Покупатели у которых от 26 заказов за год: 199\n",
      "То есть покупателей-выбросов от всех покупателей % равный: 0.056429567959348025\n",
      "Всего покупателей без выбросов: 195286\n",
      "Средняя частота за год на одного покупателя без учета выбросов: 1.7391722908964289\n"
     ]
    }
   ],
   "source": [
    "# прикинем разумные границы по КОЛИЧЕСТВУ ЗАКАЗОВ на покупателей. Допустим выброс это частота 26 и более заказов за год\n",
    "\n",
    "print('Всего покупателей:', df_delivered_freq.count())\n",
    "print('Покупатели у которых от 26 заказов за год:',(df_delivered_freq > 25).sum())\n",
    "print('То есть покупателей-выбросов от всех покупателей % равный:', (df_delivered_freq > 25).sum() / df_delivered_freq.sum() * 100)\n",
    "print('Всего покупателей без выбросов:', df_delivered_freq[df_delivered_freq <= 25].count())\n",
    "print('Средняя частота за год на одного покупателя без учета выбросов:', df_delivered_freq[df_delivered_freq <= 25].mean())"
   ]
  },
  {
   "cell_type": "code",
   "execution_count": 42,
   "metadata": {},
   "outputs": [
    {
     "data": {
      "text/html": [
       "<div>\n",
       "<style scoped>\n",
       "    .dataframe tbody tr th:only-of-type {\n",
       "        vertical-align: middle;\n",
       "    }\n",
       "\n",
       "    .dataframe tbody tr th {\n",
       "        vertical-align: top;\n",
       "    }\n",
       "\n",
       "    .dataframe thead th {\n",
       "        text-align: right;\n",
       "    }\n",
       "</style>\n",
       "<table border=\"1\" class=\"dataframe\">\n",
       "  <thead>\n",
       "    <tr style=\"text-align: right;\">\n",
       "      <th></th>\n",
       "      <th>creation_date</th>\n",
       "      <th>Year</th>\n",
       "      <th>Month</th>\n",
       "      <th>region_id</th>\n",
       "      <th>customer_id</th>\n",
       "      <th>order_id</th>\n",
       "      <th>order_status</th>\n",
       "      <th>category_id</th>\n",
       "      <th>order_sum</th>\n",
       "      <th>items_qty</th>\n",
       "    </tr>\n",
       "  </thead>\n",
       "  <tbody>\n",
       "    <tr>\n",
       "      <th>529604</th>\n",
       "      <td>2019-01-01</td>\n",
       "      <td>2019</td>\n",
       "      <td>1</td>\n",
       "      <td>1175</td>\n",
       "      <td>759894626</td>\n",
       "      <td>9264274</td>\n",
       "      <td>DELIVERED</td>\n",
       "      <td>16</td>\n",
       "      <td>8021</td>\n",
       "      <td>1</td>\n",
       "    </tr>\n",
       "    <tr>\n",
       "      <th>304498</th>\n",
       "      <td>2019-01-01</td>\n",
       "      <td>2019</td>\n",
       "      <td>1</td>\n",
       "      <td>1125</td>\n",
       "      <td>773011457</td>\n",
       "      <td>9265582</td>\n",
       "      <td>DELIVERED</td>\n",
       "      <td>16</td>\n",
       "      <td>8191</td>\n",
       "      <td>1</td>\n",
       "    </tr>\n",
       "    <tr>\n",
       "      <th>250381</th>\n",
       "      <td>2019-01-01</td>\n",
       "      <td>2019</td>\n",
       "      <td>1</td>\n",
       "      <td>1125</td>\n",
       "      <td>774046027</td>\n",
       "      <td>9266234</td>\n",
       "      <td>DELIVERED</td>\n",
       "      <td>16</td>\n",
       "      <td>8191</td>\n",
       "      <td>1</td>\n",
       "    </tr>\n",
       "    <tr>\n",
       "      <th>528016</th>\n",
       "      <td>2019-01-01</td>\n",
       "      <td>2019</td>\n",
       "      <td>1</td>\n",
       "      <td>1225</td>\n",
       "      <td>686211918</td>\n",
       "      <td>9271396</td>\n",
       "      <td>DELIVERED</td>\n",
       "      <td>12</td>\n",
       "      <td>8434</td>\n",
       "      <td>1</td>\n",
       "    </tr>\n",
       "    <tr>\n",
       "      <th>126796</th>\n",
       "      <td>2019-01-01</td>\n",
       "      <td>2019</td>\n",
       "      <td>1</td>\n",
       "      <td>1625</td>\n",
       "      <td>796520652</td>\n",
       "      <td>9266324</td>\n",
       "      <td>DELIVERED</td>\n",
       "      <td>2</td>\n",
       "      <td>2554</td>\n",
       "      <td>3</td>\n",
       "    </tr>\n",
       "    <tr>\n",
       "      <th>...</th>\n",
       "      <td>...</td>\n",
       "      <td>...</td>\n",
       "      <td>...</td>\n",
       "      <td>...</td>\n",
       "      <td>...</td>\n",
       "      <td>...</td>\n",
       "      <td>...</td>\n",
       "      <td>...</td>\n",
       "      <td>...</td>\n",
       "      <td>...</td>\n",
       "    </tr>\n",
       "    <tr>\n",
       "      <th>111852</th>\n",
       "      <td>2019-12-31</td>\n",
       "      <td>2019</td>\n",
       "      <td>12</td>\n",
       "      <td>975</td>\n",
       "      <td>25933585</td>\n",
       "      <td>25218210</td>\n",
       "      <td>DELIVERED</td>\n",
       "      <td>2</td>\n",
       "      <td>9901</td>\n",
       "      <td>1</td>\n",
       "    </tr>\n",
       "    <tr>\n",
       "      <th>338718</th>\n",
       "      <td>2019-12-31</td>\n",
       "      <td>2019</td>\n",
       "      <td>12</td>\n",
       "      <td>150</td>\n",
       "      <td>263019119</td>\n",
       "      <td>25205856</td>\n",
       "      <td>DELIVERED</td>\n",
       "      <td>2</td>\n",
       "      <td>1450</td>\n",
       "      <td>1</td>\n",
       "    </tr>\n",
       "    <tr>\n",
       "      <th>264522</th>\n",
       "      <td>2019-12-31</td>\n",
       "      <td>2019</td>\n",
       "      <td>12</td>\n",
       "      <td>1175</td>\n",
       "      <td>462447886</td>\n",
       "      <td>25209092</td>\n",
       "      <td>DELIVERED</td>\n",
       "      <td>16</td>\n",
       "      <td>27286</td>\n",
       "      <td>1</td>\n",
       "    </tr>\n",
       "    <tr>\n",
       "      <th>409150</th>\n",
       "      <td>2019-12-31</td>\n",
       "      <td>2019</td>\n",
       "      <td>12</td>\n",
       "      <td>24175</td>\n",
       "      <td>1010429215</td>\n",
       "      <td>25204122</td>\n",
       "      <td>DELIVERED</td>\n",
       "      <td>12</td>\n",
       "      <td>4981</td>\n",
       "      <td>1</td>\n",
       "    </tr>\n",
       "    <tr>\n",
       "      <th>264566</th>\n",
       "      <td>2019-12-31</td>\n",
       "      <td>2019</td>\n",
       "      <td>12</td>\n",
       "      <td>1075</td>\n",
       "      <td>93562625</td>\n",
       "      <td>25203548</td>\n",
       "      <td>DELIVERED</td>\n",
       "      <td>16</td>\n",
       "      <td>1893</td>\n",
       "      <td>1</td>\n",
       "    </tr>\n",
       "  </tbody>\n",
       "</table>\n",
       "<p>433410 rows × 10 columns</p>\n",
       "</div>"
      ],
      "text/plain": [
       "       creation_date  Year  Month  region_id  customer_id  order_id  \\\n",
       "529604    2019-01-01  2019      1       1175    759894626   9264274   \n",
       "304498    2019-01-01  2019      1       1125    773011457   9265582   \n",
       "250381    2019-01-01  2019      1       1125    774046027   9266234   \n",
       "528016    2019-01-01  2019      1       1225    686211918   9271396   \n",
       "126796    2019-01-01  2019      1       1625    796520652   9266324   \n",
       "...              ...   ...    ...        ...          ...       ...   \n",
       "111852    2019-12-31  2019     12        975     25933585  25218210   \n",
       "338718    2019-12-31  2019     12        150    263019119  25205856   \n",
       "264522    2019-12-31  2019     12       1175    462447886  25209092   \n",
       "409150    2019-12-31  2019     12      24175   1010429215  25204122   \n",
       "264566    2019-12-31  2019     12       1075     93562625  25203548   \n",
       "\n",
       "       order_status  category_id  order_sum  items_qty  \n",
       "529604    DELIVERED           16       8021          1  \n",
       "304498    DELIVERED           16       8191          1  \n",
       "250381    DELIVERED           16       8191          1  \n",
       "528016    DELIVERED           12       8434          1  \n",
       "126796    DELIVERED            2       2554          3  \n",
       "...             ...          ...        ...        ...  \n",
       "111852    DELIVERED            2       9901          1  \n",
       "338718    DELIVERED            2       1450          1  \n",
       "264522    DELIVERED           16      27286          1  \n",
       "409150    DELIVERED           12       4981          1  \n",
       "264566    DELIVERED           16       1893          1  \n",
       "\n",
       "[433410 rows x 10 columns]"
      ]
     },
     "execution_count": 42,
     "metadata": {},
     "output_type": "execute_result"
    }
   ],
   "source": [
    "# выделим покупателей с нормальным КОЛИЧЕСТВОМ ЗАКАЗОВ, до 25 включительно\n",
    "\n",
    "df_delivered_25orders = df[df['customer_id'].isin((df_delivered_freq[df_delivered_freq <= 25]).index)]\n",
    "df_delivered_25orders"
   ]
  },
  {
   "cell_type": "code",
   "execution_count": 43,
   "metadata": {},
   "outputs": [
    {
     "data": {
      "text/plain": [
       "<matplotlib.axes._subplots.AxesSubplot at 0x219e53f47c0>"
      ]
     },
     "execution_count": 43,
     "metadata": {},
     "output_type": "execute_result"
    },
    {
     "data": {
      "image/png": "[encoded data removed]",
      "text/plain": [
       "<Figure size 720x432 with 1 Axes>"
      ]
     },
     "metadata": {},
     "output_type": "display_data"
    }
   ],
   "source": [
    "# вид по КОЛИЧЕСТВУ ЗАКАЗОВ ожидаемый - логнормальное распределение\n",
    "\n",
    "plt.figure(figsize=(10,6))\n",
    "df_delivered_25orders.groupby(['customer_id'])['order_id'].nunique().hist(bins = 25)"
   ]
  },
  {
   "cell_type": "markdown",
   "metadata": {},
   "source": [
    "**1.4г. Разнообразие товарных категорий на покупателя**"
   ]
  },
  {
   "cell_type": "code",
   "execution_count": 44,
   "metadata": {},
   "outputs": [
    {
     "data": {
      "text/html": [
       "<div>\n",
       "<style scoped>\n",
       "    .dataframe tbody tr th:only-of-type {\n",
       "        vertical-align: middle;\n",
       "    }\n",
       "\n",
       "    .dataframe tbody tr th {\n",
       "        vertical-align: top;\n",
       "    }\n",
       "\n",
       "    .dataframe thead th {\n",
       "        text-align: right;\n",
       "    }\n",
       "</style>\n",
       "<table border=\"1\" class=\"dataframe\">\n",
       "  <thead>\n",
       "    <tr style=\"text-align: right;\">\n",
       "      <th></th>\n",
       "      <th>customer_id</th>\n",
       "    </tr>\n",
       "    <tr>\n",
       "      <th>assortment</th>\n",
       "      <th></th>\n",
       "    </tr>\n",
       "  </thead>\n",
       "  <tbody>\n",
       "    <tr>\n",
       "      <th>1.681818</th>\n",
       "      <td>1</td>\n",
       "    </tr>\n",
       "    <tr>\n",
       "      <th>1.652174</th>\n",
       "      <td>1</td>\n",
       "    </tr>\n",
       "    <tr>\n",
       "      <th>1.687500</th>\n",
       "      <td>1</td>\n",
       "    </tr>\n",
       "    <tr>\n",
       "      <th>1.708333</th>\n",
       "      <td>1</td>\n",
       "    </tr>\n",
       "    <tr>\n",
       "      <th>1.736842</th>\n",
       "      <td>1</td>\n",
       "    </tr>\n",
       "    <tr>\n",
       "      <th>...</th>\n",
       "      <td>...</td>\n",
       "    </tr>\n",
       "    <tr>\n",
       "      <th>1.333333</th>\n",
       "      <td>2873</td>\n",
       "    </tr>\n",
       "    <tr>\n",
       "      <th>3.000000</th>\n",
       "      <td>4692</td>\n",
       "    </tr>\n",
       "    <tr>\n",
       "      <th>1.500000</th>\n",
       "      <td>6596</td>\n",
       "    </tr>\n",
       "    <tr>\n",
       "      <th>2.000000</th>\n",
       "      <td>17251</td>\n",
       "    </tr>\n",
       "    <tr>\n",
       "      <th>1.000000</th>\n",
       "      <td>150978</td>\n",
       "    </tr>\n",
       "  </tbody>\n",
       "</table>\n",
       "<p>404 rows × 1 columns</p>\n",
       "</div>"
      ],
      "text/plain": [
       "            customer_id\n",
       "assortment             \n",
       "1.681818              1\n",
       "1.652174              1\n",
       "1.687500              1\n",
       "1.708333              1\n",
       "1.736842              1\n",
       "...                 ...\n",
       "1.333333           2873\n",
       "3.000000           4692\n",
       "1.500000           6596\n",
       "2.000000          17251\n",
       "1.000000         150978\n",
       "\n",
       "[404 rows x 1 columns]"
      ]
     },
     "execution_count": 44,
     "metadata": {},
     "output_type": "execute_result"
    }
   ],
   "source": [
    "# посмотрим подробнее по ШИРОТЕ АССОРТИМЕНТА, который покупают (среднее количество категорий в заказе)\n",
    "\n",
    "df_assortment = df.groupby(['customer_id', 'order_id'])['category_id'].size().to_frame().groupby(['customer_id'])['category_id'].mean()\n",
    "df_assortment = df_assortment.rename('assortment', inplace=True).sort_values().to_frame().reset_index().groupby(['assortment'])['customer_id'].count().sort_values()\n",
    "df_assortment.to_frame()"
   ]
  },
  {
   "cell_type": "markdown",
   "metadata": {},
   "source": [
    "150978 покупателей покупали не более 1 категории в каждом заказе. Глубина ассортимента очевидно потребуется учесть при выделении лояльных."
   ]
  },
  {
   "cell_type": "markdown",
   "metadata": {},
   "source": [
    "#### 1.4д. Пересечение выбросов по общей сумме, среднему чеку и частоте заказов:"
   ]
  },
  {
   "cell_type": "code",
   "execution_count": 45,
   "metadata": {},
   "outputs": [
    {
     "name": "stdout",
     "output_type": "stream",
     "text": [
      "Всего аномальных покупателей хотя бы по одному параметру: 2564\n",
      "Что составляет % от всех покупателей равный: 1.3116095864132797\n"
     ]
    }
   ],
   "source": [
    "# проверим, как пересекаются выбросы и получим список покупателей, которые являются выбросами хотя бы по одному из этих критериев\n",
    "\n",
    "df_order_sum_index = df_order_sum[df_order_sum > 60000].index # customers_id выбросов по ОБЩЕЙ СУММЕ\n",
    "df_order_mean_index = df_order_mean[df_order_mean > 30000].index # customers_id выбросов по СРЕДНЕМУ ЧЕКУ\n",
    "df_delivered_freq_index = df_delivered_freq[df_delivered_freq > 25].index # customers_id выбросов по КОЛИЧЕСТВУ ПОКУПОК\n",
    "\n",
    "outlier_id = list(set(df_order_sum_index.append(df_order_mean_index).append(df_delivered_freq_index)))\n",
    "\n",
    "print('Всего аномальных покупателей хотя бы по одному параметру:', len(outlier_id))\n",
    "print('Что составляет % от всех покупателей равный:', len(outlier_id) / df['customer_id'].nunique() * 100)"
   ]
  },
  {
   "cell_type": "markdown",
   "metadata": {},
   "source": [
    "**1.5 Выводы по разведочному анализу:**"
   ]
  },
  {
   "cell_type": "markdown",
   "metadata": {},
   "source": [
    "**1)** **Главное: в целом данные по общей сумме на покупателя, по среднему чеку на покупателя, по количеству/частоте заказов подчиняются нормальному распределению.**  \n",
    "**2)** Есть явные выбросы по общей сумме (**0.8%** от всех), по среднему чеку (**0.6%** от всех), по количеству/частоте заказов (**0.06%** от всех) - всего с учетом пересечения это **1.3%** от всех покупателей. Вполне вероятно, это корпоративные аккаунты или иные обособленные сущности.  \n",
    "**3)** Очевиден сильный рост от низкой базы (нулевой - открытие в ноябре 2018), что осложняет выведение сезонности.  \n",
    "**4)** Наблюдается значительный рост отмен заказов как в количественном, так и в денежном выражении со второй половины 2019 года. Возможно, это вызвано повышением минимальной стоимости заказа для использования купона (попытка \"добрать\" и затем раскаяние).  \n",
    "**5)** **16я** и **7я** категории дорогие и относительно частопокупаемые. При это по ним очень высок уровень отказов как по количеству, так и в денежном выражении. Возможно, это бытовая техника, гаджеты или другая дорогая техника, покупку которой обдумывают серьезно, потому высокий процент отказов. Вероятно делают заказ, а потом находят другой магазин с лучшими условиями по цене/доставке и т.д.  \n",
    "**6)**  Важнейшие регионы: **875, 975, 1175, 1075, 1625, 950**.\n",
    "875 (очень большой дохода, но ещё больше потерянных на отказах денег), 975 и 1175 (очень большой объем потерь в деньгах), 1075, 1625 и 950 - очевидно в этих 3 регионах деньги и готовность покупать есть, но что-то ведет к большой сумме потерь в деньгах и количеству отмененных заказов. Вероятно, всё это это крупные города (может быть некоторые даже субрегионы). На эти 6 регионов приходится **45%** доходов."
   ]
  },
  {
   "cell_type": "markdown",
   "metadata": {},
   "source": [
    "# 2. Бизнес-метрики"
   ]
  },
  {
   "cell_type": "markdown",
   "metadata": {},
   "source": [
    "Метрики:\n",
    "1. ***Customer Retention Rate (CRR)*** = (total clients on end period - total new clients for period) / total clients on first period \n",
    "2. ***Churn Rate (CR)*** = total clients lost / total clients on first period \n",
    "3. ***Average Customer Lifetime (ACL)*** = 1 / churn rate\n",
    "4. ***Customer Value (CV)*** \n",
    "\n",
    "Average Order Value (AOV) = total revenue / number of orders   \n",
    "Purchase Frequency (PF) = total orders / unique customers  \n",
    "Customer Value (CV) = AOV * PF\n",
    "5. ***Repeat Purchase Rate (RPR)***\n",
    "\n",
    "Repeat Purchase Rate (RPR) = number of customers who bought more than once for period / total number of customers for period\n",
    "6. Так же, для информативности, выведем в реальном выражении значения количества покупателей:  \n",
    "**'Количество клиентов на начало периода' (clients_period_start)**,  \n",
    "**'Количество клиентов на конец периода' (clients_period_end)**,  \n",
    "**'Количество новых клиентов' (clients_new)**,  \n",
    "**'Пересечение клиентов в конце и начале периода' (clients_intersect)**,  \n",
    "**'Количество ушедших клиентов' (clients_lost)**.  \n",
    "\n",
    "Сделаем расчеты бизнес-метрик:"
   ]
  },
  {
   "cell_type": "code",
   "execution_count": 46,
   "metadata": {},
   "outputs": [
    {
     "name": "stdout",
     "output_type": "stream",
     "text": [
      "Количество нормальных покупателей: 192921\n",
      "Количество аномальных покупателей: 2564\n",
      "Аномальные составляют, в % от всех: 1.3116095864132797\n"
     ]
    }
   ],
   "source": [
    "# т.к. аномальных надо изучить отдельно, разделим нормальных и аномальных\n",
    "# нормальные - СРЕДНИЙ ЧЕК менее 30 тыс руб, ОБЩАЯ СУММА ПОКУПОК менее 60 тыс, ЧАСТОТА до 25 (включительно) заказов в год \n",
    "\n",
    "normal_customer_id = df[~df['customer_id'].isin(outlier_id)]['customer_id'].unique()\n",
    "anomal_customer_id_save = df[df['customer_id'].isin(outlier_id)]['customer_id'].unique()\n",
    "anomal_customer_id = outlier_id\n",
    "\n",
    "print('Количество нормальных покупателей:', len(normal_customer_id))\n",
    "print('Количество аномальных покупателей:', len(anomal_customer_id))\n",
    "print('Аномальные составляют, в % от всех:', len(anomal_customer_id) / (len(anomal_customer_id) + len(normal_customer_id)) * 100)"
   ]
  },
  {
   "cell_type": "code",
   "execution_count": 47,
   "metadata": {},
   "outputs": [],
   "source": [
    "# сконцентрируемся на нормальных, без выбросов, но отложим в сторону полный набор (df_save)\n",
    "\n",
    "df_save = df\n",
    "df = df[df['customer_id'].isin(normal_customer_id)]"
   ]
  },
  {
   "cell_type": "markdown",
   "metadata": {},
   "source": [
    "#### 2.1. Расчет CRR, CR, ACL + изменение количества покупателей:"
   ]
  },
  {
   "cell_type": "code",
   "execution_count": 48,
   "metadata": {},
   "outputs": [],
   "source": [
    "# CRR, CR, ACL + изменение количества покупателей - метрики, которые будут МЕСЯЦ К МЕСЯЦУ: \n",
    "\n",
    "# для удобства создадим функцию, которая всё посчитает и запишет в словарь\n",
    "\n",
    "# сustomer retention rate (CRR) = (total clients on end period - total new clients for period) / total clients on first period\n",
    "# churn rate (CR) = total clients lost / total clients on first period\n",
    "# average customer lifetime (ACL) = 1 / churn rate \n",
    "\n",
    "mertics_dict = {}\n",
    "\n",
    "def crr_cr_acl(df):\n",
    "\n",
    "    for i in range(1, len(df['Month'].unique())):\n",
    "        total_clients_on_first = df[df['Month'] == i]['customer_id'].unique()\n",
    "        total_clients_on_end = df[df['Month'] == i+1]['customer_id'].unique()\n",
    "        total_clients_on_first_count = df[df['Month'] == i]['customer_id'].nunique()\n",
    "        total_clients_on_end_count = df[df['Month'] == i+1]['customer_id'].nunique()\n",
    "        intersection = len(set(total_clients_on_end).intersection(total_clients_on_first))\n",
    "        count_new_clients = total_clients_on_end_count - intersection\n",
    "        total_clients_lost = total_clients_on_first_count - intersection\n",
    "    \n",
    "        crr = round(((total_clients_on_end_count - count_new_clients) / total_clients_on_first_count) * 100, 2)\n",
    "        cr = round(total_clients_lost / total_clients_on_first_count * 100, 2)\n",
    "        acl = round(1 / cr * 100, 2)\n",
    "        \n",
    "        mertics_dict[i+1] = [total_clients_on_first_count, total_clients_on_end_count, count_new_clients, intersection, total_clients_lost, crr, cr, acl]\n",
    "\n",
    "crr_cr_acl(df)"
   ]
  },
  {
   "cell_type": "code",
   "execution_count": 49,
   "metadata": {},
   "outputs": [],
   "source": [
    "# для полноты оценки динамики добавим для CRR, CR, ACL данные за январь 2019 (к декабрю 2018, т.к. 2018 у нас в отдельно)\n",
    "\n",
    "total_clients_on_first = df2018[(df2018['Month'] == 12) & (df2018['order_status'] == 'DELIVERED')]['customer_id'].unique()\n",
    "total_clients_on_end = df[df['Month'] == 1]['customer_id'].unique()\n",
    "total_clients_on_first_count = df2018[(df2018['Month'] == 12) & (df2018['order_status'] == 'DELIVERED')]['customer_id'].nunique()\n",
    "total_clients_on_end_count = df[df['Month'] == 1]['customer_id'].nunique()\n",
    "intersection = len(set(total_clients_on_end).intersection(total_clients_on_first))\n",
    "count_new_clients = total_clients_on_end_count - intersection\n",
    "total_clients_lost = total_clients_on_first_count - intersection\n",
    "    \n",
    "crr2019 = round(((total_clients_on_end_count - count_new_clients) / total_clients_on_first_count) * 100, 2)\n",
    "cr2019 = round(total_clients_lost / total_clients_on_first_count * 100, 2)\n",
    "acl2019 = round(1 / cr2019 * 100, 2)\n",
    "\n",
    "mertics_dict[1] = [total_clients_on_first_count, total_clients_on_end_count, total_clients_lost, intersection, total_clients_lost, crr2019, cr2019, acl2019]"
   ]
  },
  {
   "cell_type": "code",
   "execution_count": 50,
   "metadata": {},
   "outputs": [],
   "source": [
    "# и отдельно посчитаем CRR, CR, ACL начало к концу года (декабрь 2019 к январю 2019)\n",
    "\n",
    "total_clients_on_first = df[df['Month'] == 1]['customer_id'].unique()\n",
    "total_clients_on_end = df[df['Month'] == 12]['customer_id'].unique()\n",
    "total_clients_on_first_count = df[df['Month'] == 1]['customer_id'].nunique()\n",
    "total_clients_on_end_count = df[df['Month'] == 12]['customer_id'].nunique()\n",
    "intersection = len(set(total_clients_on_end).intersection(total_clients_on_first))\n",
    "count_new_clients = total_clients_on_end_count - intersection\n",
    "total_clients_lost = total_clients_on_first_count - intersection\n",
    "    \n",
    "crr2019 = round(((total_clients_on_end_count - count_new_clients) / total_clients_on_first_count) * 100, 2)\n",
    "cr2019 = round(total_clients_lost / total_clients_on_first_count * 100, 2)\n",
    "acl2019 = round(1 / cr2019 * 100, 2)\n",
    "    \n",
    "mertics_dict[13] = [total_clients_on_first_count, total_clients_on_end_count, total_clients_lost, intersection, total_clients_lost, crr2019, cr2019, acl2019]"
   ]
  },
  {
   "cell_type": "markdown",
   "metadata": {},
   "source": [
    "#### 2.2.  Расчет RPR, AOV, PF, CV:"
   ]
  },
  {
   "cell_type": "code",
   "execution_count": 51,
   "metadata": {
    "collapsed": true
   },
   "outputs": [
    {
     "name": "stderr",
     "output_type": "stream",
     "text": [
      "<ipython-input-51-f07808e89e77>:12: SettingWithCopyWarning: \n",
      "A value is trying to be set on a copy of a slice from a DataFrame.\n",
      "Try using .loc[row_indexer,col_indexer] = value instead\n",
      "\n",
      "See the caveats in the documentation: https://pandas.pydata.org/pandas-docs/stable/user_guide/indexing.html#returning-a-view-versus-a-copy\n",
      "  df['order_deliv_count'] = 0\n",
      "C:\\ProgramData\\Anaconda3\\lib\\site-packages\\pandas\\core\\indexing.py:671: SettingWithCopyWarning: \n",
      "A value is trying to be set on a copy of a slice from a DataFrame\n",
      "\n",
      "See the caveats in the documentation: https://pandas.pydata.org/pandas-docs/stable/user_guide/indexing.html#returning-a-view-versus-a-copy\n",
      "  self._setitem_with_indexer(indexer, value)\n",
      "C:\\ProgramData\\Anaconda3\\lib\\site-packages\\pandas\\core\\series.py:1142: SettingWithCopyWarning: \n",
      "A value is trying to be set on a copy of a slice from a DataFrame\n",
      "\n",
      "See the caveats in the documentation: https://pandas.pydata.org/pandas-docs/stable/user_guide/indexing.html#returning-a-view-versus-a-copy\n",
      "  self.loc[label] = value\n"
     ]
    }
   ],
   "source": [
    "# RPR, AOV, PF, CV - метрики, что будут ЗА МЕСЯЦ: \n",
    "\n",
    "# для удобства создадим функцию, которая всё посчитает и добавит в словарь, где уже есть CRR, CR, ACL\n",
    "\n",
    "# repeat purchase rate (RPR) = number of customers who bought more than once for period / total number of customers for period\n",
    "# average order value (AOV) = total revenue / number of orders\n",
    "# purchase frequency (PF) = total orders / unique customers\n",
    "# customer value (CV) = aov * pf\n",
    "\n",
    "def delivery_count_calc(df):\n",
    "                \n",
    "    df['order_deliv_count'] = 0\n",
    "    delivered_count = df.groupby(['customer_id'])['order_id'].nunique()\n",
    "    for i in delivered_count.unique():\n",
    "        index = delivered_count[delivered_count == i].index\n",
    "        df['order_deliv_count'].at[df['customer_id'].isin(index)] = i\n",
    "\n",
    "def rpr_aov_pf_cv(df):\n",
    "    for i in df['Month'].unique():\n",
    "        rpr = round((df[(df['order_deliv_count'] >= 2) & (df['Month'] == i)]['order_id'].nunique() / \n",
    "                df[(df['order_deliv_count'] >= 1) & (df['Month'] == i)]['order_id'].nunique()) * 100, 2)\n",
    "        mertics_dict[i].append(rpr)\n",
    "        aov = round(df[df['Month'] == i].groupby(['customer_id'])['order_sum'].sum() / \n",
    "                    df[df['Month'] == i].groupby(['customer_id'])['order_id'].nunique(), 2)\n",
    "        mertics_dict[i].append(round(aov.mean(), 2))\n",
    "        pf = round(df[df['Month'] == i]['order_id'].nunique() / \n",
    "                   df[df['Month'] == i]['customer_id'].drop_duplicates().nunique(), 2)\n",
    "        mertics_dict[i].append(pf)\n",
    "        cv = round(aov.mean() * pf, 2)\n",
    "        mertics_dict[i].append(cv)\n",
    "         \n",
    "delivery_count_calc(df)\n",
    "rpr_aov_pf_cv(df)"
   ]
  },
  {
   "cell_type": "code",
   "execution_count": 52,
   "metadata": {},
   "outputs": [],
   "source": [
    "# и отдельно посчитаем RPR, AOV, PF, CV за 2019 год\n",
    "\n",
    "rpr = round(df[df['order_deliv_count'] >= 2]['order_id'].nunique() / df[df['order_deliv_count'] >= 1]['order_id'].nunique() * 100, 2)\n",
    "mertics_dict[13].append(rpr)\n",
    "\n",
    "aov = round(df.groupby(['customer_id'])['order_sum'].sum() / df.groupby(['customer_id'])['order_id'].nunique(), 2)\n",
    "mertics_dict[13].append(aov.mean())\n",
    "\n",
    "pf = round(df['order_id'].nunique() / df['customer_id'].drop_duplicates().count(), 2)\n",
    "mertics_dict[13].append(pf)\n",
    "\n",
    "cv = round(aov.mean() * pf, 2)\n",
    "mertics_dict[13].append(cv)\n",
    "\n",
    "del df['order_deliv_count']"
   ]
  },
  {
   "cell_type": "markdown",
   "metadata": {},
   "source": [
    "#### 2.3 Единая таблица и анализ метрик:"
   ]
  },
  {
   "cell_type": "code",
   "execution_count": 53,
   "metadata": {},
   "outputs": [
    {
     "data": {
      "text/html": [
       "<div>\n",
       "<style scoped>\n",
       "    .dataframe tbody tr th:only-of-type {\n",
       "        vertical-align: middle;\n",
       "    }\n",
       "\n",
       "    .dataframe tbody tr th {\n",
       "        vertical-align: top;\n",
       "    }\n",
       "\n",
       "    .dataframe thead th {\n",
       "        text-align: right;\n",
       "    }\n",
       "</style>\n",
       "<table border=\"1\" class=\"dataframe\">\n",
       "  <thead>\n",
       "    <tr style=\"text-align: right;\">\n",
       "      <th></th>\n",
       "      <th>clients_period_start</th>\n",
       "      <th>clients_period_end</th>\n",
       "      <th>clients_new</th>\n",
       "      <th>clients_intersect</th>\n",
       "      <th>clients_lost</th>\n",
       "      <th>CRR</th>\n",
       "      <th>CR</th>\n",
       "      <th>ACL</th>\n",
       "      <th>RPR</th>\n",
       "      <th>AOV</th>\n",
       "      <th>PF</th>\n",
       "      <th>CV</th>\n",
       "    </tr>\n",
       "  </thead>\n",
       "  <tbody>\n",
       "    <tr>\n",
       "      <th>1</th>\n",
       "      <td>10098</td>\n",
       "      <td>15033</td>\n",
       "      <td>8965</td>\n",
       "      <td>1133</td>\n",
       "      <td>8965</td>\n",
       "      <td>11.22</td>\n",
       "      <td>88.78</td>\n",
       "      <td>1.13</td>\n",
       "      <td>58.29</td>\n",
       "      <td>4412.080000</td>\n",
       "      <td>1.11</td>\n",
       "      <td>4897.41</td>\n",
       "    </tr>\n",
       "    <tr>\n",
       "      <th>2</th>\n",
       "      <td>15033</td>\n",
       "      <td>16102</td>\n",
       "      <td>14293</td>\n",
       "      <td>1809</td>\n",
       "      <td>13224</td>\n",
       "      <td>12.03</td>\n",
       "      <td>87.97</td>\n",
       "      <td>1.14</td>\n",
       "      <td>60.18</td>\n",
       "      <td>4161.830000</td>\n",
       "      <td>1.12</td>\n",
       "      <td>4661.25</td>\n",
       "    </tr>\n",
       "    <tr>\n",
       "      <th>3</th>\n",
       "      <td>16102</td>\n",
       "      <td>17905</td>\n",
       "      <td>15688</td>\n",
       "      <td>2217</td>\n",
       "      <td>13885</td>\n",
       "      <td>13.77</td>\n",
       "      <td>86.23</td>\n",
       "      <td>1.16</td>\n",
       "      <td>62.91</td>\n",
       "      <td>4229.660000</td>\n",
       "      <td>1.17</td>\n",
       "      <td>4948.71</td>\n",
       "    </tr>\n",
       "    <tr>\n",
       "      <th>4</th>\n",
       "      <td>17905</td>\n",
       "      <td>18521</td>\n",
       "      <td>16190</td>\n",
       "      <td>2331</td>\n",
       "      <td>15574</td>\n",
       "      <td>13.02</td>\n",
       "      <td>86.98</td>\n",
       "      <td>1.15</td>\n",
       "      <td>61.86</td>\n",
       "      <td>4017.890000</td>\n",
       "      <td>1.15</td>\n",
       "      <td>4620.57</td>\n",
       "    </tr>\n",
       "    <tr>\n",
       "      <th>5</th>\n",
       "      <td>18521</td>\n",
       "      <td>20178</td>\n",
       "      <td>17423</td>\n",
       "      <td>2755</td>\n",
       "      <td>15766</td>\n",
       "      <td>14.88</td>\n",
       "      <td>85.12</td>\n",
       "      <td>1.17</td>\n",
       "      <td>64.76</td>\n",
       "      <td>3811.290000</td>\n",
       "      <td>1.17</td>\n",
       "      <td>4459.21</td>\n",
       "    </tr>\n",
       "    <tr>\n",
       "      <th>6</th>\n",
       "      <td>20178</td>\n",
       "      <td>22472</td>\n",
       "      <td>19390</td>\n",
       "      <td>3082</td>\n",
       "      <td>17096</td>\n",
       "      <td>15.27</td>\n",
       "      <td>84.73</td>\n",
       "      <td>1.18</td>\n",
       "      <td>58.82</td>\n",
       "      <td>3998.770000</td>\n",
       "      <td>1.12</td>\n",
       "      <td>4478.62</td>\n",
       "    </tr>\n",
       "    <tr>\n",
       "      <th>7</th>\n",
       "      <td>22472</td>\n",
       "      <td>22775</td>\n",
       "      <td>19824</td>\n",
       "      <td>2951</td>\n",
       "      <td>19521</td>\n",
       "      <td>13.13</td>\n",
       "      <td>86.87</td>\n",
       "      <td>1.15</td>\n",
       "      <td>59.47</td>\n",
       "      <td>3880.860000</td>\n",
       "      <td>1.13</td>\n",
       "      <td>4385.37</td>\n",
       "    </tr>\n",
       "    <tr>\n",
       "      <th>8</th>\n",
       "      <td>22775</td>\n",
       "      <td>25120</td>\n",
       "      <td>21742</td>\n",
       "      <td>3378</td>\n",
       "      <td>19397</td>\n",
       "      <td>14.83</td>\n",
       "      <td>85.17</td>\n",
       "      <td>1.17</td>\n",
       "      <td>59.97</td>\n",
       "      <td>4010.290000</td>\n",
       "      <td>1.13</td>\n",
       "      <td>4531.63</td>\n",
       "    </tr>\n",
       "    <tr>\n",
       "      <th>9</th>\n",
       "      <td>25120</td>\n",
       "      <td>24884</td>\n",
       "      <td>21139</td>\n",
       "      <td>3745</td>\n",
       "      <td>21375</td>\n",
       "      <td>14.91</td>\n",
       "      <td>85.09</td>\n",
       "      <td>1.18</td>\n",
       "      <td>59.74</td>\n",
       "      <td>3982.560000</td>\n",
       "      <td>1.12</td>\n",
       "      <td>4460.46</td>\n",
       "    </tr>\n",
       "    <tr>\n",
       "      <th>10</th>\n",
       "      <td>24884</td>\n",
       "      <td>30313</td>\n",
       "      <td>26157</td>\n",
       "      <td>4156</td>\n",
       "      <td>20728</td>\n",
       "      <td>16.70</td>\n",
       "      <td>83.30</td>\n",
       "      <td>1.20</td>\n",
       "      <td>60.10</td>\n",
       "      <td>3900.430000</td>\n",
       "      <td>1.16</td>\n",
       "      <td>4524.50</td>\n",
       "    </tr>\n",
       "    <tr>\n",
       "      <th>11</th>\n",
       "      <td>30313</td>\n",
       "      <td>35223</td>\n",
       "      <td>29950</td>\n",
       "      <td>5273</td>\n",
       "      <td>25040</td>\n",
       "      <td>17.40</td>\n",
       "      <td>82.60</td>\n",
       "      <td>1.21</td>\n",
       "      <td>56.80</td>\n",
       "      <td>4031.070000</td>\n",
       "      <td>1.14</td>\n",
       "      <td>4595.42</td>\n",
       "    </tr>\n",
       "    <tr>\n",
       "      <th>12</th>\n",
       "      <td>35223</td>\n",
       "      <td>36983</td>\n",
       "      <td>31162</td>\n",
       "      <td>5821</td>\n",
       "      <td>29402</td>\n",
       "      <td>16.53</td>\n",
       "      <td>83.47</td>\n",
       "      <td>1.20</td>\n",
       "      <td>52.83</td>\n",
       "      <td>4133.890000</td>\n",
       "      <td>1.14</td>\n",
       "      <td>4712.63</td>\n",
       "    </tr>\n",
       "    <tr>\n",
       "      <th>13</th>\n",
       "      <td>15033</td>\n",
       "      <td>36983</td>\n",
       "      <td>13112</td>\n",
       "      <td>1921</td>\n",
       "      <td>13112</td>\n",
       "      <td>12.78</td>\n",
       "      <td>87.22</td>\n",
       "      <td>1.15</td>\n",
       "      <td>59.10</td>\n",
       "      <td>4125.444399</td>\n",
       "      <td>1.69</td>\n",
       "      <td>6972.00</td>\n",
       "    </tr>\n",
       "  </tbody>\n",
       "</table>\n",
       "</div>"
      ],
      "text/plain": [
       "    clients_period_start  clients_period_end  clients_new  clients_intersect  \\\n",
       "1                  10098               15033         8965               1133   \n",
       "2                  15033               16102        14293               1809   \n",
       "3                  16102               17905        15688               2217   \n",
       "4                  17905               18521        16190               2331   \n",
       "5                  18521               20178        17423               2755   \n",
       "6                  20178               22472        19390               3082   \n",
       "7                  22472               22775        19824               2951   \n",
       "8                  22775               25120        21742               3378   \n",
       "9                  25120               24884        21139               3745   \n",
       "10                 24884               30313        26157               4156   \n",
       "11                 30313               35223        29950               5273   \n",
       "12                 35223               36983        31162               5821   \n",
       "13                 15033               36983        13112               1921   \n",
       "\n",
       "    clients_lost    CRR     CR   ACL    RPR          AOV    PF       CV  \n",
       "1           8965  11.22  88.78  1.13  58.29  4412.080000  1.11  4897.41  \n",
       "2          13224  12.03  87.97  1.14  60.18  4161.830000  1.12  4661.25  \n",
       "3          13885  13.77  86.23  1.16  62.91  4229.660000  1.17  4948.71  \n",
       "4          15574  13.02  86.98  1.15  61.86  4017.890000  1.15  4620.57  \n",
       "5          15766  14.88  85.12  1.17  64.76  3811.290000  1.17  4459.21  \n",
       "6          17096  15.27  84.73  1.18  58.82  3998.770000  1.12  4478.62  \n",
       "7          19521  13.13  86.87  1.15  59.47  3880.860000  1.13  4385.37  \n",
       "8          19397  14.83  85.17  1.17  59.97  4010.290000  1.13  4531.63  \n",
       "9          21375  14.91  85.09  1.18  59.74  3982.560000  1.12  4460.46  \n",
       "10         20728  16.70  83.30  1.20  60.10  3900.430000  1.16  4524.50  \n",
       "11         25040  17.40  82.60  1.21  56.80  4031.070000  1.14  4595.42  \n",
       "12         29402  16.53  83.47  1.20  52.83  4133.890000  1.14  4712.63  \n",
       "13         13112  12.78  87.22  1.15  59.10  4125.444399  1.69  6972.00  "
      ]
     },
     "execution_count": 53,
     "metadata": {},
     "output_type": "execute_result"
    }
   ],
   "source": [
    "# сделаем из словаря, куда всё собрали, таблицу со всеми метриками\n",
    "# 13 строка - за год в целом. такие показатели как clients_period_start, clients_period_end, clients_new, \n",
    "# clients_intersect, clients_lost для неё не очень информативны т.к. отражают период декабрь 2019 к январю 2019\n",
    "\n",
    "metrix = pd.DataFrame.from_dict(mertics_dict, orient='index', columns=['clients_period_start', 'clients_period_end', 'clients_new', 'clients_intersect', 'clients_lost', 'CRR', 'CR', 'ACL', 'RPR', 'AOV', 'PF', 'CV'])\n",
    "metrix.sort_index(inplace=True)\n",
    "metrix"
   ]
  },
  {
   "cell_type": "code",
   "execution_count": 54,
   "metadata": {},
   "outputs": [
    {
     "data": {
      "text/html": [
       "<div>\n",
       "<style scoped>\n",
       "    .dataframe tbody tr th:only-of-type {\n",
       "        vertical-align: middle;\n",
       "    }\n",
       "\n",
       "    .dataframe tbody tr th {\n",
       "        vertical-align: top;\n",
       "    }\n",
       "\n",
       "    .dataframe thead th {\n",
       "        text-align: right;\n",
       "    }\n",
       "</style>\n",
       "<table border=\"1\" class=\"dataframe\">\n",
       "  <thead>\n",
       "    <tr style=\"text-align: right;\">\n",
       "      <th></th>\n",
       "      <th>CRR</th>\n",
       "      <th>CR</th>\n",
       "      <th>ACL</th>\n",
       "      <th>RPR</th>\n",
       "      <th>AOV</th>\n",
       "      <th>PF</th>\n",
       "      <th>CV</th>\n",
       "    </tr>\n",
       "  </thead>\n",
       "  <tbody>\n",
       "    <tr>\n",
       "      <th>0</th>\n",
       "      <td>14.474167</td>\n",
       "      <td>85.525833</td>\n",
       "      <td>1.17</td>\n",
       "      <td>59.644167</td>\n",
       "      <td>4047.551667</td>\n",
       "      <td>1.138333</td>\n",
       "      <td>4606.315</td>\n",
       "    </tr>\n",
       "  </tbody>\n",
       "</table>\n",
       "</div>"
      ],
      "text/plain": [
       "         CRR         CR   ACL        RPR          AOV        PF        CV\n",
       "0  14.474167  85.525833  1.17  59.644167  4047.551667  1.138333  4606.315"
      ]
     },
     "execution_count": 54,
     "metadata": {},
     "output_type": "execute_result"
    }
   ],
   "source": [
    "# заодно выведем среднемесячные показатели за год:\n",
    "\n",
    "metrix.iloc[:12, 5:].mean().to_frame().T"
   ]
  },
  {
   "cell_type": "code",
   "execution_count": 55,
   "metadata": {},
   "outputs": [
    {
     "data": {
      "image/png": "[encoded data removed]",
      "text/plain": [
       "<Figure size 800x480 with 1 Axes>"
      ]
     },
     "metadata": {},
     "output_type": "display_data"
    }
   ],
   "source": [
    "# нарисуем график, куда выведем изменение количества покупателей, по месяцам\n",
    "\n",
    "x = metrix.index[:12]\n",
    "y1 = metrix['clients_period_start'][:12]\n",
    "y2 = metrix['clients_period_end'][:12]\n",
    "y3 = metrix['clients_new'][:12]\n",
    "y4 = metrix['clients_intersect'][:12]\n",
    "y5 = metrix['clients_lost'][:12]\n",
    "\n",
    "fig, ax1 = plt.subplots(1, 1, figsize = (10, 6), dpi = 80)\n",
    "ax1.plot(x, y1, color='tab:blue', label='clients_period_start')\n",
    "ax1.plot(x, y2, color='tab:green', label='clients_period_end')\n",
    "ax1.plot(x, y3, color='tab:purple', label='clients_new')\n",
    "ax1.plot(x, y4, color='tab:orange', label='clients_intersect')\n",
    "ax1.plot(x, y5, color='tab:red', label='clients_lost')\n",
    "ax1.legend(loc='upper left')\n",
    "\n",
    "ax1.set_xlabel('month', fontsize=12)\n",
    "ax1.tick_params(axis='x', rotation=0, labelsize=12)\n",
    "ax1.set_ylabel('customers count', fontsize=12)\n",
    "ax1.tick_params(axis='y', rotation=0, labelsize=12)\n",
    "ax1.grid(alpha=.4)"
   ]
  },
  {
   "cell_type": "markdown",
   "metadata": {},
   "source": [
    "Очевидно растет всё, что характерно для успешного бизнеса в стадии роста.   \n",
    "При этом каждый месяц количество клиентов больше, чем в предыдущем. Только сентябрь по отношению к августу оказался не очень: и спад в темпе прироста новых покупателей, и всего количество покупателей оказалось чуть меньше.  \n",
    "Важно отметить, что и пересечение плавно подрастает - важный источник лояльности. "
   ]
  },
  {
   "cell_type": "code",
   "execution_count": 56,
   "metadata": {},
   "outputs": [
    {
     "data": {
      "image/png": "[encoded data removed]",
      "text/plain": [
       "<Figure size 800x480 with 1 Axes>"
      ]
     },
     "metadata": {},
     "output_type": "display_data"
    }
   ],
   "source": [
    "# теперь посмотрим на CRR, CR и RPR, по месяцам \n",
    "\n",
    "x = metrix.index[:12]\n",
    "y1 = metrix['CRR'][:12]\n",
    "y2 = metrix['CR'][:12]\n",
    "y3 = metrix['RPR'][:12]\n",
    "\n",
    "fig, ax1 = plt.subplots(1, 1, figsize=(10, 6), dpi= 80)\n",
    "ax1.plot(x, y1, color='tab:blue', label='CRR')\n",
    "ax1.plot(x, y2, color='tab:green', label='CR')\n",
    "ax1.plot(x, y3, color='tab:purple', label='RPR')\n",
    "\n",
    "ax1.legend(loc='upper left')\n",
    "\n",
    "ax1.set_xlabel('month', fontsize=12)\n",
    "ax1.tick_params(axis='x', rotation=0, labelsize=12)\n",
    "ax1.set_ylabel('value', fontsize=12)\n",
    "ax1.tick_params(axis='y', rotation=0, labelsize=12)\n",
    "ax1.grid(alpha=.4)"
   ]
  },
  {
   "cell_type": "markdown",
   "metadata": {},
   "source": [
    "В целом от месяца к месяцу значения метрик удержание клиентов, отток и процент повторных покупок стабильны."
   ]
  },
  {
   "cell_type": "code",
   "execution_count": 57,
   "metadata": {},
   "outputs": [
    {
     "data": {
      "image/png": "[encoded data removed]",
      "text/plain": [
       "<Figure size 800x480 with 1 Axes>"
      ]
     },
     "metadata": {},
     "output_type": "display_data"
    }
   ],
   "source": [
    "# теперь посмотрим на ACL и PF, по месяцам\n",
    "\n",
    "x = metrix.index[:12]\n",
    "y1 = metrix['ACL'][:12]\n",
    "y2 = metrix['PF'][:12]\n",
    "\n",
    "fig, ax1 = plt.subplots(1, 1, figsize=(10, 6), dpi= 80)\n",
    "ax1.plot(x, y1, color='tab:blue', label='ACL')\n",
    "ax1.plot(x, y2, color='tab:green', label='PF')\n",
    "\n",
    "ax1.legend(loc='upper left')\n",
    "\n",
    "ax1.set_xlabel('month', fontsize=12)\n",
    "ax1.tick_params(axis='x', rotation=0, labelsize=12)\n",
    "ax1.set_ylabel('value', fontsize=12)\n",
    "ax1.tick_params(axis='y', rotation=0, labelsize=12)\n",
    "ax1.grid(alpha=.4)"
   ]
  },
  {
   "cell_type": "markdown",
   "metadata": {},
   "source": [
    "Среднее время жизни клиента всегда больше месяца, частота покупки на покупателя так же всегда больше 1. "
   ]
  },
  {
   "cell_type": "code",
   "execution_count": 58,
   "metadata": {},
   "outputs": [
    {
     "data": {
      "image/png": "[encoded data removed]",
      "text/plain": [
       "<Figure size 800x480 with 1 Axes>"
      ]
     },
     "metadata": {},
     "output_type": "display_data"
    }
   ],
   "source": [
    "# теперь посмотрим на AOV и CV, по месяцам\n",
    "\n",
    "x = metrix.index[:12]\n",
    "y1 = metrix['AOV'][:12]\n",
    "y2 = metrix['CV'][:12]\n",
    "\n",
    "fig, ax1 = plt.subplots(1, 1, figsize=(10, 6), dpi= 80)\n",
    "ax1.plot(x, y1, color='tab:orange', label='AOV')\n",
    "ax1.plot(x, y2, color='tab:cyan', label='CV')\n",
    "ax1.legend(loc='upper left')\n",
    "\n",
    "ax1.set_xlabel('month', fontsize=12)\n",
    "ax1.tick_params(axis='x', rotation=0, labelsize=12)\n",
    "ax1.set_ylabel('value', fontsize=12)\n",
    "ax1.tick_params(axis='y', rotation=0, labelsize=12)\n",
    "ax1.grid(alpha=.4)"
   ]
  },
  {
   "cell_type": "markdown",
   "metadata": {},
   "source": [
    "Средняя стоимость заказа просела в середине года, следовательно и средний доход от покупателя тогда же снизился. В последнем квартале 2019 года оба показателя выросли."
   ]
  },
  {
   "cell_type": "markdown",
   "metadata": {},
   "source": [
    "#### 2.4. Выводы по бизнес-метрикам:  "
   ]
  },
  {
   "cell_type": "markdown",
   "metadata": {},
   "source": [
    "**1)** Очевидно растет всё, что характерно для успешного бизнеса в стадии роста.\n",
    "При этом каждый месяц количество клиентов больше, чем в предыдущем. Только сентябрь по отношению к августу оказался не очень: и спад в темпе прироста новых покупателей, и всего количество покупателей оказалось чуть меньше.\n",
    "Важно отметить, что и пересечение (**clients_intersect**) плавно подрастает - важный источник лояльности.  \n",
    "**2)** В целом от месяца к месяцу значения метрик удержание клиентов (**CRR**), отток (**CR**) и процент повторных покупок (**RPR**) стабильны.   \n",
    "**3)** Среднее время жизни клиента (**ACL**) всегда больше месяца, средняя частота покупки на покупателя (**PF**) так же всегда больше 1.  \n",
    "**4)** Средняя стоимость заказа (**AOV**) просела в середине года, следовательно и средний доход от покупателя (**CV**) тогда же снизился. В последнем квартале 2019 года оба показателя выросли.  \n",
    "Среднемесячные значения бизнес-метрик за 2019 год:  \n",
    "**- CRR** - **14.47%**  \n",
    "**- CR** - **85.52%**  \n",
    "**- ACL** - **1.17%**  \n",
    "**- PF** - **1.14%**  \n",
    "**- RPR** - **59.64%**   \n",
    "**- AOV** - **4047.55 рублей**  \n",
    "**- CV** - **4606.32 рублей**  "
   ]
  },
  {
   "cell_type": "markdown",
   "metadata": {},
   "source": [
    "# 3. Выделение лояльных покупателей, критерии и оценка"
   ]
  },
  {
   "cell_type": "markdown",
   "metadata": {},
   "source": [
    "Для выделения лояльных покупателей потребуются показатели по разным основаниям - деньги, частота, разнообразие покупок (категории в корзине). Мы уже анализировали их (и связанные с ними) при разведочном анализе и оценке бизнес-метрик, поэтому считаем что они в качестве критериев хорошо описывают кластеры (лояльных и нет)."
   ]
  },
  {
   "cell_type": "markdown",
   "metadata": {},
   "source": [
    "Посчитаем для каждого покупателя:  \n",
    "\n",
    "**Деньги:**  \n",
    "**1)** общая сумма покупок покупателя за год (***sum_bill_year***),  \n",
    "**2)** средний чек покупателя за год (***av_bill_year***),   \n",
    "  \n",
    "**Частота:**  \n",
    "**3)** общее количество заказов за год (***order_count_year***),   \n",
    "**4)** среднее количество заказов в месяц (***av_order_per_month***),    \n",
    "  \n",
    "**Категории:**   \n",
    "**5)** общее количество уникальных категорий за год (***uniq_cat_per_year***),  \n",
    "**6)** среднее количество уникальных категорий в месяц (***av_cat_count_month***),  \n",
    "**7)** среднее количество уникальных категорий в год (***av_cat_per_pur_year***)."
   ]
  },
  {
   "cell_type": "markdown",
   "metadata": {},
   "source": [
    "#### 3.1. Расчет кластеризующих показателей:"
   ]
  },
  {
   "cell_type": "code",
   "execution_count": 59,
   "metadata": {},
   "outputs": [
    {
     "data": {
      "text/plain": [
       "customer_id\n",
       "983399189      501\n",
       "363589055      501\n",
       "861165231      501\n",
       "166450395      501\n",
       "778520460      501\n",
       "             ...  \n",
       "134299169    59896\n",
       "160343299    59909\n",
       "862220363    59916\n",
       "607223536    59916\n",
       "529616975    59964\n",
       "Name: sum_bill_year, Length: 192921, dtype: int64"
      ]
     },
     "execution_count": 59,
     "metadata": {},
     "output_type": "execute_result"
    }
   ],
   "source": [
    "# общая сумма покупок покупателя за год (sum_bill_year)\n",
    "\n",
    "sum_bill_year = df.groupby(['customer_id'])['order_sum'].sum()  \n",
    "sum_bill_year.rename('sum_bill_year', inplace=True).sort_values()"
   ]
  },
  {
   "cell_type": "code",
   "execution_count": 60,
   "metadata": {},
   "outputs": [
    {
     "data": {
      "text/plain": [
       "customer_id\n",
       "166450395       501.0\n",
       "213451102       501.0\n",
       "980096204       501.0\n",
       "491672528       501.0\n",
       "673603387       501.0\n",
       "               ...   \n",
       "299574916     53212.0\n",
       "799968498     53370.0\n",
       "1010341951    54833.0\n",
       "105776270     58227.0\n",
       "607223536     59916.0\n",
       "Name: av_bill_year, Length: 192921, dtype: float64"
      ]
     },
     "execution_count": 60,
     "metadata": {},
     "output_type": "execute_result"
    }
   ],
   "source": [
    "# средний чек покупателя за год (av_bill_year)\n",
    "\n",
    "av_bill_year = df.groupby(['customer_id'])['order_sum'].sum() / df.groupby(['customer_id'])['order_id'].nunique()\n",
    "av_bill_year.rename('av_bill_year', inplace=True).sort_values()"
   ]
  },
  {
   "cell_type": "code",
   "execution_count": 61,
   "metadata": {},
   "outputs": [
    {
     "data": {
      "text/plain": [
       "customer_id\n",
       "11113014      1\n",
       "699865694     1\n",
       "699873330     1\n",
       "699880752     1\n",
       "699881812     1\n",
       "             ..\n",
       "719211853    24\n",
       "235019645    24\n",
       "127321554    25\n",
       "864114545    25\n",
       "671474867    25\n",
       "Name: order_count_year, Length: 192921, dtype: int64"
      ]
     },
     "execution_count": 61,
     "metadata": {},
     "output_type": "execute_result"
    }
   ],
   "source": [
    "# общее количество заказов за год (order_count_year)\n",
    "\n",
    "order_count_year = df.groupby(['customer_id'])['order_id'].nunique()\n",
    "order_count_year.rename('order_count_year', inplace=True).sort_values()"
   ]
  },
  {
   "cell_type": "code",
   "execution_count": 62,
   "metadata": {},
   "outputs": [
    {
     "data": {
      "text/plain": [
       "customer_id\n",
       "11113014     0.083333\n",
       "699865694    0.083333\n",
       "699873330    0.083333\n",
       "699880752    0.083333\n",
       "699881812    0.083333\n",
       "               ...   \n",
       "719211853    2.000000\n",
       "235019645    2.000000\n",
       "127321554    2.083333\n",
       "864114545    2.083333\n",
       "671474867    2.083333\n",
       "Name: av_order_per_month, Length: 192921, dtype: float64"
      ]
     },
     "execution_count": 62,
     "metadata": {},
     "output_type": "execute_result"
    }
   ],
   "source": [
    "# среднее количество заказов в месяц (av_order_per_month)\n",
    "\n",
    "av_order_per_month = df.groupby(['customer_id'])['order_id'].nunique() / 12\n",
    "av_order_per_month.rename('av_order_per_month', inplace=True).sort_values()"
   ]
  },
  {
   "cell_type": "code",
   "execution_count": 63,
   "metadata": {},
   "outputs": [
    {
     "data": {
      "text/plain": [
       "customer_id\n",
       "11113014      1\n",
       "681408956     1\n",
       "681409042     1\n",
       "681411883     1\n",
       "681419671     1\n",
       "             ..\n",
       "347168318    12\n",
       "62432939     12\n",
       "613794393    12\n",
       "371992887    12\n",
       "663620196    12\n",
       "Name: uniq_cat_per_year, Length: 192921, dtype: int64"
      ]
     },
     "execution_count": 63,
     "metadata": {},
     "output_type": "execute_result"
    }
   ],
   "source": [
    "# общее количество уникальных категорий за год (uniq_cat_per_year)\n",
    "\n",
    "uniq_cat_per_year = df.groupby(['customer_id'])['category_id'].nunique()\n",
    "uniq_cat_per_year.rename('uniq_cat_per_year', inplace=True).sort_values()"
   ]
  },
  {
   "cell_type": "code",
   "execution_count": 64,
   "metadata": {},
   "outputs": [
    {
     "data": {
      "text/plain": [
       "customer_id\n",
       "11113014     0.083333\n",
       "681408956    0.083333\n",
       "681409042    0.083333\n",
       "681411883    0.083333\n",
       "681419671    0.083333\n",
       "               ...   \n",
       "347168318    1.000000\n",
       "62432939     1.000000\n",
       "613794393    1.000000\n",
       "371992887    1.000000\n",
       "663620196    1.000000\n",
       "Name: av_cat_count_month, Length: 192921, dtype: float64"
      ]
     },
     "execution_count": 64,
     "metadata": {},
     "output_type": "execute_result"
    }
   ],
   "source": [
    "# среднее количество уникальных категорий в месяц (av_cat_count_month)\n",
    "\n",
    "av_cat_count_month = df.groupby(['customer_id'])['category_id'].nunique() / 12\n",
    "av_cat_count_month.rename('av_cat_count_month', inplace=True).sort_values()"
   ]
  },
  {
   "cell_type": "code",
   "execution_count": 65,
   "metadata": {
    "scrolled": true
   },
   "outputs": [
    {
     "data": {
      "text/plain": [
       "customer_id\n",
       "11113014      1.0\n",
       "722619041     1.0\n",
       "722697123     1.0\n",
       "722896142     1.0\n",
       "722926100     1.0\n",
       "             ... \n",
       "453851635     7.0\n",
       "682146312     7.0\n",
       "552594674     8.0\n",
       "881742512     8.0\n",
       "267014576    10.0\n",
       "Name: av_cat_per_pur_year, Length: 192921, dtype: float64"
      ]
     },
     "execution_count": 65,
     "metadata": {},
     "output_type": "execute_result"
    }
   ],
   "source": [
    "# среднее количество уникальных категорий в год (av_cat_per_pur_year)\n",
    "\n",
    "av_cat_per_pur_year = df.groupby(['customer_id', 'order_id'])['category_id'].size().to_frame().groupby(['customer_id'])['category_id'].mean()\n",
    "av_cat_per_pur_year.rename('av_cat_per_pur_year', inplace=True).sort_values()"
   ]
  },
  {
   "cell_type": "code",
   "execution_count": 66,
   "metadata": {},
   "outputs": [
    {
     "data": {
      "text/html": [
       "<div>\n",
       "<style scoped>\n",
       "    .dataframe tbody tr th:only-of-type {\n",
       "        vertical-align: middle;\n",
       "    }\n",
       "\n",
       "    .dataframe tbody tr th {\n",
       "        vertical-align: top;\n",
       "    }\n",
       "\n",
       "    .dataframe thead th {\n",
       "        text-align: right;\n",
       "    }\n",
       "</style>\n",
       "<table border=\"1\" class=\"dataframe\">\n",
       "  <thead>\n",
       "    <tr style=\"text-align: right;\">\n",
       "      <th></th>\n",
       "      <th>av_cat_per_pur_year</th>\n",
       "      <th>av_cat_count_month</th>\n",
       "      <th>uniq_cat_per_year</th>\n",
       "      <th>av_order_per_month</th>\n",
       "      <th>order_count_year</th>\n",
       "      <th>av_bill_year</th>\n",
       "      <th>sum_bill_year</th>\n",
       "    </tr>\n",
       "    <tr>\n",
       "      <th>customer_id</th>\n",
       "      <th></th>\n",
       "      <th></th>\n",
       "      <th></th>\n",
       "      <th></th>\n",
       "      <th></th>\n",
       "      <th></th>\n",
       "      <th></th>\n",
       "    </tr>\n",
       "  </thead>\n",
       "  <tbody>\n",
       "    <tr>\n",
       "      <th>11113014</th>\n",
       "      <td>1.0</td>\n",
       "      <td>0.083333</td>\n",
       "      <td>1</td>\n",
       "      <td>0.083333</td>\n",
       "      <td>1</td>\n",
       "      <td>9893.0</td>\n",
       "      <td>9893</td>\n",
       "    </tr>\n",
       "    <tr>\n",
       "      <th>11121128</th>\n",
       "      <td>2.0</td>\n",
       "      <td>0.166667</td>\n",
       "      <td>2</td>\n",
       "      <td>0.083333</td>\n",
       "      <td>1</td>\n",
       "      <td>11410.0</td>\n",
       "      <td>11410</td>\n",
       "    </tr>\n",
       "    <tr>\n",
       "      <th>11121350</th>\n",
       "      <td>1.0</td>\n",
       "      <td>0.083333</td>\n",
       "      <td>1</td>\n",
       "      <td>0.083333</td>\n",
       "      <td>1</td>\n",
       "      <td>805.0</td>\n",
       "      <td>805</td>\n",
       "    </tr>\n",
       "    <tr>\n",
       "      <th>11121469</th>\n",
       "      <td>1.0</td>\n",
       "      <td>0.166667</td>\n",
       "      <td>2</td>\n",
       "      <td>0.166667</td>\n",
       "      <td>2</td>\n",
       "      <td>2549.5</td>\n",
       "      <td>5099</td>\n",
       "    </tr>\n",
       "    <tr>\n",
       "      <th>11121729</th>\n",
       "      <td>1.0</td>\n",
       "      <td>0.166667</td>\n",
       "      <td>2</td>\n",
       "      <td>0.166667</td>\n",
       "      <td>2</td>\n",
       "      <td>3282.5</td>\n",
       "      <td>6565</td>\n",
       "    </tr>\n",
       "    <tr>\n",
       "      <th>...</th>\n",
       "      <td>...</td>\n",
       "      <td>...</td>\n",
       "      <td>...</td>\n",
       "      <td>...</td>\n",
       "      <td>...</td>\n",
       "      <td>...</td>\n",
       "      <td>...</td>\n",
       "    </tr>\n",
       "    <tr>\n",
       "      <th>1036819888</th>\n",
       "      <td>1.0</td>\n",
       "      <td>0.083333</td>\n",
       "      <td>1</td>\n",
       "      <td>0.083333</td>\n",
       "      <td>1</td>\n",
       "      <td>756.0</td>\n",
       "      <td>756</td>\n",
       "    </tr>\n",
       "    <tr>\n",
       "      <th>1038172005</th>\n",
       "      <td>1.0</td>\n",
       "      <td>0.083333</td>\n",
       "      <td>1</td>\n",
       "      <td>0.083333</td>\n",
       "      <td>1</td>\n",
       "      <td>3483.0</td>\n",
       "      <td>3483</td>\n",
       "    </tr>\n",
       "    <tr>\n",
       "      <th>1038338782</th>\n",
       "      <td>1.0</td>\n",
       "      <td>0.083333</td>\n",
       "      <td>1</td>\n",
       "      <td>0.083333</td>\n",
       "      <td>1</td>\n",
       "      <td>3714.0</td>\n",
       "      <td>3714</td>\n",
       "    </tr>\n",
       "    <tr>\n",
       "      <th>1038385362</th>\n",
       "      <td>3.0</td>\n",
       "      <td>0.333333</td>\n",
       "      <td>4</td>\n",
       "      <td>0.250000</td>\n",
       "      <td>3</td>\n",
       "      <td>3976.0</td>\n",
       "      <td>11928</td>\n",
       "    </tr>\n",
       "    <tr>\n",
       "      <th>1038556306</th>\n",
       "      <td>1.0</td>\n",
       "      <td>0.083333</td>\n",
       "      <td>1</td>\n",
       "      <td>0.083333</td>\n",
       "      <td>1</td>\n",
       "      <td>17415.0</td>\n",
       "      <td>17415</td>\n",
       "    </tr>\n",
       "  </tbody>\n",
       "</table>\n",
       "<p>192921 rows × 7 columns</p>\n",
       "</div>"
      ],
      "text/plain": [
       "             av_cat_per_pur_year  av_cat_count_month  uniq_cat_per_year  \\\n",
       "customer_id                                                               \n",
       "11113014                     1.0            0.083333                  1   \n",
       "11121128                     2.0            0.166667                  2   \n",
       "11121350                     1.0            0.083333                  1   \n",
       "11121469                     1.0            0.166667                  2   \n",
       "11121729                     1.0            0.166667                  2   \n",
       "...                          ...                 ...                ...   \n",
       "1036819888                   1.0            0.083333                  1   \n",
       "1038172005                   1.0            0.083333                  1   \n",
       "1038338782                   1.0            0.083333                  1   \n",
       "1038385362                   3.0            0.333333                  4   \n",
       "1038556306                   1.0            0.083333                  1   \n",
       "\n",
       "             av_order_per_month  order_count_year  av_bill_year  sum_bill_year  \n",
       "customer_id                                                                     \n",
       "11113014               0.083333                 1        9893.0           9893  \n",
       "11121128               0.083333                 1       11410.0          11410  \n",
       "11121350               0.083333                 1         805.0            805  \n",
       "11121469               0.166667                 2        2549.5           5099  \n",
       "11121729               0.166667                 2        3282.5           6565  \n",
       "...                         ...               ...           ...            ...  \n",
       "1036819888             0.083333                 1         756.0            756  \n",
       "1038172005             0.083333                 1        3483.0           3483  \n",
       "1038338782             0.083333                 1        3714.0           3714  \n",
       "1038385362             0.250000                 3        3976.0          11928  \n",
       "1038556306             0.083333                 1       17415.0          17415  \n",
       "\n",
       "[192921 rows x 7 columns]"
      ]
     },
     "execution_count": 66,
     "metadata": {},
     "output_type": "execute_result"
    }
   ],
   "source": [
    "# объединим все показатели в единую таблицу\n",
    "\n",
    "logic_stat = [sum_bill_year, av_bill_year, order_count_year, av_order_per_month, uniq_cat_per_year, av_cat_count_month, av_cat_per_pur_year]\n",
    "logic_metrix = pd.DataFrame()\n",
    "\n",
    "for i in logic_stat:\n",
    "    logic_metrix.insert(0, i.name, i, True)\n",
    "    \n",
    "logic_metrix"
   ]
  },
  {
   "cell_type": "markdown",
   "metadata": {},
   "source": [
    "#### 3.2. Алгоритм kmeans для выделения лояльных:"
   ]
  },
  {
   "cell_type": "markdown",
   "metadata": {},
   "source": [
    "Оценим количество кластеров по однородности данных (метод локтя):"
   ]
  },
  {
   "cell_type": "code",
   "execution_count": 67,
   "metadata": {},
   "outputs": [],
   "source": [
    "# посмотрим, сколько вообще здесь может быть кластеров, по однородности\n",
    "\n",
    "logic_metrix_scaling = np.nan_to_num(logic_metrix) \n",
    "logic_metrix_scaling = StandardScaler().fit_transform(logic_metrix_scaling) # стандартизируем переменные (для работы kmeans)"
   ]
  },
  {
   "cell_type": "code",
   "execution_count": 68,
   "metadata": {},
   "outputs": [
    {
     "name": "stdout",
     "output_type": "stream",
     "text": [
      "1 : 2.037595423006016\n",
      "2 : 1.5653668719580276\n",
      "3 : 1.405800530371479\n",
      "4 : 1.2040135198148014\n",
      "5 : 1.062248882967472\n",
      "6 : 1.0206134393383477\n",
      "7 : 0.9424981233554651\n",
      "8 : 0.8410158426190681\n",
      "9 : 0.8144830040621056\n"
     ]
    },
    {
     "data": {
      "image/png": "[encoded data removed]",
      "text/plain": [
       "<Figure size 432x288 with 1 Axes>"
      ]
     },
     "metadata": {},
     "output_type": "display_data"
    }
   ],
   "source": [
    "# посчитаем по методу локтя (где сильный излом)\n",
    "\n",
    "distortions = []\n",
    "mapping = {}\n",
    "K = range(1,10) # вариация в 10 кластеров\n",
    "\n",
    "for k in K:\n",
    "    kmeanModel = KMeans(n_clusters=k).fit(logic_metrix_scaling)\n",
    "    kmeanModel.fit(logic_metrix_scaling)    \n",
    "    distortions.append(sum(np.min(cdist(logic_metrix_scaling, kmeanModel.cluster_centers_, 'euclidean'), axis=1)) / logic_metrix_scaling.shape[0])\n",
    "   \n",
    "    mapping[k] = sum(np.min(cdist(logic_metrix_scaling, kmeanModel.cluster_centers_, 'euclidean'), axis=1)) / logic_metrix_scaling.shape[0]\n",
    "    \n",
    "for key,val in mapping.items():\n",
    "    print(str(key)+' : '+str(val))\n",
    "        \n",
    "\n",
    "plt.plot(K, distortions, 'bx-')\n",
    "plt.xlabel('values of clusters')\n",
    "plt.ylabel('distortion')\n",
    "plt.show()"
   ]
  },
  {
   "cell_type": "markdown",
   "metadata": {},
   "source": [
    " Похоже действительно 2 кластера определяются, заметный излом после 2го. "
   ]
  },
  {
   "cell_type": "markdown",
   "metadata": {},
   "source": [
    "Применим **kmeans** (k = 2):"
   ]
  },
  {
   "cell_type": "code",
   "execution_count": 69,
   "metadata": {},
   "outputs": [],
   "source": [
    "# разделим данные на 2 кластера\n",
    "\n",
    "cluster_num = 2\n",
    "k_means = KMeans(init = 'k-means++', n_clusters = cluster_num, n_init = 20, random_state = 42)\n",
    "k_means.fit(logic_metrix_scaling)\n",
    "labels = k_means.labels_\n",
    "logic_metrix['cluster'] = labels"
   ]
  },
  {
   "cell_type": "code",
   "execution_count": 70,
   "metadata": {},
   "outputs": [
    {
     "data": {
      "text/html": [
       "<div>\n",
       "<style scoped>\n",
       "    .dataframe tbody tr th:only-of-type {\n",
       "        vertical-align: middle;\n",
       "    }\n",
       "\n",
       "    .dataframe tbody tr th {\n",
       "        vertical-align: top;\n",
       "    }\n",
       "\n",
       "    .dataframe thead th {\n",
       "        text-align: right;\n",
       "    }\n",
       "</style>\n",
       "<table border=\"1\" class=\"dataframe\">\n",
       "  <thead>\n",
       "    <tr style=\"text-align: right;\">\n",
       "      <th></th>\n",
       "      <th>count</th>\n",
       "    </tr>\n",
       "    <tr>\n",
       "      <th>cluster</th>\n",
       "      <th></th>\n",
       "    </tr>\n",
       "  </thead>\n",
       "  <tbody>\n",
       "    <tr>\n",
       "      <th>0</th>\n",
       "      <td>33622</td>\n",
       "    </tr>\n",
       "    <tr>\n",
       "      <th>1</th>\n",
       "      <td>159299</td>\n",
       "    </tr>\n",
       "  </tbody>\n",
       "</table>\n",
       "</div>"
      ],
      "text/plain": [
       "          count\n",
       "cluster        \n",
       "0         33622\n",
       "1        159299"
      ]
     },
     "execution_count": 70,
     "metadata": {},
     "output_type": "execute_result"
    }
   ],
   "source": [
    "# посмотрим соотношение по количеству\n",
    "\n",
    "logic_metrix.groupby(['cluster'])['av_cat_per_pur_year'].count().to_frame().rename(columns={'av_cat_per_pur_year':'count'})"
   ]
  },
  {
   "cell_type": "code",
   "execution_count": 71,
   "metadata": {},
   "outputs": [
    {
     "data": {
      "text/html": [
       "<div>\n",
       "<style scoped>\n",
       "    .dataframe tbody tr th:only-of-type {\n",
       "        vertical-align: middle;\n",
       "    }\n",
       "\n",
       "    .dataframe tbody tr th {\n",
       "        vertical-align: top;\n",
       "    }\n",
       "\n",
       "    .dataframe thead th {\n",
       "        text-align: right;\n",
       "    }\n",
       "</style>\n",
       "<table border=\"1\" class=\"dataframe\">\n",
       "  <thead>\n",
       "    <tr style=\"text-align: right;\">\n",
       "      <th></th>\n",
       "      <th>av_cat_per_pur_year</th>\n",
       "      <th>av_cat_count_month</th>\n",
       "      <th>uniq_cat_per_year</th>\n",
       "      <th>av_order_per_month</th>\n",
       "      <th>order_count_year</th>\n",
       "      <th>av_bill_year</th>\n",
       "      <th>sum_bill_year</th>\n",
       "    </tr>\n",
       "    <tr>\n",
       "      <th>cluster</th>\n",
       "      <th></th>\n",
       "      <th></th>\n",
       "      <th></th>\n",
       "      <th></th>\n",
       "      <th></th>\n",
       "      <th></th>\n",
       "      <th></th>\n",
       "    </tr>\n",
       "  </thead>\n",
       "  <tbody>\n",
       "    <tr>\n",
       "      <th>0</th>\n",
       "      <td>1.862769</td>\n",
       "      <td>0.303375</td>\n",
       "      <td>3.640503</td>\n",
       "      <td>0.31411</td>\n",
       "      <td>3.769318</td>\n",
       "      <td>4430.622825</td>\n",
       "      <td>14815.92722</td>\n",
       "    </tr>\n",
       "    <tr>\n",
       "      <th>1</th>\n",
       "      <td>1.097817</td>\n",
       "      <td>0.101021</td>\n",
       "      <td>1.212249</td>\n",
       "      <td>0.10402</td>\n",
       "      <td>1.248238</td>\n",
       "      <td>4061.032763</td>\n",
       "      <td>4939.97472</td>\n",
       "    </tr>\n",
       "  </tbody>\n",
       "</table>\n",
       "</div>"
      ],
      "text/plain": [
       "         av_cat_per_pur_year  av_cat_count_month  uniq_cat_per_year  \\\n",
       "cluster                                                               \n",
       "0                   1.862769            0.303375           3.640503   \n",
       "1                   1.097817            0.101021           1.212249   \n",
       "\n",
       "         av_order_per_month  order_count_year  av_bill_year  sum_bill_year  \n",
       "cluster                                                                     \n",
       "0                   0.31411          3.769318   4430.622825    14815.92722  \n",
       "1                   0.10402          1.248238   4061.032763     4939.97472  "
      ]
     },
     "execution_count": 71,
     "metadata": {},
     "output_type": "execute_result"
    }
   ],
   "source": [
    "# посмотрим средние значения показателей внутри каждого кластера: 1 - обычные, 0 - лояльные\n",
    "\n",
    "logic_metrix.groupby(['cluster']).mean()"
   ]
  },
  {
   "cell_type": "markdown",
   "metadata": {},
   "source": [
    "Получается, что по предложенной кластеризации для лояльных характерно (**всё усреднено по покупателям соответствующего класса**):  \n",
    "**1)** Покупать за одну покупку **1.86** уникальных категорий за год против **1.09** у обычных,  \n",
    "**2)** Покупать за одну покупку в среднем **0.30** уникальных категории в месяц против **0.10** у обычных,  \n",
    "**3)** Покупать всего в год **3.64** уникальных категории товара против **1.21** у обычных,  \n",
    "**4)** Делать **0.31** покупку в месяц против **0.10** у обычных,  \n",
    "**5)** Делать за год **3.77** покупки против **1.24** у обычных,  \n",
    "**6)** Средний чек **4430** рублей против **4061** рубля у обычных,  \n",
    "**7)** Суммарный объем затрат от покупателя **14816** рублей против **4940** рублей у обычных.  "
   ]
  },
  {
   "cell_type": "code",
   "execution_count": 72,
   "metadata": {},
   "outputs": [
    {
     "name": "stdout",
     "output_type": "stream",
     "text": [
      "Всего покупателей за 2019 год: 195485\n",
      "Лояльные клиенты составляют человек: 33622\n",
      "Что в процентном отношении от всех 0.17199273601555107\n"
     ]
    }
   ],
   "source": [
    "# посмотрим в реальном и процентном выражении, сколько получается лояльных (кластер 0) от всех (с учетом аномальных)\n",
    "\n",
    "print('Всего покупателей за 2019 год:', df_save['customer_id'].nunique())\n",
    "print('Лояльные клиенты составляют человек:', logic_metrix.groupby(['cluster'])['av_cat_per_pur_year'].count()[0])\n",
    "print('Что в процентном отношении от всех', logic_metrix.groupby(['cluster'])['av_cat_per_pur_year'].count()[0] / df_save['customer_id'].nunique())"
   ]
  },
  {
   "cell_type": "markdown",
   "metadata": {},
   "source": [
    "Здравому смыслу и всему, что мы видели выше при разведочном анализе и по бизнес-метрикам, соответствует как процент от покупателей (**17.2%**), так и факт более высоких значений по совершенно всем показателям."
   ]
  },
  {
   "cell_type": "code",
   "execution_count": 73,
   "metadata": {},
   "outputs": [
    {
     "data": {
      "text/plain": [
       "<matplotlib.axes._subplots.AxesSubplot at 0x219ebc6b3a0>"
      ]
     },
     "execution_count": 73,
     "metadata": {},
     "output_type": "execute_result"
    },
    {
     "data": {
      "image/png": "[encoded data removed]",
      "text/plain": [
       "<Figure size 432x288 with 2 Axes>"
      ]
     },
     "metadata": {},
     "output_type": "display_data"
    }
   ],
   "source": [
    "# посмотрим матрицу корелляций наших показателей\n",
    "\n",
    "sns.heatmap(logic_metrix.corr(), center=0, annot=True, fmt='.1f', linewidths=.5, cmap=\"YlGnBu\")"
   ]
  },
  {
   "cell_type": "markdown",
   "metadata": {},
   "source": [
    "Можем сказать, что:  \n",
    "**1)** усредненные и суммарные переменные кореллированы (ожидали этого),  \n",
    "**2)** самые весомые для разделения на кластеры показатели это:   \n",
    "- общее количество уникальных категорий за год (**uniq_cat_per_year**),   \n",
    "- среднее количество уникальных категорий в месяц (**av_cat_count_month**)."
   ]
  },
  {
   "cell_type": "markdown",
   "metadata": {},
   "source": [
    "Проверим полученную кластеризацию kmeans с помощью метрики **Silhouette**:  \n",
    "Silhouette показывает, насколько среднее расстояние до объектов своего кластера отличается от среднего расстояния до объектов других кластеров. Данная величина лежит в диапазоне от -1 до 1. Значения, близкие к 1 соответствуют \"плотным\" четко выделенным кластерам. Таким образом, чем больше силуэт, тем более четко выделены кластеры."
   ]
  },
  {
   "cell_type": "code",
   "execution_count": 74,
   "metadata": {},
   "outputs": [
    {
     "data": {
      "text/plain": [
       "0.5771112408640808"
      ]
     },
     "execution_count": 74,
     "metadata": {},
     "output_type": "execute_result"
    }
   ],
   "source": [
    "silhouette_score(logic_metrix_scaling, labels, metric='euclidean')"
   ]
  },
  {
   "cell_type": "markdown",
   "metadata": {},
   "source": [
    "**Silhouette = 0.57**, результат достаточно хорош для бинарной кластеризации."
   ]
  },
  {
   "cell_type": "markdown",
   "metadata": {},
   "source": [
    "#### 3.3. Проверка кластеризации на бизнес-логику:"
   ]
  },
  {
   "cell_type": "markdown",
   "metadata": {},
   "source": [
    "Проверим теперь в прикладном сысле, как обстоят дела с доходом, который приходится на лояльных от всех доходов. И заодно вспомним о тех, кого приняли за выбросы. "
   ]
  },
  {
   "cell_type": "code",
   "execution_count": 75,
   "metadata": {},
   "outputs": [
    {
     "name": "stdout",
     "output_type": "stream",
     "text": [
      "Суммарный доход от ЛОЯЛЬНЫХ клиентов составляет: 498141105\n",
      "Что в составляет от всех доходов, в %: 32.465242668316456\n"
     ]
    }
   ],
   "source": [
    "# отберем список лояльных customer_id и отдельную таблицу только с ЛОЯЛЬНЫМИ\n",
    "\n",
    "loyal_customers_index = logic_metrix[logic_metrix['cluster'] == 0]['cluster'].index\n",
    "loyal_customers = df[df['customer_id'].isin(loyal_customers_index)]\n",
    "\n",
    "print('Суммарный доход от ЛОЯЛЬНЫХ клиентов составляет:', loyal_customers.groupby(['customer_id'])['order_sum'].sum().sum())\n",
    "print('Что в составляет от всех доходов, в %:', loyal_customers.groupby(['customer_id'])['order_sum'].sum().sum() / (df_save['order_sum'].sum()) * 100 )"
   ]
  },
  {
   "cell_type": "code",
   "execution_count": 76,
   "metadata": {},
   "outputs": [
    {
     "name": "stdout",
     "output_type": "stream",
     "text": [
      "Суммарный доход от АНОМАЛЬНЫХ клиентов составляет: 249308679\n",
      "Что в составляет от всех доходов, в %: 16.248140701122047\n"
     ]
    }
   ],
   "source": [
    "# а как дела у тех, кого признали АНОМАЛЬНЫМИ\n",
    "\n",
    "print('Суммарный доход от АНОМАЛЬНЫХ клиентов составляет:', df_save[df_save['customer_id'].isin(anomal_customer_id)]['order_sum'].sum())\n",
    "print('Что в составляет от всех доходов, в %:', df_save[df_save['customer_id'].isin(anomal_customer_id)]['order_sum'].sum() / (df_save['order_sum'].sum()) * 100 )"
   ]
  },
  {
   "cell_type": "code",
   "execution_count": 77,
   "metadata": {},
   "outputs": [
    {
     "name": "stdout",
     "output_type": "stream",
     "text": [
      "Суммарный доход от ЛОЯЛЬНЫХ + АНОМАЛЬНЫХ клиентов составляет: 747449784\n",
      "Что в составляет от всех доходов, в %: 48.7133833694385\n"
     ]
    }
   ],
   "source": [
    "# то есть что получается совокупно для ЛОЯЛЬНЫЕ + АНОМАЛЬНЫЕ\n",
    "\n",
    "print('Суммарный доход от ЛОЯЛЬНЫХ + АНОМАЛЬНЫХ клиентов составляет:', (df_save[df_save['customer_id'].isin(anomal_customer_id)]['order_sum'].sum()) + (loyal_customers.groupby(['customer_id'])['order_sum'].sum().sum()))\n",
    "print('Что в составляет от всех доходов, в %:', ((df_save[df_save['customer_id'].isin(anomal_customer_id)]['order_sum'].sum()) + (loyal_customers.groupby(['customer_id'])['order_sum'].sum().sum())) / df_save['order_sum'].sum() * 100)"
   ]
  },
  {
   "cell_type": "markdown",
   "metadata": {},
   "source": [
    "#### 3.4. Выводы по кластеризации:  "
   ]
  },
  {
   "cell_type": "markdown",
   "metadata": {},
   "source": [
    "**1)** Количество лояльных клиентов было установлено с помощью алгоритма kmeans в размере 33550 человек, что составляет **17.2%** от всех покупателей. К обычным были отнесены, соответственно, 159371 человек (**81.5%**). Так же есть предварительно отобранные покупатели с \"аномальным\" поведением, 2564 человека (**1.3%**). Последние требуют совершенно обособленного подхода, т.к. часть информации о них и закономерностях их поведения могут быть за пределами доступной в представленных данных информации. Отметим дополнительно, что процент лояльных находится довольно близко к значению (и смыслу) бизнес-метрики **CRR**, что косвенно подтвержадет правильность оценки доли лояльных.   \n",
    "**2)** Выбор прогнозирующих переменных был правильным, по основаниям: деньги (суммарные и в среднем, средний чек), частота (за год и в среднем), широта приобретаемого ассортимента, категорий (уникальные за месяц, за год, в одном заказе). Причем по важности для выделения лояльных касающиеся **широты ассортимента** оказались наиболее характеризующими, такие как:\n",
    "- общее количество уникальных категорий за год (**uniq_cat_per_year**),  \n",
    "- среднее количество уникальных категорий в месяц (**av_cat_count_month**)."
   ]
  },
  {
   "cell_type": "markdown",
   "metadata": {},
   "source": [
    "**3)** В качестве метрики оценки качества кластеризации без учителя (без имеющихся тестовых данных с индикаторами отношения к классам) применена Silhouette. Значение **Silhouette = 0.57** (из доступного диапазона [-1; 1], где 1 лучший вариант), что можно признать достаточно хорошим результатом на имеющемся объеме данных.  \n",
    "**4)** Установлено, что суммарный доход от лояльных покупателей составляет **32.4%** от всех за год. Это согласуется с логикой об ожидаемом непропорциональном вкладе лояльных.   \n",
    "**5)** Все прогнозирующие переменные лояльных покупателей показали значительное превышение значений, чем у обычных покупателей. Средние значения переменных для лояльных покупателей:\n",
    "- Покупать за одну покупку **1.86** уникальных категорий за год против **1.09** у обычных,  \n",
    "- Покупать за одну покупку в среднем **0.30** уникальных категории в месяц против **0.10** у обычных,  \n",
    "- Покупать всего в год **3.64** уникальных категории товара против **1.21** у обычных,  \n",
    "- Делать **0.31** покупку в месяц против **0.10** у обычных,  \n",
    "- Делать за год **3.77** покупки против **1.24** у обычных,  \n",
    "- Средний чек **4430** рублей против **4061** рубля у обычных,  \n",
    "- Суммарный объем затрат покупателя **14816** рублей против **4940** рублей у обычных."
   ]
  }
 ],
 "metadata": {
  "kernelspec": {
   "display_name": "Python 3",
   "language": "python",
   "name": "python3"
  },
  "language_info": {
   "codemirror_mode": {
    "name": "ipython",
    "version": 3
   },
   "file_extension": ".py",
   "mimetype": "text/x-python",
   "name": "python",
   "nbconvert_exporter": "python",
   "pygments_lexer": "ipython3",
   "version": "3.8.3"
  }
 },
 "nbformat": 4,
 "nbformat_minor": 4
}
