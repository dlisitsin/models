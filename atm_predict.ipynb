{
 "cells": [
  {
   "cell_type": "markdown",
   "metadata": {},
   "source": [
    "Определение индекса популярности банкоматов."
   ]
  },
  {
   "cell_type": "code",
   "execution_count": 1,
   "metadata": {},
   "outputs": [],
   "source": [
    "# обработка\n",
    "import pandas as pd\n",
    "import numpy as np\n",
    "from math import sin, cos, sqrt, atan2, radians\n",
    "\n",
    "# визуализация\n",
    "import matplotlib.pyplot as plt\n",
    "%matplotlib inline\n",
    "import seaborn as sns\n",
    "\n",
    "# моделирование\n",
    "from sklearn.neighbors import KNeighborsClassifier\n",
    "import lightgbm as lgb\n",
    "\n",
    "# оценка\n",
    "from sklearn.model_selection import train_test_split\n",
    "from sklearn.metrics import mean_squared_error"
   ]
  },
  {
   "cell_type": "code",
   "execution_count": 2,
   "metadata": {},
   "outputs": [],
   "source": [
    "# корень из среднеквадратичной ошибки\n",
    "\n",
    "def rmse(y_true, y_pred):\n",
    "    return sqrt(mean_squared_error(y_true, y_pred))"
   ]
  },
  {
   "cell_type": "markdown",
   "metadata": {},
   "source": [
    "### 1. Загрузка и подготовка данных"
   ]
  },
  {
   "cell_type": "code",
   "execution_count": 3,
   "metadata": {},
   "outputs": [],
   "source": [
    "train = pd.read_csv('D:\\\\Work\\\\data\\\\bank\\\\train.csv', index_col = 0)\n",
    "test = pd.read_csv('D:\\\\Work\\\\data\\\\bank\\\\test.csv', index_col = 0)\n",
    "\n",
    "train['isTrain'] = True\n",
    "test['isTrain'] = False"
   ]
  },
  {
   "cell_type": "code",
   "execution_count": 4,
   "metadata": {},
   "outputs": [],
   "source": [
    "X = train.append(test, sort=False)"
   ]
  },
  {
   "cell_type": "code",
   "execution_count": 5,
   "metadata": {},
   "outputs": [
    {
     "data": {
      "text/html": [
       "<div>\n",
       "<style scoped>\n",
       "    .dataframe tbody tr th:only-of-type {\n",
       "        vertical-align: middle;\n",
       "    }\n",
       "\n",
       "    .dataframe tbody tr th {\n",
       "        vertical-align: top;\n",
       "    }\n",
       "\n",
       "    .dataframe thead th {\n",
       "        text-align: right;\n",
       "    }\n",
       "</style>\n",
       "<table border=\"1\" class=\"dataframe\">\n",
       "  <thead>\n",
       "    <tr style=\"text-align: right;\">\n",
       "      <th></th>\n",
       "      <th>count</th>\n",
       "      <th>mean</th>\n",
       "      <th>std</th>\n",
       "      <th>min</th>\n",
       "      <th>25%</th>\n",
       "      <th>50%</th>\n",
       "      <th>75%</th>\n",
       "      <th>max</th>\n",
       "    </tr>\n",
       "  </thead>\n",
       "  <tbody>\n",
       "    <tr>\n",
       "      <th>id</th>\n",
       "      <td>8765.0</td>\n",
       "      <td>4404.586366</td>\n",
       "      <td>2542.532548</td>\n",
       "      <td>1.000000</td>\n",
       "      <td>2207.000000</td>\n",
       "      <td>4403.000000</td>\n",
       "      <td>6603.000000</td>\n",
       "      <td>8811.000000</td>\n",
       "    </tr>\n",
       "    <tr>\n",
       "      <th>atm_group</th>\n",
       "      <td>8765.0</td>\n",
       "      <td>4407.008842</td>\n",
       "      <td>2427.934099</td>\n",
       "      <td>32.000000</td>\n",
       "      <td>1942.000000</td>\n",
       "      <td>5478.000000</td>\n",
       "      <td>5478.000000</td>\n",
       "      <td>8083.000000</td>\n",
       "    </tr>\n",
       "    <tr>\n",
       "      <th>lat</th>\n",
       "      <td>8345.0</td>\n",
       "      <td>54.138304</td>\n",
       "      <td>4.329293</td>\n",
       "      <td>42.057080</td>\n",
       "      <td>52.243997</td>\n",
       "      <td>55.060936</td>\n",
       "      <td>56.116673</td>\n",
       "      <td>69.495093</td>\n",
       "    </tr>\n",
       "    <tr>\n",
       "      <th>long</th>\n",
       "      <td>8345.0</td>\n",
       "      <td>63.500873</td>\n",
       "      <td>32.787366</td>\n",
       "      <td>19.941530</td>\n",
       "      <td>37.851107</td>\n",
       "      <td>49.071694</td>\n",
       "      <td>84.950218</td>\n",
       "      <td>173.706490</td>\n",
       "    </tr>\n",
       "    <tr>\n",
       "      <th>target</th>\n",
       "      <td>6261.0</td>\n",
       "      <td>0.000715</td>\n",
       "      <td>0.085852</td>\n",
       "      <td>-0.145001</td>\n",
       "      <td>-0.061176</td>\n",
       "      <td>-0.015573</td>\n",
       "      <td>0.040149</td>\n",
       "      <td>0.218608</td>\n",
       "    </tr>\n",
       "  </tbody>\n",
       "</table>\n",
       "</div>"
      ],
      "text/plain": [
       "            count         mean          std        min          25%  \\\n",
       "id         8765.0  4404.586366  2542.532548   1.000000  2207.000000   \n",
       "atm_group  8765.0  4407.008842  2427.934099  32.000000  1942.000000   \n",
       "lat        8345.0    54.138304     4.329293  42.057080    52.243997   \n",
       "long       8345.0    63.500873    32.787366  19.941530    37.851107   \n",
       "target     6261.0     0.000715     0.085852  -0.145001    -0.061176   \n",
       "\n",
       "                   50%          75%          max  \n",
       "id         4403.000000  6603.000000  8811.000000  \n",
       "atm_group  5478.000000  5478.000000  8083.000000  \n",
       "lat          55.060936    56.116673    69.495093  \n",
       "long         49.071694    84.950218   173.706490  \n",
       "target       -0.015573     0.040149     0.218608  "
      ]
     },
     "execution_count": 5,
     "metadata": {},
     "output_type": "execute_result"
    }
   ],
   "source": [
    "X.describe().T"
   ]
  },
  {
   "cell_type": "code",
   "execution_count": 6,
   "metadata": {},
   "outputs": [
    {
     "data": {
      "text/html": [
       "<div>\n",
       "<style scoped>\n",
       "    .dataframe tbody tr th:only-of-type {\n",
       "        vertical-align: middle;\n",
       "    }\n",
       "\n",
       "    .dataframe tbody tr th {\n",
       "        vertical-align: top;\n",
       "    }\n",
       "\n",
       "    .dataframe thead th {\n",
       "        text-align: right;\n",
       "    }\n",
       "</style>\n",
       "<table border=\"1\" class=\"dataframe\">\n",
       "  <thead>\n",
       "    <tr style=\"text-align: right;\">\n",
       "      <th></th>\n",
       "      <th>count</th>\n",
       "      <th>unique</th>\n",
       "      <th>top</th>\n",
       "      <th>freq</th>\n",
       "    </tr>\n",
       "  </thead>\n",
       "  <tbody>\n",
       "    <tr>\n",
       "      <th>address</th>\n",
       "      <td>8765</td>\n",
       "      <td>7481</td>\n",
       "      <td>HOROSHEVSKOE SH,V38       MOSKVA</td>\n",
       "      <td>7</td>\n",
       "    </tr>\n",
       "    <tr>\n",
       "      <th>address_rus</th>\n",
       "      <td>8345</td>\n",
       "      <td>6147</td>\n",
       "      <td>квартал В-13, городской округ Волгодонск, Рост...</td>\n",
       "      <td>10</td>\n",
       "    </tr>\n",
       "  </tbody>\n",
       "</table>\n",
       "</div>"
      ],
      "text/plain": [
       "            count unique                                                top  \\\n",
       "address      8765   7481             HOROSHEVSKOE SH,V38       MOSKVA         \n",
       "address_rus  8345   6147  квартал В-13, городской округ Волгодонск, Рост...   \n",
       "\n",
       "            freq  \n",
       "address        7  \n",
       "address_rus   10  "
      ]
     },
     "execution_count": 6,
     "metadata": {},
     "output_type": "execute_result"
    }
   ],
   "source": [
    "X.describe(include='object').T"
   ]
  },
  {
   "cell_type": "markdown",
   "metadata": {},
   "source": [
    "Расчет кол-ва банкоматов по одному адресу:"
   ]
  },
  {
   "cell_type": "code",
   "execution_count": 7,
   "metadata": {},
   "outputs": [],
   "source": [
    "counts = X.groupby('address_rus')['id'].count().reset_index().rename(columns={'id':'count'})"
   ]
  },
  {
   "cell_type": "code",
   "execution_count": 8,
   "metadata": {},
   "outputs": [],
   "source": [
    "X = pd.merge(X, counts, how='left', on='address_rus')"
   ]
  },
  {
   "cell_type": "code",
   "execution_count": 9,
   "metadata": {
    "scrolled": true
   },
   "outputs": [
    {
     "data": {
      "text/html": [
       "<div>\n",
       "<style scoped>\n",
       "    .dataframe tbody tr th:only-of-type {\n",
       "        vertical-align: middle;\n",
       "    }\n",
       "\n",
       "    .dataframe tbody tr th {\n",
       "        vertical-align: top;\n",
       "    }\n",
       "\n",
       "    .dataframe thead th {\n",
       "        text-align: right;\n",
       "    }\n",
       "</style>\n",
       "<table border=\"1\" class=\"dataframe\">\n",
       "  <thead>\n",
       "    <tr style=\"text-align: right;\">\n",
       "      <th></th>\n",
       "      <th>id</th>\n",
       "      <th>atm_group</th>\n",
       "      <th>address</th>\n",
       "      <th>address_rus</th>\n",
       "      <th>lat</th>\n",
       "      <th>long</th>\n",
       "      <th>target</th>\n",
       "      <th>isTrain</th>\n",
       "      <th>count</th>\n",
       "    </tr>\n",
       "  </thead>\n",
       "  <tbody>\n",
       "    <tr>\n",
       "      <th>0</th>\n",
       "      <td>8526.0</td>\n",
       "      <td>32.0</td>\n",
       "      <td>EMELYANOVA,34          Y-SAKHALINSK</td>\n",
       "      <td>улица А.О. Емельянова, 34, Южно-Сахалинск, Сах...</td>\n",
       "      <td>46.940995</td>\n",
       "      <td>142.738319</td>\n",
       "      <td>0.011500</td>\n",
       "      <td>True</td>\n",
       "      <td>1.0</td>\n",
       "    </tr>\n",
       "    <tr>\n",
       "      <th>1</th>\n",
       "      <td>8532.0</td>\n",
       "      <td>32.0</td>\n",
       "      <td>KOMSOMOLSKAYA,259B     Y.SAKHALINSK</td>\n",
       "      <td>Комсомольская улица, 259, Южно-Сахалинск, Саха...</td>\n",
       "      <td>46.937353</td>\n",
       "      <td>142.753348</td>\n",
       "      <td>0.029710</td>\n",
       "      <td>True</td>\n",
       "      <td>1.0</td>\n",
       "    </tr>\n",
       "    <tr>\n",
       "      <th>2</th>\n",
       "      <td>8533.0</td>\n",
       "      <td>32.0</td>\n",
       "      <td>KOMMUN. PR., 32        YUZHNO SAKHAL</td>\n",
       "      <td>Коммунистический проспект, Южно-Сахалинск, Сах...</td>\n",
       "      <td>46.959413</td>\n",
       "      <td>142.741113</td>\n",
       "      <td>0.009540</td>\n",
       "      <td>True</td>\n",
       "      <td>1.0</td>\n",
       "    </tr>\n",
       "    <tr>\n",
       "      <th>3</th>\n",
       "      <td>8684.0</td>\n",
       "      <td>32.0</td>\n",
       "      <td>LENINGRADSKIY PR.,76A  MOSCOW</td>\n",
       "      <td>Ленинградский проспект, 76А, Москва, Россия, 1...</td>\n",
       "      <td>55.805827</td>\n",
       "      <td>37.515146</td>\n",
       "      <td>-0.094035</td>\n",
       "      <td>True</td>\n",
       "      <td>1.0</td>\n",
       "    </tr>\n",
       "    <tr>\n",
       "      <th>4</th>\n",
       "      <td>37.0</td>\n",
       "      <td>32.0</td>\n",
       "      <td>GVARDEYSKAYA PL., 2    NORILSK</td>\n",
       "      <td>Гвардейская площадь, 2, Норильск, Красноярский...</td>\n",
       "      <td>69.343541</td>\n",
       "      <td>88.211228</td>\n",
       "      <td>0.079277</td>\n",
       "      <td>True</td>\n",
       "      <td>1.0</td>\n",
       "    </tr>\n",
       "  </tbody>\n",
       "</table>\n",
       "</div>"
      ],
      "text/plain": [
       "       id  atm_group                                 address  \\\n",
       "0  8526.0       32.0  EMELYANOVA,34          Y-SAKHALINSK      \n",
       "1  8532.0       32.0  KOMSOMOLSKAYA,259B     Y.SAKHALINSK      \n",
       "2  8533.0       32.0  KOMMUN. PR., 32        YUZHNO SAKHAL     \n",
       "3  8684.0       32.0  LENINGRADSKIY PR.,76A  MOSCOW            \n",
       "4    37.0       32.0  GVARDEYSKAYA PL., 2    NORILSK           \n",
       "\n",
       "                                         address_rus        lat        long  \\\n",
       "0  улица А.О. Емельянова, 34, Южно-Сахалинск, Сах...  46.940995  142.738319   \n",
       "1  Комсомольская улица, 259, Южно-Сахалинск, Саха...  46.937353  142.753348   \n",
       "2  Коммунистический проспект, Южно-Сахалинск, Сах...  46.959413  142.741113   \n",
       "3  Ленинградский проспект, 76А, Москва, Россия, 1...  55.805827   37.515146   \n",
       "4  Гвардейская площадь, 2, Норильск, Красноярский...  69.343541   88.211228   \n",
       "\n",
       "     target  isTrain  count  \n",
       "0  0.011500     True    1.0  \n",
       "1  0.029710     True    1.0  \n",
       "2  0.009540     True    1.0  \n",
       "3 -0.094035     True    1.0  \n",
       "4  0.079277     True    1.0  "
      ]
     },
     "execution_count": 9,
     "metadata": {},
     "output_type": "execute_result"
    }
   ],
   "source": [
    "X.head()"
   ]
  },
  {
   "cell_type": "markdown",
   "metadata": {},
   "source": [
    "Расчет расстояния до ближайших банкоматов:"
   ]
  },
  {
   "cell_type": "code",
   "execution_count": 10,
   "metadata": {},
   "outputs": [],
   "source": [
    "R = 6373.0 # радиус Земли в км\n",
    "\n",
    "def distance(x, y):\n",
    "    lat_a, long_a, lat_b, long_b = map(radians, [*x,*y]) # x - широта и долгота первой гео, y - широта и долгота второй гео \n",
    "    dlon = long_b - long_a\n",
    "    dlat = lat_b - lat_a\n",
    "    a = sin(dlat/2)**2 + cos(lat_a) * cos(lat_b) * sin(dlon/2)**2\n",
    "    c = 2 * atan2(sqrt(a), sqrt(1 - a))\n",
    "    return R * c # дистанция в км между гео"
   ]
  },
  {
   "cell_type": "markdown",
   "metadata": {},
   "source": [
    "### 2. Поиск ближайших друг к другу банкоматов"
   ]
  },
  {
   "cell_type": "code",
   "execution_count": 11,
   "metadata": {},
   "outputs": [],
   "source": [
    "# расчет по методу ближайших соседей\n",
    "\n",
    "knc = KNeighborsClassifier(metric = distance) "
   ]
  },
  {
   "cell_type": "code",
   "execution_count": 12,
   "metadata": {},
   "outputs": [],
   "source": [
    "dots = X[['lat', 'long']].dropna()"
   ]
  },
  {
   "cell_type": "code",
   "execution_count": 13,
   "metadata": {},
   "outputs": [
    {
     "data": {
      "text/plain": [
       "KNeighborsClassifier(metric=<function distance at 0x000001DBF024D700>)"
      ]
     },
     "execution_count": 13,
     "metadata": {},
     "output_type": "execute_result"
    }
   ],
   "source": [
    "knc.fit(X = dots, y = np.ones(dots.shape[0])) # расчет по широте и долготе"
   ]
  },
  {
   "cell_type": "code",
   "execution_count": 14,
   "metadata": {},
   "outputs": [],
   "source": [
    "distances, indexes = knc.kneighbors(X = dots, n_neighbors = 6) # определеяем близость по 6 соседям"
   ]
  },
  {
   "cell_type": "code",
   "execution_count": 15,
   "metadata": {},
   "outputs": [],
   "source": [
    "for i in range(1, 6):\n",
    "    dots['distance_%s'%i] = distances[:, i]\n",
    "    dots['indexes_%s'%i] = indexes[:, i]"
   ]
  },
  {
   "cell_type": "code",
   "execution_count": 16,
   "metadata": {},
   "outputs": [],
   "source": [
    "dots['mean'] = dots.iloc[:, dots.columns.str.contains('distance')].mean(axis=1)"
   ]
  },
  {
   "cell_type": "code",
   "execution_count": 17,
   "metadata": {},
   "outputs": [],
   "source": [
    "X = pd.concat([X, dots], axis=1)"
   ]
  },
  {
   "cell_type": "markdown",
   "metadata": {},
   "source": [
    "Город размещения:"
   ]
  },
  {
   "cell_type": "code",
   "execution_count": 18,
   "metadata": {},
   "outputs": [],
   "source": [
    "X['city'] = X[~X.address_rus.isnull()].address_rus.apply(lambda x: x.split(',')[2]) # выделение 3й сущности (город) после зпт в столбце address_rus"
   ]
  },
  {
   "cell_type": "code",
   "execution_count": 19,
   "metadata": {},
   "outputs": [],
   "source": [
    "rare_cities = X.city.value_counts()[(X.city.value_counts() < 20) == True].index # редко встречающиейся города"
   ]
  },
  {
   "cell_type": "code",
   "execution_count": 20,
   "metadata": {},
   "outputs": [],
   "source": [
    "X['city'] = X['city'].apply(lambda x: 'RARE' if x in rare_cities else x) "
   ]
  },
  {
   "cell_type": "code",
   "execution_count": 21,
   "metadata": {},
   "outputs": [],
   "source": [
    "X['city'] = X['city'].rank().fillna(-1)"
   ]
  },
  {
   "cell_type": "code",
   "execution_count": 22,
   "metadata": {},
   "outputs": [],
   "source": [
    "X_ = X[X.isTrain][['atm_group', 'lat', 'long',  'count', 'distance_1',\n",
    "                    'distance_2',  'distance_3',  'distance_4', 'distance_5',\n",
    "                    'indexes_5', 'mean', 'city']] # переменные для расчета\n",
    "X_ = X_.loc[:, ~X_.columns.duplicated()]\n",
    "Y_ = X.loc[X.isTrain, 'target']"
   ]
  },
  {
   "cell_type": "code",
   "execution_count": 23,
   "metadata": {},
   "outputs": [],
   "source": [
    "X_train, X_valid, Y_train, Y_valid = train_test_split(X_, Y_, test_size=0.25, random_state=1)"
   ]
  },
  {
   "cell_type": "markdown",
   "metadata": {},
   "source": [
    "### 3. Обучение моделей"
   ]
  },
  {
   "cell_type": "code",
   "execution_count": 24,
   "metadata": {
    "scrolled": true
   },
   "outputs": [
    {
     "name": "stdout",
     "output_type": "stream",
     "text": [
      "[LightGBM] [Warning] Unknown parameter: colsample_bytre\n",
      "[1]\tvalid_0's rmse: 0.076371\tvalid_0's l2: 0.00583253\n",
      "Training until validation scores don't improve for 7 rounds\n",
      "[2]\tvalid_0's rmse: 0.0697908\tvalid_0's l2: 0.00487076\n",
      "[3]\tvalid_0's rmse: 0.0646181\tvalid_0's l2: 0.00417549\n",
      "[4]\tvalid_0's rmse: 0.0603726\tvalid_0's l2: 0.00364485\n",
      "[5]\tvalid_0's rmse: 0.0571123\tvalid_0's l2: 0.00326182\n",
      "[6]\tvalid_0's rmse: 0.054649\tvalid_0's l2: 0.00298651\n",
      "[7]\tvalid_0's rmse: 0.0528328\tvalid_0's l2: 0.0027913\n",
      "[8]\tvalid_0's rmse: 0.051327\tvalid_0's l2: 0.00263446\n",
      "[9]\tvalid_0's rmse: 0.0502312\tvalid_0's l2: 0.00252317\n",
      "[10]\tvalid_0's rmse: 0.0494199\tvalid_0's l2: 0.00244232\n",
      "[11]\tvalid_0's rmse: 0.0487256\tvalid_0's l2: 0.00237418\n",
      "[12]\tvalid_0's rmse: 0.0482764\tvalid_0's l2: 0.00233061\n",
      "[13]\tvalid_0's rmse: 0.0477937\tvalid_0's l2: 0.00228424\n",
      "[14]\tvalid_0's rmse: 0.0474181\tvalid_0's l2: 0.00224848\n",
      "[15]\tvalid_0's rmse: 0.0471956\tvalid_0's l2: 0.00222743\n",
      "[16]\tvalid_0's rmse: 0.0469502\tvalid_0's l2: 0.00220432\n",
      "[17]\tvalid_0's rmse: 0.046745\tvalid_0's l2: 0.00218509\n",
      "[18]\tvalid_0's rmse: 0.0466379\tvalid_0's l2: 0.0021751\n",
      "[19]\tvalid_0's rmse: 0.0465174\tvalid_0's l2: 0.00216387\n",
      "[20]\tvalid_0's rmse: 0.0464667\tvalid_0's l2: 0.00215915\n",
      "[21]\tvalid_0's rmse: 0.0463521\tvalid_0's l2: 0.00214852\n",
      "[22]\tvalid_0's rmse: 0.0463629\tvalid_0's l2: 0.00214952\n",
      "[23]\tvalid_0's rmse: 0.0462995\tvalid_0's l2: 0.00214364\n",
      "[24]\tvalid_0's rmse: 0.0461994\tvalid_0's l2: 0.00213438\n",
      "[25]\tvalid_0's rmse: 0.0461494\tvalid_0's l2: 0.00212977\n",
      "[26]\tvalid_0's rmse: 0.046087\tvalid_0's l2: 0.00212401\n",
      "[27]\tvalid_0's rmse: 0.0460574\tvalid_0's l2: 0.00212128\n",
      "[28]\tvalid_0's rmse: 0.0460105\tvalid_0's l2: 0.00211696\n",
      "[29]\tvalid_0's rmse: 0.0460057\tvalid_0's l2: 0.00211653\n",
      "[30]\tvalid_0's rmse: 0.0459462\tvalid_0's l2: 0.00211106\n",
      "[31]\tvalid_0's rmse: 0.0459355\tvalid_0's l2: 0.00211007\n",
      "[32]\tvalid_0's rmse: 0.0459568\tvalid_0's l2: 0.00211203\n",
      "[33]\tvalid_0's rmse: 0.0458645\tvalid_0's l2: 0.00210355\n",
      "[34]\tvalid_0's rmse: 0.0458135\tvalid_0's l2: 0.00209888\n",
      "[35]\tvalid_0's rmse: 0.0458114\tvalid_0's l2: 0.00209868\n",
      "[36]\tvalid_0's rmse: 0.0457657\tvalid_0's l2: 0.0020945\n",
      "[37]\tvalid_0's rmse: 0.0457605\tvalid_0's l2: 0.00209402\n",
      "[38]\tvalid_0's rmse: 0.0457284\tvalid_0's l2: 0.00209109\n",
      "[39]\tvalid_0's rmse: 0.045717\tvalid_0's l2: 0.00209004\n",
      "[40]\tvalid_0's rmse: 0.045722\tvalid_0's l2: 0.0020905\n",
      "[41]\tvalid_0's rmse: 0.0456643\tvalid_0's l2: 0.00208523\n",
      "[42]\tvalid_0's rmse: 0.0456245\tvalid_0's l2: 0.00208159\n",
      "[43]\tvalid_0's rmse: 0.0456109\tvalid_0's l2: 0.00208035\n",
      "[44]\tvalid_0's rmse: 0.0455869\tvalid_0's l2: 0.00207816\n",
      "[45]\tvalid_0's rmse: 0.0455721\tvalid_0's l2: 0.00207682\n",
      "[46]\tvalid_0's rmse: 0.0455619\tvalid_0's l2: 0.00207589\n",
      "[47]\tvalid_0's rmse: 0.045554\tvalid_0's l2: 0.00207517\n",
      "[48]\tvalid_0's rmse: 0.0455282\tvalid_0's l2: 0.00207282\n",
      "[49]\tvalid_0's rmse: 0.0455217\tvalid_0's l2: 0.00207222\n",
      "[50]\tvalid_0's rmse: 0.0455091\tvalid_0's l2: 0.00207108\n",
      "[51]\tvalid_0's rmse: 0.0455201\tvalid_0's l2: 0.00207208\n",
      "[52]\tvalid_0's rmse: 0.045526\tvalid_0's l2: 0.00207261\n",
      "[53]\tvalid_0's rmse: 0.0455245\tvalid_0's l2: 0.00207248\n",
      "[54]\tvalid_0's rmse: 0.0455177\tvalid_0's l2: 0.00207186\n",
      "[55]\tvalid_0's rmse: 0.0455251\tvalid_0's l2: 0.00207253\n",
      "[56]\tvalid_0's rmse: 0.0455049\tvalid_0's l2: 0.00207069\n",
      "[57]\tvalid_0's rmse: 0.0454748\tvalid_0's l2: 0.00206796\n",
      "[58]\tvalid_0's rmse: 0.0454556\tvalid_0's l2: 0.00206621\n",
      "[59]\tvalid_0's rmse: 0.0454474\tvalid_0's l2: 0.00206546\n",
      "[60]\tvalid_0's rmse: 0.0454306\tvalid_0's l2: 0.00206394\n",
      "[61]\tvalid_0's rmse: 0.045426\tvalid_0's l2: 0.00206352\n",
      "[62]\tvalid_0's rmse: 0.0453848\tvalid_0's l2: 0.00205978\n",
      "[63]\tvalid_0's rmse: 0.0453773\tvalid_0's l2: 0.0020591\n",
      "[64]\tvalid_0's rmse: 0.0453718\tvalid_0's l2: 0.0020586\n",
      "[65]\tvalid_0's rmse: 0.0453774\tvalid_0's l2: 0.00205911\n",
      "[66]\tvalid_0's rmse: 0.045347\tvalid_0's l2: 0.00205635\n",
      "[67]\tvalid_0's rmse: 0.0453339\tvalid_0's l2: 0.00205516\n",
      "[68]\tvalid_0's rmse: 0.0453261\tvalid_0's l2: 0.00205446\n",
      "[69]\tvalid_0's rmse: 0.0453072\tvalid_0's l2: 0.00205275\n",
      "[70]\tvalid_0's rmse: 0.0453176\tvalid_0's l2: 0.00205369\n",
      "[71]\tvalid_0's rmse: 0.0453265\tvalid_0's l2: 0.00205449\n",
      "[72]\tvalid_0's rmse: 0.0453442\tvalid_0's l2: 0.0020561\n",
      "[73]\tvalid_0's rmse: 0.0453611\tvalid_0's l2: 0.00205763\n",
      "[74]\tvalid_0's rmse: 0.0453657\tvalid_0's l2: 0.00205804\n",
      "[75]\tvalid_0's rmse: 0.0453451\tvalid_0's l2: 0.00205618\n",
      "[76]\tvalid_0's rmse: 0.0453418\tvalid_0's l2: 0.00205587\n",
      "Early stopping, best iteration is:\n",
      "[69]\tvalid_0's rmse: 0.0453072\tvalid_0's l2: 0.00205275\n"
     ]
    },
    {
     "data": {
      "text/plain": [
       "LGBMRegressor(colsample_bytre=0.85, learning_rate=0.15, max_depth=4,\n",
       "              n_estimators=280, objective='regression', subsample=0.85)"
      ]
     },
     "execution_count": 24,
     "metadata": {},
     "output_type": "execute_result"
    }
   ],
   "source": [
    "gbm = lgb.LGBMRegressor(objective = 'regression',  \n",
    "                            max_depth = 4,\n",
    "                            colsample_bytre = 0.85,\n",
    "                            subsample = 0.85, \n",
    "                            learning_rate = 0.15,\n",
    "                            n_estimators = 280)\n",
    "\n",
    "gbm.fit(X_train, Y_train, eval_set=[(X_valid, Y_valid)], eval_metric='rmse', early_stopping_rounds=7)"
   ]
  },
  {
   "cell_type": "code",
   "execution_count": 25,
   "metadata": {},
   "outputs": [
    {
     "data": {
      "text/plain": [
       "<matplotlib.axes._subplots.AxesSubplot at 0x1dbf0286df0>"
      ]
     },
     "execution_count": 25,
     "metadata": {},
     "output_type": "execute_result"
    },
    {
     "data": {
      "image/png": "[encoded data removed]",
      "text/plain": [
       "<Figure size 432x288 with 1 Axes>"
      ]
     },
     "metadata": {
      "needs_background": "light"
     },
     "output_type": "display_data"
    }
   ],
   "source": [
    "# значение переменных\n",
    "lgb.plot_importance(gbm)"
   ]
  },
  {
   "cell_type": "code",
   "execution_count": 26,
   "metadata": {},
   "outputs": [
    {
     "name": "stdout",
     "output_type": "stream",
     "text": [
      "Sqrt RMSE predict: 0.04530724803670742\n",
      "Sqrt RMSE valid: 0.08463725683992336\n"
     ]
    }
   ],
   "source": [
    "print('Sqrt RMSE predict:', rmse(Y_valid, gbm.predict(X_valid)))\n",
    "print('Sqrt RMSE valid:', rmse(Y_valid, np.zeros(Y_valid.shape[0])))"
   ]
  },
  {
   "cell_type": "code",
   "execution_count": 27,
   "metadata": {},
   "outputs": [],
   "source": [
    "X_test = X[~X.isTrain][['atm_group', 'lat', 'long',  'count', 'distance_1',\n",
    "                        'distance_2', 'distance_3',  'distance_4', 'distance_5',\n",
    "                        'indexes_5', 'mean', 'city']]\n",
    "X_test = X_test.loc[:, ~X_test.columns.duplicated()]"
   ]
  },
  {
   "cell_type": "code",
   "execution_count": 28,
   "metadata": {},
   "outputs": [],
   "source": [
    "submit = pd.DataFrame(gbm.predict(X_test), index=test.index, columns=['target'])"
   ]
  },
  {
   "cell_type": "code",
   "execution_count": 29,
   "metadata": {},
   "outputs": [],
   "source": [
    "submit.to_csv('D:\\\\Work\\\\data\\\\bank\\\\submit.csv')"
   ]
  }
 ],
 "metadata": {
  "kernelspec": {
   "display_name": "Python 3",
   "language": "python",
   "name": "python3"
  },
  "language_info": {
   "codemirror_mode": {
    "name": "ipython",
    "version": 3
   },
   "file_extension": ".py",
   "mimetype": "text/x-python",
   "name": "python",
   "nbconvert_exporter": "python",
   "pygments_lexer": "ipython3",
   "version": "3.8.3"
  }
 },
 "nbformat": 4,
 "nbformat_minor": 2
}
